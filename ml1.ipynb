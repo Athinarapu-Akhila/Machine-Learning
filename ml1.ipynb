{
  "nbformat": 4,
  "nbformat_minor": 0,
  "metadata": {
    "colab": {
      "provenance": []
    },
    "kernelspec": {
      "name": "python3",
      "display_name": "Python 3"
    },
    "language_info": {
      "name": "python"
    }
  },
  "cells": [
    {
      "cell_type": "code",
      "execution_count": null,
      "metadata": {
        "colab": {
          "base_uri": "https://localhost:8080/"
        },
        "id": "pIV8oTrJitLZ",
        "outputId": "cf4eca44-ba79-4921-8fb2-d277f94b1307"
      },
      "outputs": [
        {
          "output_type": "stream",
          "name": "stdout",
          "text": [
            "30\n",
            "<class 'int'>\n",
            "<class 'float'>\n",
            "<class 'complex'>\n",
            "<class 'str'>\n"
          ]
        }
      ],
      "source": [
        "a=10\n",
        "b=20\n",
        "c=20.4\n",
        "d=2+3j\n",
        "e='python'\n",
        "print(a+b)\n",
        "print(type(a))\n",
        "print(type(c))\n",
        "print(type(d))\n",
        "print(type(e))"
      ]
    },
    {
      "cell_type": "code",
      "source": [
        "a=int(input(\"Enter a value:\"))\n",
        "b=int(input(\"enter b value:\"))\n",
        "print(\"add=\",a+b)\n",
        "print(\"sub=\",a-b)\n",
        "print(\"mul=\",a*b)\n",
        "print(\"div=\",a/b)\n",
        "print(\"mod=\",a%b)"
      ],
      "metadata": {
        "colab": {
          "base_uri": "https://localhost:8080/"
        },
        "id": "xsztuefmkyfT",
        "outputId": "c603e244-c6fe-4f7e-d323-978a0cad6613"
      },
      "execution_count": null,
      "outputs": [
        {
          "output_type": "stream",
          "name": "stdout",
          "text": [
            "Enter a value:2\n",
            "enter b value:3\n",
            "add= 5\n",
            "sub= -1\n",
            "mul= 6\n",
            "div= 0.6666666666666666\n",
            "mod= 2\n"
          ]
        }
      ]
    },
    {
      "cell_type": "code",
      "source": [
        "a=20.5\n",
        "b=30.2\n",
        "print(\"add=\",a+b)\n",
        "print(\"sub=\",a-b)\n",
        "print(\"mul=\",a*b)\n",
        "print(\"div=\",a/b)\n",
        "print(\"mod=\",a%b)"
      ],
      "metadata": {
        "colab": {
          "base_uri": "https://localhost:8080/"
        },
        "id": "lRKkZxctqfbh",
        "outputId": "707d88ca-450a-4565-ea42-d8f40f34a690"
      },
      "execution_count": null,
      "outputs": [
        {
          "output_type": "stream",
          "name": "stdout",
          "text": [
            "add= 50.7\n",
            "sub= -9.7\n",
            "mul= 619.1\n",
            "div= 0.6788079470198676\n",
            "mod= 20.5\n"
          ]
        }
      ]
    },
    {
      "cell_type": "code",
      "source": [
        "d=2+3j\n",
        "print(type(d))"
      ],
      "metadata": {
        "colab": {
          "base_uri": "https://localhost:8080/"
        },
        "id": "gjvLkkrgjHBp",
        "outputId": "f8d6b661-f7e7-4ac8-82fb-d96d8ce3cf77"
      },
      "execution_count": null,
      "outputs": [
        {
          "output_type": "stream",
          "name": "stdout",
          "text": [
            "<class 'complex'>\n"
          ]
        }
      ]
    },
    {
      "cell_type": "code",
      "source": [
        "c=10\n",
        "d=20.2\n",
        "e=complex(c)\n",
        "print(e)\n",
        "e=complex(c,d)\n",
        "print(e)\n",
        "a=2+3j\n",
        "b=4+5j\n",
        "print(\"add=\",a+b)\n",
        "print(\"sub=\",a-b)\n",
        "print(\"mul=\",a*b)\n",
        "print(\"division=\",a/b)"
      ],
      "metadata": {
        "colab": {
          "base_uri": "https://localhost:8080/"
        },
        "id": "dIfTQHatjkcH",
        "outputId": "8278621c-7da9-45c3-90cc-94e196910248"
      },
      "execution_count": null,
      "outputs": [
        {
          "output_type": "stream",
          "name": "stdout",
          "text": [
            "(10+0j)\n",
            "(10+20.2j)\n",
            "add= (6+8j)\n",
            "sub= (-2-2j)\n",
            "mul= (-7+22j)\n",
            "division= (0.5609756097560976+0.0487804878048781j)\n"
          ]
        }
      ]
    },
    {
      "cell_type": "code",
      "source": [
        "a=\"python\"\n",
        "print(a[0])\n",
        "print(a[-2])\n",
        "print(a[1:4])\n",
        "print(a[:3])\n",
        "print(a.upper())\n",
        "print(a.isalpha())\n",
        "print(a.isdigit())\n",
        "print(a.index('t'))\n",
        "print(a.split(\"y\"))"
      ],
      "metadata": {
        "colab": {
          "base_uri": "https://localhost:8080/"
        },
        "id": "IqDbmMIbkJhB",
        "outputId": "b35f5d3e-b89b-4379-c9c7-c3efb99f380e"
      },
      "execution_count": null,
      "outputs": [
        {
          "output_type": "stream",
          "name": "stdout",
          "text": [
            "p\n",
            "o\n",
            "yth\n",
            "pyt\n",
            "PYTHON\n",
            "True\n",
            "False\n",
            "2\n",
            "['p', 'thon']\n"
          ]
        }
      ]
    },
    {
      "cell_type": "code",
      "source": [
        "n=int(input(\"Enter any number for multiplication table:\"))\n",
        "for i in range(1,11):\n",
        "  print(n,\"*\",i,\"=\",n*i)"
      ],
      "metadata": {
        "colab": {
          "base_uri": "https://localhost:8080/"
        },
        "id": "vnchqrkUusB-",
        "outputId": "d7d7561c-961c-4119-f0a6-e7f9af47e539"
      },
      "execution_count": null,
      "outputs": [
        {
          "output_type": "stream",
          "name": "stdout",
          "text": [
            "Enter any number for multiplication table:5\n",
            "5 * 1 = 5\n",
            "5 * 2 = 10\n",
            "5 * 3 = 15\n",
            "5 * 4 = 20\n",
            "5 * 5 = 25\n",
            "5 * 6 = 30\n",
            "5 * 7 = 35\n",
            "5 * 8 = 40\n",
            "5 * 9 = 45\n",
            "5 * 10 = 50\n"
          ]
        }
      ]
    }
  ]
}