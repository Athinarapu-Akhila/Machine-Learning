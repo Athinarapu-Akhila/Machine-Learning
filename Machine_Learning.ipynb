{
  "cells": [
    {
      "cell_type": "markdown",
      "metadata": {
        "id": "Q0CG8ddLJEUJ"
      },
      "source": [
        "# loc and iloc"
      ]
    },
    {
      "cell_type": "code",
      "execution_count": null,
      "metadata": {
        "id": "Q1ljMD-JJEUN",
        "outputId": "f470082c-c31f-477e-83a2-397041c3dba8"
      },
      "outputs": [
        {
          "data": {
            "text/html": [
              "<div>\n",
              "<style scoped>\n",
              "    .dataframe tbody tr th:only-of-type {\n",
              "        vertical-align: middle;\n",
              "    }\n",
              "\n",
              "    .dataframe tbody tr th {\n",
              "        vertical-align: top;\n",
              "    }\n",
              "\n",
              "    .dataframe thead th {\n",
              "        text-align: right;\n",
              "    }\n",
              "</style>\n",
              "<table border=\"1\" class=\"dataframe\">\n",
              "  <thead>\n",
              "    <tr style=\"text-align: right;\">\n",
              "      <th></th>\n",
              "      <th>first_name</th>\n",
              "      <th>last_name</th>\n",
              "      <th>company_name</th>\n",
              "      <th>address</th>\n",
              "      <th>city</th>\n",
              "      <th>county</th>\n",
              "      <th>postal</th>\n",
              "      <th>phone1</th>\n",
              "      <th>phone2</th>\n",
              "      <th>email</th>\n",
              "      <th>web</th>\n",
              "    </tr>\n",
              "  </thead>\n",
              "  <tbody>\n",
              "    <tr>\n",
              "      <th>0</th>\n",
              "      <td>Aleshia</td>\n",
              "      <td>Tomkiewicz</td>\n",
              "      <td>Alan D Rosenburg Cpa Pc</td>\n",
              "      <td>14 Taylor St</td>\n",
              "      <td>St. Stephens Ward</td>\n",
              "      <td>Kent</td>\n",
              "      <td>CT2 7PP</td>\n",
              "      <td>01835-703597</td>\n",
              "      <td>01944-369967</td>\n",
              "      <td>atomkiewicz@hotmail.com</td>\n",
              "      <td>http://www.alandrosenburgcpapc.co.uk</td>\n",
              "    </tr>\n",
              "    <tr>\n",
              "      <th>1</th>\n",
              "      <td>Evan</td>\n",
              "      <td>Zigomalas</td>\n",
              "      <td>Cap Gemini America</td>\n",
              "      <td>5 Binney St</td>\n",
              "      <td>Abbey Ward</td>\n",
              "      <td>Buckinghamshire</td>\n",
              "      <td>HP11 2AX</td>\n",
              "      <td>01937-864715</td>\n",
              "      <td>01714-737668</td>\n",
              "      <td>evan.zigomalas@gmail.com</td>\n",
              "      <td>http://www.capgeminiamerica.co.uk</td>\n",
              "    </tr>\n",
              "    <tr>\n",
              "      <th>2</th>\n",
              "      <td>France</td>\n",
              "      <td>Andrade</td>\n",
              "      <td>Elliott, John W Esq</td>\n",
              "      <td>8 Moor Place</td>\n",
              "      <td>East Southbourne and Tuckton W</td>\n",
              "      <td>Bournemouth</td>\n",
              "      <td>BH6 3BE</td>\n",
              "      <td>01347-368222</td>\n",
              "      <td>01935-821636</td>\n",
              "      <td>france.andrade@hotmail.com</td>\n",
              "      <td>http://www.elliottjohnwesq.co.uk</td>\n",
              "    </tr>\n",
              "    <tr>\n",
              "      <th>3</th>\n",
              "      <td>Ulysses</td>\n",
              "      <td>Mcwalters</td>\n",
              "      <td>Mcmahan, Ben L</td>\n",
              "      <td>505 Exeter Rd</td>\n",
              "      <td>Hawerby cum Beesby</td>\n",
              "      <td>Lincolnshire</td>\n",
              "      <td>DN36 5RP</td>\n",
              "      <td>01912-771311</td>\n",
              "      <td>01302-601380</td>\n",
              "      <td>ulysses@hotmail.com</td>\n",
              "      <td>http://www.mcmahanbenl.co.uk</td>\n",
              "    </tr>\n",
              "    <tr>\n",
              "      <th>4</th>\n",
              "      <td>Tyisha</td>\n",
              "      <td>Veness</td>\n",
              "      <td>Champagne Room</td>\n",
              "      <td>5396 Forth Street</td>\n",
              "      <td>Greets Green and Lyng Ward</td>\n",
              "      <td>West Midlands</td>\n",
              "      <td>B70 9DT</td>\n",
              "      <td>01547-429341</td>\n",
              "      <td>01290-367248</td>\n",
              "      <td>tyisha.veness@hotmail.com</td>\n",
              "      <td>http://www.champagneroom.co.uk</td>\n",
              "    </tr>\n",
              "  </tbody>\n",
              "</table>\n",
              "</div>"
            ],
            "text/plain": [
              "  first_name   last_name             company_name            address  \\\n",
              "0    Aleshia  Tomkiewicz  Alan D Rosenburg Cpa Pc       14 Taylor St   \n",
              "1       Evan   Zigomalas       Cap Gemini America        5 Binney St   \n",
              "2     France     Andrade      Elliott, John W Esq       8 Moor Place   \n",
              "3    Ulysses   Mcwalters           Mcmahan, Ben L      505 Exeter Rd   \n",
              "4     Tyisha      Veness           Champagne Room  5396 Forth Street   \n",
              "\n",
              "                             city           county    postal        phone1  \\\n",
              "0               St. Stephens Ward             Kent   CT2 7PP  01835-703597   \n",
              "1                      Abbey Ward  Buckinghamshire  HP11 2AX  01937-864715   \n",
              "2  East Southbourne and Tuckton W      Bournemouth   BH6 3BE  01347-368222   \n",
              "3              Hawerby cum Beesby     Lincolnshire  DN36 5RP  01912-771311   \n",
              "4      Greets Green and Lyng Ward    West Midlands   B70 9DT  01547-429341   \n",
              "\n",
              "         phone2                       email  \\\n",
              "0  01944-369967     atomkiewicz@hotmail.com   \n",
              "1  01714-737668    evan.zigomalas@gmail.com   \n",
              "2  01935-821636  france.andrade@hotmail.com   \n",
              "3  01302-601380         ulysses@hotmail.com   \n",
              "4  01290-367248   tyisha.veness@hotmail.com   \n",
              "\n",
              "                                    web  \n",
              "0  http://www.alandrosenburgcpapc.co.uk  \n",
              "1     http://www.capgeminiamerica.co.uk  \n",
              "2      http://www.elliottjohnwesq.co.uk  \n",
              "3          http://www.mcmahanbenl.co.uk  \n",
              "4        http://www.champagneroom.co.uk  "
            ]
          },
          "execution_count": 72,
          "metadata": {},
          "output_type": "execute_result"
        }
      ],
      "source": [
        "import pandas as pd\n",
        "import random\n",
        "data=pd.read_csv('https://s3-eu-west-1.amazonaws.com/shanebucket/downloads/uk-500.csv')\n",
        "data.head(5)"
      ]
    },
    {
      "cell_type": "code",
      "execution_count": null,
      "metadata": {
        "id": "xAhI1y8vJEUU",
        "outputId": "46ca2ffb-140a-42cb-b7e5-edac7d3aa25e"
      },
      "outputs": [
        {
          "data": {
            "text/html": [
              "<div>\n",
              "<style scoped>\n",
              "    .dataframe tbody tr th:only-of-type {\n",
              "        vertical-align: middle;\n",
              "    }\n",
              "\n",
              "    .dataframe tbody tr th {\n",
              "        vertical-align: top;\n",
              "    }\n",
              "\n",
              "    .dataframe thead th {\n",
              "        text-align: right;\n",
              "    }\n",
              "</style>\n",
              "<table border=\"1\" class=\"dataframe\">\n",
              "  <thead>\n",
              "    <tr style=\"text-align: right;\">\n",
              "      <th></th>\n",
              "      <th>first_name</th>\n",
              "      <th>last_name</th>\n",
              "      <th>company_name</th>\n",
              "      <th>address</th>\n",
              "      <th>city</th>\n",
              "      <th>county</th>\n",
              "      <th>postal</th>\n",
              "      <th>phone1</th>\n",
              "      <th>phone2</th>\n",
              "      <th>email</th>\n",
              "      <th>web</th>\n",
              "    </tr>\n",
              "  </thead>\n",
              "  <tbody>\n",
              "    <tr>\n",
              "      <th>495</th>\n",
              "      <td>Avery</td>\n",
              "      <td>Veit</td>\n",
              "      <td>Plaza Gourmet Delicatessen</td>\n",
              "      <td>9166 Devon St #905</td>\n",
              "      <td>Knightsbridge and Belgravia Wa</td>\n",
              "      <td>Greater London</td>\n",
              "      <td>SW1W 8JY</td>\n",
              "      <td>01748-625058</td>\n",
              "      <td>01369-185737</td>\n",
              "      <td>avery@veit.co.uk</td>\n",
              "      <td>http://www.plazagourmetdelicatessen.co.uk</td>\n",
              "    </tr>\n",
              "    <tr>\n",
              "      <th>496</th>\n",
              "      <td>Reid</td>\n",
              "      <td>Euresti</td>\n",
              "      <td>Fitzgerald, Edward J</td>\n",
              "      <td>70 Foster St</td>\n",
              "      <td>Inverness Ness-Side Ward</td>\n",
              "      <td>Highland</td>\n",
              "      <td>IV2 6WT</td>\n",
              "      <td>01916-963261</td>\n",
              "      <td>01370-319414</td>\n",
              "      <td>reuresti@euresti.co.uk</td>\n",
              "      <td>http://www.fitzgeraldedwardj.co.uk</td>\n",
              "    </tr>\n",
              "    <tr>\n",
              "      <th>497</th>\n",
              "      <td>Charlette</td>\n",
              "      <td>Brenning</td>\n",
              "      <td>Furey &amp; Associates</td>\n",
              "      <td>714 Fonthill Rd</td>\n",
              "      <td>Darton West Ward</td>\n",
              "      <td>South Yorkshire</td>\n",
              "      <td>S75 5EJ</td>\n",
              "      <td>01888-152110</td>\n",
              "      <td>01301-312487</td>\n",
              "      <td>cbrenning@brenning.co.uk</td>\n",
              "      <td>http://www.fureyassociates.co.uk</td>\n",
              "    </tr>\n",
              "    <tr>\n",
              "      <th>498</th>\n",
              "      <td>Celestina</td>\n",
              "      <td>Keeny</td>\n",
              "      <td>Bfg Federal Credit Union</td>\n",
              "      <td>9 Milton St</td>\n",
              "      <td>Consett North ED</td>\n",
              "      <td>County Durham</td>\n",
              "      <td>DH8 5LP</td>\n",
              "      <td>01877-379681</td>\n",
              "      <td>01600-463475</td>\n",
              "      <td>celestina_keeny@gmail.com</td>\n",
              "      <td>http://www.bfgfederalcreditunion.co.uk</td>\n",
              "    </tr>\n",
              "    <tr>\n",
              "      <th>499</th>\n",
              "      <td>Mi</td>\n",
              "      <td>Richan</td>\n",
              "      <td>Nelson Wright Haworth Golf Crs</td>\n",
              "      <td>6 Norwood Grove</td>\n",
              "      <td>Tanworth-in-Arden</td>\n",
              "      <td>Warwickshire</td>\n",
              "      <td>B94 5RZ</td>\n",
              "      <td>01451-785624</td>\n",
              "      <td>01202-738406</td>\n",
              "      <td>mi@hotmail.com</td>\n",
              "      <td>http://www.nelsonwrighthaworthgolfcrs.co.uk</td>\n",
              "    </tr>\n",
              "  </tbody>\n",
              "</table>\n",
              "</div>"
            ],
            "text/plain": [
              "    first_name last_name                    company_name             address  \\\n",
              "495      Avery      Veit      Plaza Gourmet Delicatessen  9166 Devon St #905   \n",
              "496       Reid   Euresti            Fitzgerald, Edward J        70 Foster St   \n",
              "497  Charlette  Brenning              Furey & Associates     714 Fonthill Rd   \n",
              "498  Celestina     Keeny        Bfg Federal Credit Union         9 Milton St   \n",
              "499         Mi    Richan  Nelson Wright Haworth Golf Crs     6 Norwood Grove   \n",
              "\n",
              "                               city           county    postal        phone1  \\\n",
              "495  Knightsbridge and Belgravia Wa   Greater London  SW1W 8JY  01748-625058   \n",
              "496        Inverness Ness-Side Ward         Highland   IV2 6WT  01916-963261   \n",
              "497                Darton West Ward  South Yorkshire   S75 5EJ  01888-152110   \n",
              "498                Consett North ED    County Durham   DH8 5LP  01877-379681   \n",
              "499               Tanworth-in-Arden     Warwickshire   B94 5RZ  01451-785624   \n",
              "\n",
              "           phone2                      email  \\\n",
              "495  01369-185737           avery@veit.co.uk   \n",
              "496  01370-319414     reuresti@euresti.co.uk   \n",
              "497  01301-312487   cbrenning@brenning.co.uk   \n",
              "498  01600-463475  celestina_keeny@gmail.com   \n",
              "499  01202-738406             mi@hotmail.com   \n",
              "\n",
              "                                             web  \n",
              "495    http://www.plazagourmetdelicatessen.co.uk  \n",
              "496           http://www.fitzgeraldedwardj.co.uk  \n",
              "497             http://www.fureyassociates.co.uk  \n",
              "498       http://www.bfgfederalcreditunion.co.uk  \n",
              "499  http://www.nelsonwrighthaworthgolfcrs.co.uk  "
            ]
          },
          "execution_count": 73,
          "metadata": {},
          "output_type": "execute_result"
        }
      ],
      "source": [
        "data.tail(5)"
      ]
    },
    {
      "cell_type": "code",
      "execution_count": null,
      "metadata": {
        "id": "gJwi53VLJEUV",
        "outputId": "f32913a2-da9f-4db9-a3c7-f38427c701c2"
      },
      "outputs": [
        {
          "data": {
            "text/plain": [
              "first_name                                   Aleshia\n",
              "last_name                                 Tomkiewicz\n",
              "company_name                 Alan D Rosenburg Cpa Pc\n",
              "address                                 14 Taylor St\n",
              "city                               St. Stephens Ward\n",
              "county                                          Kent\n",
              "postal                                       CT2 7PP\n",
              "phone1                                  01835-703597\n",
              "phone2                                  01944-369967\n",
              "email                        atomkiewicz@hotmail.com\n",
              "web             http://www.alandrosenburgcpapc.co.uk\n",
              "Name: 0, dtype: object"
            ]
          },
          "execution_count": 74,
          "metadata": {},
          "output_type": "execute_result"
        }
      ],
      "source": [
        "data.iloc[0]"
      ]
    },
    {
      "cell_type": "code",
      "execution_count": null,
      "metadata": {
        "id": "1GaWZGH_JEUX",
        "outputId": "6e6b5364-0d1c-41b4-c9b4-dc2e12d322d0"
      },
      "outputs": [
        {
          "data": {
            "text/plain": [
              "'Aleshia'"
            ]
          },
          "execution_count": 75,
          "metadata": {},
          "output_type": "execute_result"
        }
      ],
      "source": [
        "data.iloc[0][0]"
      ]
    },
    {
      "cell_type": "code",
      "execution_count": null,
      "metadata": {
        "id": "rRlVRkwiJEUY",
        "outputId": "a8509b01-a8df-40c3-fb9c-d36eb2071da1"
      },
      "outputs": [
        {
          "data": {
            "text/plain": [
              "'Alan D Rosenburg Cpa Pc'"
            ]
          },
          "execution_count": 76,
          "metadata": {},
          "output_type": "execute_result"
        }
      ],
      "source": [
        "data.iloc[0][2]"
      ]
    },
    {
      "cell_type": "code",
      "execution_count": null,
      "metadata": {
        "id": "aiNVlToCJEUZ",
        "outputId": "3e11cc05-361c-483e-f1fe-f43616bffde5"
      },
      "outputs": [
        {
          "data": {
            "text/html": [
              "<div>\n",
              "<style scoped>\n",
              "    .dataframe tbody tr th:only-of-type {\n",
              "        vertical-align: middle;\n",
              "    }\n",
              "\n",
              "    .dataframe tbody tr th {\n",
              "        vertical-align: top;\n",
              "    }\n",
              "\n",
              "    .dataframe thead th {\n",
              "        text-align: right;\n",
              "    }\n",
              "</style>\n",
              "<table border=\"1\" class=\"dataframe\">\n",
              "  <thead>\n",
              "    <tr style=\"text-align: right;\">\n",
              "      <th></th>\n",
              "      <th>first_name</th>\n",
              "      <th>last_name</th>\n",
              "      <th>company_name</th>\n",
              "      <th>address</th>\n",
              "      <th>city</th>\n",
              "      <th>county</th>\n",
              "      <th>postal</th>\n",
              "      <th>phone1</th>\n",
              "      <th>phone2</th>\n",
              "      <th>email</th>\n",
              "      <th>web</th>\n",
              "    </tr>\n",
              "  </thead>\n",
              "  <tbody>\n",
              "    <tr>\n",
              "      <th>2</th>\n",
              "      <td>France</td>\n",
              "      <td>Andrade</td>\n",
              "      <td>Elliott, John W Esq</td>\n",
              "      <td>8 Moor Place</td>\n",
              "      <td>East Southbourne and Tuckton W</td>\n",
              "      <td>Bournemouth</td>\n",
              "      <td>BH6 3BE</td>\n",
              "      <td>01347-368222</td>\n",
              "      <td>01935-821636</td>\n",
              "      <td>france.andrade@hotmail.com</td>\n",
              "      <td>http://www.elliottjohnwesq.co.uk</td>\n",
              "    </tr>\n",
              "    <tr>\n",
              "      <th>3</th>\n",
              "      <td>Ulysses</td>\n",
              "      <td>Mcwalters</td>\n",
              "      <td>Mcmahan, Ben L</td>\n",
              "      <td>505 Exeter Rd</td>\n",
              "      <td>Hawerby cum Beesby</td>\n",
              "      <td>Lincolnshire</td>\n",
              "      <td>DN36 5RP</td>\n",
              "      <td>01912-771311</td>\n",
              "      <td>01302-601380</td>\n",
              "      <td>ulysses@hotmail.com</td>\n",
              "      <td>http://www.mcmahanbenl.co.uk</td>\n",
              "    </tr>\n",
              "  </tbody>\n",
              "</table>\n",
              "</div>"
            ],
            "text/plain": [
              "  first_name  last_name         company_name        address  \\\n",
              "2     France    Andrade  Elliott, John W Esq   8 Moor Place   \n",
              "3    Ulysses  Mcwalters       Mcmahan, Ben L  505 Exeter Rd   \n",
              "\n",
              "                             city        county    postal        phone1  \\\n",
              "2  East Southbourne and Tuckton W   Bournemouth   BH6 3BE  01347-368222   \n",
              "3              Hawerby cum Beesby  Lincolnshire  DN36 5RP  01912-771311   \n",
              "\n",
              "         phone2                       email                               web  \n",
              "2  01935-821636  france.andrade@hotmail.com  http://www.elliottjohnwesq.co.uk  \n",
              "3  01302-601380         ulysses@hotmail.com      http://www.mcmahanbenl.co.uk  "
            ]
          },
          "execution_count": 77,
          "metadata": {},
          "output_type": "execute_result"
        }
      ],
      "source": [
        "data.iloc[2:4]"
      ]
    },
    {
      "cell_type": "code",
      "execution_count": null,
      "metadata": {
        "id": "lbegVqPyJEUb",
        "outputId": "d0694f3d-6063-441c-ea2c-4d40358a340e"
      },
      "outputs": [
        {
          "data": {
            "text/html": [
              "<div>\n",
              "<style scoped>\n",
              "    .dataframe tbody tr th:only-of-type {\n",
              "        vertical-align: middle;\n",
              "    }\n",
              "\n",
              "    .dataframe tbody tr th {\n",
              "        vertical-align: top;\n",
              "    }\n",
              "\n",
              "    .dataframe thead th {\n",
              "        text-align: right;\n",
              "    }\n",
              "</style>\n",
              "<table border=\"1\" class=\"dataframe\">\n",
              "  <thead>\n",
              "    <tr style=\"text-align: right;\">\n",
              "      <th></th>\n",
              "      <th>first_name</th>\n",
              "      <th>last_name</th>\n",
              "      <th>company_name</th>\n",
              "    </tr>\n",
              "  </thead>\n",
              "  <tbody>\n",
              "    <tr>\n",
              "      <th>0</th>\n",
              "      <td>Aleshia</td>\n",
              "      <td>Tomkiewicz</td>\n",
              "      <td>Alan D Rosenburg Cpa Pc</td>\n",
              "    </tr>\n",
              "    <tr>\n",
              "      <th>1</th>\n",
              "      <td>Evan</td>\n",
              "      <td>Zigomalas</td>\n",
              "      <td>Cap Gemini America</td>\n",
              "    </tr>\n",
              "    <tr>\n",
              "      <th>2</th>\n",
              "      <td>France</td>\n",
              "      <td>Andrade</td>\n",
              "      <td>Elliott, John W Esq</td>\n",
              "    </tr>\n",
              "  </tbody>\n",
              "</table>\n",
              "</div>"
            ],
            "text/plain": [
              "  first_name   last_name             company_name\n",
              "0    Aleshia  Tomkiewicz  Alan D Rosenburg Cpa Pc\n",
              "1       Evan   Zigomalas       Cap Gemini America\n",
              "2     France     Andrade      Elliott, John W Esq"
            ]
          },
          "execution_count": 78,
          "metadata": {},
          "output_type": "execute_result"
        }
      ],
      "source": [
        "data.iloc[0:3,0:3]"
      ]
    },
    {
      "cell_type": "code",
      "execution_count": null,
      "metadata": {
        "id": "GINJpDFCJEUd",
        "outputId": "c38967f0-4999-4f27-acaf-96524fdae85c"
      },
      "outputs": [
        {
          "data": {
            "text/html": [
              "<div>\n",
              "<style scoped>\n",
              "    .dataframe tbody tr th:only-of-type {\n",
              "        vertical-align: middle;\n",
              "    }\n",
              "\n",
              "    .dataframe tbody tr th {\n",
              "        vertical-align: top;\n",
              "    }\n",
              "\n",
              "    .dataframe thead th {\n",
              "        text-align: right;\n",
              "    }\n",
              "</style>\n",
              "<table border=\"1\" class=\"dataframe\">\n",
              "  <thead>\n",
              "    <tr style=\"text-align: right;\">\n",
              "      <th></th>\n",
              "      <th>first_name</th>\n",
              "      <th>last_name</th>\n",
              "    </tr>\n",
              "  </thead>\n",
              "  <tbody>\n",
              "    <tr>\n",
              "      <th>0</th>\n",
              "      <td>Aleshia</td>\n",
              "      <td>Tomkiewicz</td>\n",
              "    </tr>\n",
              "    <tr>\n",
              "      <th>1</th>\n",
              "      <td>Evan</td>\n",
              "      <td>Zigomalas</td>\n",
              "    </tr>\n",
              "    <tr>\n",
              "      <th>2</th>\n",
              "      <td>France</td>\n",
              "      <td>Andrade</td>\n",
              "    </tr>\n",
              "    <tr>\n",
              "      <th>3</th>\n",
              "      <td>Ulysses</td>\n",
              "      <td>Mcwalters</td>\n",
              "    </tr>\n",
              "    <tr>\n",
              "      <th>4</th>\n",
              "      <td>Tyisha</td>\n",
              "      <td>Veness</td>\n",
              "    </tr>\n",
              "    <tr>\n",
              "      <th>...</th>\n",
              "      <td>...</td>\n",
              "      <td>...</td>\n",
              "    </tr>\n",
              "    <tr>\n",
              "      <th>495</th>\n",
              "      <td>Avery</td>\n",
              "      <td>Veit</td>\n",
              "    </tr>\n",
              "    <tr>\n",
              "      <th>496</th>\n",
              "      <td>Reid</td>\n",
              "      <td>Euresti</td>\n",
              "    </tr>\n",
              "    <tr>\n",
              "      <th>497</th>\n",
              "      <td>Charlette</td>\n",
              "      <td>Brenning</td>\n",
              "    </tr>\n",
              "    <tr>\n",
              "      <th>498</th>\n",
              "      <td>Celestina</td>\n",
              "      <td>Keeny</td>\n",
              "    </tr>\n",
              "    <tr>\n",
              "      <th>499</th>\n",
              "      <td>Mi</td>\n",
              "      <td>Richan</td>\n",
              "    </tr>\n",
              "  </tbody>\n",
              "</table>\n",
              "<p>500 rows × 2 columns</p>\n",
              "</div>"
            ],
            "text/plain": [
              "    first_name   last_name\n",
              "0      Aleshia  Tomkiewicz\n",
              "1         Evan   Zigomalas\n",
              "2       France     Andrade\n",
              "3      Ulysses   Mcwalters\n",
              "4       Tyisha      Veness\n",
              "..         ...         ...\n",
              "495      Avery        Veit\n",
              "496       Reid     Euresti\n",
              "497  Charlette    Brenning\n",
              "498  Celestina       Keeny\n",
              "499         Mi      Richan\n",
              "\n",
              "[500 rows x 2 columns]"
            ]
          },
          "execution_count": 79,
          "metadata": {},
          "output_type": "execute_result"
        }
      ],
      "source": [
        "data.iloc[:,0:2]"
      ]
    },
    {
      "cell_type": "code",
      "execution_count": null,
      "metadata": {
        "id": "wvESBkbTJEUe",
        "outputId": "4bb27b00-fefe-41b9-8483-61d64f830461"
      },
      "outputs": [
        {
          "data": {
            "text/html": [
              "<div>\n",
              "<style scoped>\n",
              "    .dataframe tbody tr th:only-of-type {\n",
              "        vertical-align: middle;\n",
              "    }\n",
              "\n",
              "    .dataframe tbody tr th {\n",
              "        vertical-align: top;\n",
              "    }\n",
              "\n",
              "    .dataframe thead th {\n",
              "        text-align: right;\n",
              "    }\n",
              "</style>\n",
              "<table border=\"1\" class=\"dataframe\">\n",
              "  <thead>\n",
              "    <tr style=\"text-align: right;\">\n",
              "      <th></th>\n",
              "      <th>first_name</th>\n",
              "      <th>last_name</th>\n",
              "      <th>company_name</th>\n",
              "      <th>address</th>\n",
              "      <th>city</th>\n",
              "      <th>county</th>\n",
              "      <th>postal</th>\n",
              "      <th>phone1</th>\n",
              "      <th>phone2</th>\n",
              "      <th>email</th>\n",
              "      <th>web</th>\n",
              "      <th>id</th>\n",
              "    </tr>\n",
              "  </thead>\n",
              "  <tbody>\n",
              "    <tr>\n",
              "      <th>35</th>\n",
              "      <td>Alethea</td>\n",
              "      <td>Mould</td>\n",
              "      <td>Hughlett, Henry T Jr</td>\n",
              "      <td>6305 Elstow St</td>\n",
              "      <td>Castle Ward</td>\n",
              "      <td>West Sussex</td>\n",
              "      <td>BN12 6PR</td>\n",
              "      <td>01662-114247</td>\n",
              "      <td>01351-868965</td>\n",
              "      <td>alethea@hotmail.com</td>\n",
              "      <td>http://www.hughletthenrytjr.co.uk</td>\n",
              "      <td>9</td>\n",
              "    </tr>\n",
              "    <tr>\n",
              "      <th>117</th>\n",
              "      <td>Frankie</td>\n",
              "      <td>Marruffo</td>\n",
              "      <td>Paralegal Personnel</td>\n",
              "      <td>52 Morningside Rd #1</td>\n",
              "      <td>Cilybebyll Community</td>\n",
              "      <td>Neath Port Talbot</td>\n",
              "      <td>SA8 3HE</td>\n",
              "      <td>01295-678319</td>\n",
              "      <td>01966-999493</td>\n",
              "      <td>fmarruffo@gmail.com</td>\n",
              "      <td>http://www.paralegalpersonnel.co.uk</td>\n",
              "      <td>9</td>\n",
              "    </tr>\n",
              "  </tbody>\n",
              "</table>\n",
              "</div>"
            ],
            "text/plain": [
              "    first_name last_name          company_name               address  \\\n",
              "35     Alethea     Mould  Hughlett, Henry T Jr        6305 Elstow St   \n",
              "117    Frankie  Marruffo   Paralegal Personnel  52 Morningside Rd #1   \n",
              "\n",
              "                     city             county    postal        phone1  \\\n",
              "35            Castle Ward        West Sussex  BN12 6PR  01662-114247   \n",
              "117  Cilybebyll Community  Neath Port Talbot   SA8 3HE  01295-678319   \n",
              "\n",
              "           phone2                email                                  web  \\\n",
              "35   01351-868965  alethea@hotmail.com    http://www.hughletthenrytjr.co.uk   \n",
              "117  01966-999493  fmarruffo@gmail.com  http://www.paralegalpersonnel.co.uk   \n",
              "\n",
              "     id  \n",
              "35    9  \n",
              "117   9  "
            ]
          },
          "execution_count": 80,
          "metadata": {},
          "output_type": "execute_result"
        }
      ],
      "source": [
        "data['id']=[random.randint(0,1000) for x in range(data.shape[0])]\n",
        "data.loc[(data['id']>7) & (data['id']<10)]"
      ]
    },
    {
      "cell_type": "code",
      "execution_count": null,
      "metadata": {
        "id": "14u1344DJEUg",
        "outputId": "c2dc97aa-90bc-41f9-de4e-779bb600ead9"
      },
      "outputs": [
        {
          "ename": "KeyError",
          "evalue": "\"None of ['last_name'] are in the columns\"",
          "output_type": "error",
          "traceback": [
            "\u001b[1;31m---------------------------------------------------------------------------\u001b[0m",
            "\u001b[1;31mKeyError\u001b[0m                                  Traceback (most recent call last)",
            "\u001b[1;32m<ipython-input-93-449aacc8a11f>\u001b[0m in \u001b[0;36m<module>\u001b[1;34m\u001b[0m\n\u001b[1;32m----> 1\u001b[1;33m \u001b[0mdata\u001b[0m\u001b[1;33m.\u001b[0m\u001b[0mset_index\u001b[0m\u001b[1;33m(\u001b[0m\u001b[1;34m\"last_name\"\u001b[0m\u001b[1;33m,\u001b[0m \u001b[0minplace\u001b[0m\u001b[1;33m=\u001b[0m\u001b[1;32mTrue\u001b[0m\u001b[1;33m)\u001b[0m\u001b[1;33m\u001b[0m\u001b[1;33m\u001b[0m\u001b[0m\n\u001b[0m\u001b[0;32m      2\u001b[0m \u001b[0mdata\u001b[0m\u001b[1;33m.\u001b[0m\u001b[0mhead\u001b[0m\u001b[1;33m(\u001b[0m\u001b[1;33m)\u001b[0m\u001b[1;33m\u001b[0m\u001b[1;33m\u001b[0m\u001b[0m\n",
            "\u001b[1;32mC:\\ProgramData\\Anaconda3\\lib\\site-packages\\pandas\\core\\frame.py\u001b[0m in \u001b[0;36mset_index\u001b[1;34m(self, keys, drop, append, inplace, verify_integrity)\u001b[0m\n\u001b[0;32m   4549\u001b[0m \u001b[1;33m\u001b[0m\u001b[0m\n\u001b[0;32m   4550\u001b[0m         \u001b[1;32mif\u001b[0m \u001b[0mmissing\u001b[0m\u001b[1;33m:\u001b[0m\u001b[1;33m\u001b[0m\u001b[1;33m\u001b[0m\u001b[0m\n\u001b[1;32m-> 4551\u001b[1;33m             \u001b[1;32mraise\u001b[0m \u001b[0mKeyError\u001b[0m\u001b[1;33m(\u001b[0m\u001b[1;34mf\"None of {missing} are in the columns\"\u001b[0m\u001b[1;33m)\u001b[0m\u001b[1;33m\u001b[0m\u001b[1;33m\u001b[0m\u001b[0m\n\u001b[0m\u001b[0;32m   4552\u001b[0m \u001b[1;33m\u001b[0m\u001b[0m\n\u001b[0;32m   4553\u001b[0m         \u001b[1;32mif\u001b[0m \u001b[0minplace\u001b[0m\u001b[1;33m:\u001b[0m\u001b[1;33m\u001b[0m\u001b[1;33m\u001b[0m\u001b[0m\n",
            "\u001b[1;31mKeyError\u001b[0m: \"None of ['last_name'] are in the columns\""
          ]
        }
      ],
      "source": [
        "data.set_index(\"last_name\", inplace=True)\n",
        "data.head()"
      ]
    },
    {
      "cell_type": "code",
      "execution_count": null,
      "metadata": {
        "id": "uXnSw8MjJEUi",
        "outputId": "a0356897-69de-4460-cc03-7dfe1c59c467"
      },
      "outputs": [
        {
          "data": {
            "text/plain": [
              "first_name                                France\n",
              "company_name                 Elliott, John W Esq\n",
              "address                             8 Moor Place\n",
              "city              East Southbourne and Tuckton W\n",
              "county                               Bournemouth\n",
              "postal                                   BH6 3BE\n",
              "phone1                              01347-368222\n",
              "phone2                              01935-821636\n",
              "email                 france.andrade@hotmail.com\n",
              "web             http://www.elliottjohnwesq.co.uk\n",
              "id                                           233\n",
              "Name: Andrade, dtype: object"
            ]
          },
          "execution_count": 92,
          "metadata": {},
          "output_type": "execute_result"
        }
      ],
      "source": [
        "data.loc['Andrade']"
      ]
    },
    {
      "cell_type": "code",
      "execution_count": null,
      "metadata": {
        "id": "wccDAIK0JEUj"
      },
      "outputs": [],
      "source": []
    },
    {
      "cell_type": "code",
      "execution_count": null,
      "metadata": {
        "id": "Iu7XeK1vJEUk",
        "outputId": "707b8270-7507-4958-a0cd-694f82897d47"
      },
      "outputs": [
        {
          "data": {
            "text/html": [
              "<div>\n",
              "<style scoped>\n",
              "    .dataframe tbody tr th:only-of-type {\n",
              "        vertical-align: middle;\n",
              "    }\n",
              "\n",
              "    .dataframe tbody tr th {\n",
              "        vertical-align: top;\n",
              "    }\n",
              "\n",
              "    .dataframe thead th {\n",
              "        text-align: right;\n",
              "    }\n",
              "</style>\n",
              "<table border=\"1\" class=\"dataframe\">\n",
              "  <thead>\n",
              "    <tr style=\"text-align: right;\">\n",
              "      <th></th>\n",
              "      <th>first_name</th>\n",
              "      <th>company_name</th>\n",
              "      <th>address</th>\n",
              "      <th>city</th>\n",
              "    </tr>\n",
              "    <tr>\n",
              "      <th>last_name</th>\n",
              "      <th></th>\n",
              "      <th></th>\n",
              "      <th></th>\n",
              "      <th></th>\n",
              "    </tr>\n",
              "  </thead>\n",
              "  <tbody>\n",
              "    <tr>\n",
              "      <th>Zigomalas</th>\n",
              "      <td>Evan</td>\n",
              "      <td>Cap Gemini America</td>\n",
              "      <td>5 Binney St</td>\n",
              "      <td>Abbey Ward</td>\n",
              "    </tr>\n",
              "  </tbody>\n",
              "</table>\n",
              "</div>"
            ],
            "text/plain": [
              "          first_name        company_name      address        city\n",
              "last_name                                                        \n",
              "Zigomalas       Evan  Cap Gemini America  5 Binney St  Abbey Ward"
            ]
          },
          "execution_count": 83,
          "metadata": {},
          "output_type": "execute_result"
        }
      ],
      "source": [
        "data.loc[data['first_name']=='Evan','first_name':'city']"
      ]
    },
    {
      "cell_type": "code",
      "execution_count": null,
      "metadata": {
        "id": "rwUgw1BrJEUl",
        "outputId": "b6656004-0074-4a58-b720-3db9fd23508c"
      },
      "outputs": [
        {
          "data": {
            "text/html": [
              "<div>\n",
              "<style scoped>\n",
              "    .dataframe tbody tr th:only-of-type {\n",
              "        vertical-align: middle;\n",
              "    }\n",
              "\n",
              "    .dataframe tbody tr th {\n",
              "        vertical-align: top;\n",
              "    }\n",
              "\n",
              "    .dataframe thead th {\n",
              "        text-align: right;\n",
              "    }\n",
              "</style>\n",
              "<table border=\"1\" class=\"dataframe\">\n",
              "  <thead>\n",
              "    <tr style=\"text-align: right;\">\n",
              "      <th></th>\n",
              "      <th>first_name</th>\n",
              "      <th>company_name</th>\n",
              "      <th>address</th>\n",
              "      <th>city</th>\n",
              "      <th>county</th>\n",
              "      <th>postal</th>\n",
              "      <th>phone1</th>\n",
              "      <th>phone2</th>\n",
              "      <th>email</th>\n",
              "      <th>web</th>\n",
              "      <th>id</th>\n",
              "    </tr>\n",
              "    <tr>\n",
              "      <th>last_name</th>\n",
              "      <th></th>\n",
              "      <th></th>\n",
              "      <th></th>\n",
              "      <th></th>\n",
              "      <th></th>\n",
              "      <th></th>\n",
              "      <th></th>\n",
              "      <th></th>\n",
              "      <th></th>\n",
              "      <th></th>\n",
              "      <th></th>\n",
              "    </tr>\n",
              "  </thead>\n",
              "  <tbody>\n",
              "    <tr>\n",
              "      <th>Neufville</th>\n",
              "      <td>Rory</td>\n",
              "      <td>Brady, Brad J Esq</td>\n",
              "      <td>5 Chadwick St #7</td>\n",
              "      <td>Llangeler Community</td>\n",
              "      <td>Ceredigion</td>\n",
              "      <td>SA44 5HF</td>\n",
              "      <td>01252-621329</td>\n",
              "      <td>01442-700486</td>\n",
              "      <td>rory_neufville@neufville.co.uk</td>\n",
              "      <td>http://www.bradybradjesq.co.uk</td>\n",
              "      <td>616</td>\n",
              "    </tr>\n",
              "    <tr>\n",
              "      <th>Gutoski</th>\n",
              "      <td>Berry</td>\n",
              "      <td>Budget Annex</td>\n",
              "      <td>9 Oakleigh</td>\n",
              "      <td>Lancing</td>\n",
              "      <td>West Sussex</td>\n",
              "      <td>BN15 9BN</td>\n",
              "      <td>01448-211489</td>\n",
              "      <td>01929-400879</td>\n",
              "      <td>berry@gmail.com</td>\n",
              "      <td>http://www.budgetannex.co.uk</td>\n",
              "      <td>113</td>\n",
              "    </tr>\n",
              "    <tr>\n",
              "      <th>Gauthier</th>\n",
              "      <td>Terry</td>\n",
              "      <td>Walker, Susan S Esq</td>\n",
              "      <td>274 Altcar Ave</td>\n",
              "      <td>Catterick</td>\n",
              "      <td>North Yorkshire</td>\n",
              "      <td>DL10 7NU</td>\n",
              "      <td>01555-550015</td>\n",
              "      <td>01793-749131</td>\n",
              "      <td>tgauthier@yahoo.com</td>\n",
              "      <td>http://www.walkersusansesq.co.uk</td>\n",
              "      <td>463</td>\n",
              "    </tr>\n",
              "    <tr>\n",
              "      <th>Wiederin</th>\n",
              "      <td>Chery</td>\n",
              "      <td>Rosenkrance, Brent</td>\n",
              "      <td>553 Picton Rd</td>\n",
              "      <td>Astley Mosley Common Ward</td>\n",
              "      <td>Greater Manchester</td>\n",
              "      <td>M29 7AA</td>\n",
              "      <td>01274-659801</td>\n",
              "      <td>01411-236922</td>\n",
              "      <td>cwiederin@yahoo.com</td>\n",
              "      <td>http://www.rosenkrancebrent.co.uk</td>\n",
              "      <td>709</td>\n",
              "    </tr>\n",
              "    <tr>\n",
              "      <th>Ona</th>\n",
              "      <td>Glory</td>\n",
              "      <td>Real Isle Properties</td>\n",
              "      <td>9830 Croxteth Rd</td>\n",
              "      <td>Pontefract North Ward</td>\n",
              "      <td>West Yorkshire</td>\n",
              "      <td>WF8 3YR</td>\n",
              "      <td>01469-868357</td>\n",
              "      <td>01535-699216</td>\n",
              "      <td>glory_ona@gmail.com</td>\n",
              "      <td>http://www.realisleproperties.co.uk</td>\n",
              "      <td>956</td>\n",
              "    </tr>\n",
              "    <tr>\n",
              "      <th>Scandalis</th>\n",
              "      <td>Berry</td>\n",
              "      <td>American Fine Foods Inc</td>\n",
              "      <td>4 Vivian St</td>\n",
              "      <td>Corporation Park Ward</td>\n",
              "      <td>Lancashire</td>\n",
              "      <td>BB2 6LB</td>\n",
              "      <td>01379-603039</td>\n",
              "      <td>01375-150068</td>\n",
              "      <td>berry.scandalis@gmail.com</td>\n",
              "      <td>http://www.americanfinefoodsinc.co.uk</td>\n",
              "      <td>289</td>\n",
              "    </tr>\n",
              "    <tr>\n",
              "      <th>Rohrs</th>\n",
              "      <td>Margery</td>\n",
              "      <td>C G Mccullough Insurance Agcy</td>\n",
              "      <td>40 Peters Lane</td>\n",
              "      <td>Long Preston</td>\n",
              "      <td>North Yorkshire</td>\n",
              "      <td>BD23 4NF</td>\n",
              "      <td>01634-340524</td>\n",
              "      <td>01933-273913</td>\n",
              "      <td>margery@hotmail.com</td>\n",
              "      <td>http://www.cgmcculloughinsuranceagcy.co.uk</td>\n",
              "      <td>46</td>\n",
              "    </tr>\n",
              "    <tr>\n",
              "      <th>Lohrenz</th>\n",
              "      <td>Ivory</td>\n",
              "      <td>Auto Body Color</td>\n",
              "      <td>9 Jackson St</td>\n",
              "      <td>Parr Ward</td>\n",
              "      <td>Merseyside</td>\n",
              "      <td>WA9 3QW</td>\n",
              "      <td>01876-642683</td>\n",
              "      <td>01651-132519</td>\n",
              "      <td>ivory@hotmail.com</td>\n",
              "      <td>http://www.autobodycolor.co.uk</td>\n",
              "      <td>174</td>\n",
              "    </tr>\n",
              "    <tr>\n",
              "      <th>Freeburger</th>\n",
              "      <td>Zachary</td>\n",
              "      <td>Country Kitchen</td>\n",
              "      <td>58 Gloucester Rd</td>\n",
              "      <td>Holbrook</td>\n",
              "      <td>Derbyshire</td>\n",
              "      <td>DE56 0TX</td>\n",
              "      <td>01888-641397</td>\n",
              "      <td>01240-433924</td>\n",
              "      <td>zachary.freeburger@freeburger.co.uk</td>\n",
              "      <td>http://www.countrykitchen.co.uk</td>\n",
              "      <td>390</td>\n",
              "    </tr>\n",
              "    <tr>\n",
              "      <th>Veit</th>\n",
              "      <td>Avery</td>\n",
              "      <td>Plaza Gourmet Delicatessen</td>\n",
              "      <td>9166 Devon St #905</td>\n",
              "      <td>Knightsbridge and Belgravia Wa</td>\n",
              "      <td>Greater London</td>\n",
              "      <td>SW1W 8JY</td>\n",
              "      <td>01748-625058</td>\n",
              "      <td>01369-185737</td>\n",
              "      <td>avery@veit.co.uk</td>\n",
              "      <td>http://www.plazagourmetdelicatessen.co.uk</td>\n",
              "      <td>225</td>\n",
              "    </tr>\n",
              "  </tbody>\n",
              "</table>\n",
              "</div>"
            ],
            "text/plain": [
              "           first_name                   company_name             address  \\\n",
              "last_name                                                                  \n",
              "Neufville        Rory              Brady, Brad J Esq    5 Chadwick St #7   \n",
              "Gutoski         Berry                   Budget Annex          9 Oakleigh   \n",
              "Gauthier        Terry            Walker, Susan S Esq      274 Altcar Ave   \n",
              "Wiederin        Chery             Rosenkrance, Brent       553 Picton Rd   \n",
              "Ona             Glory           Real Isle Properties    9830 Croxteth Rd   \n",
              "Scandalis       Berry        American Fine Foods Inc         4 Vivian St   \n",
              "Rohrs         Margery  C G Mccullough Insurance Agcy      40 Peters Lane   \n",
              "Lohrenz         Ivory                Auto Body Color        9 Jackson St   \n",
              "Freeburger    Zachary                Country Kitchen    58 Gloucester Rd   \n",
              "Veit            Avery     Plaza Gourmet Delicatessen  9166 Devon St #905   \n",
              "\n",
              "                                      city              county    postal  \\\n",
              "last_name                                                                  \n",
              "Neufville              Llangeler Community          Ceredigion  SA44 5HF   \n",
              "Gutoski                            Lancing         West Sussex  BN15 9BN   \n",
              "Gauthier                         Catterick     North Yorkshire  DL10 7NU   \n",
              "Wiederin         Astley Mosley Common Ward  Greater Manchester   M29 7AA   \n",
              "Ona                  Pontefract North Ward      West Yorkshire   WF8 3YR   \n",
              "Scandalis            Corporation Park Ward          Lancashire   BB2 6LB   \n",
              "Rohrs                         Long Preston     North Yorkshire  BD23 4NF   \n",
              "Lohrenz                          Parr Ward          Merseyside   WA9 3QW   \n",
              "Freeburger                        Holbrook          Derbyshire  DE56 0TX   \n",
              "Veit        Knightsbridge and Belgravia Wa      Greater London  SW1W 8JY   \n",
              "\n",
              "                  phone1        phone2                                email  \\\n",
              "last_name                                                                     \n",
              "Neufville   01252-621329  01442-700486       rory_neufville@neufville.co.uk   \n",
              "Gutoski     01448-211489  01929-400879                      berry@gmail.com   \n",
              "Gauthier    01555-550015  01793-749131                  tgauthier@yahoo.com   \n",
              "Wiederin    01274-659801  01411-236922                  cwiederin@yahoo.com   \n",
              "Ona         01469-868357  01535-699216                  glory_ona@gmail.com   \n",
              "Scandalis   01379-603039  01375-150068            berry.scandalis@gmail.com   \n",
              "Rohrs       01634-340524  01933-273913                  margery@hotmail.com   \n",
              "Lohrenz     01876-642683  01651-132519                    ivory@hotmail.com   \n",
              "Freeburger  01888-641397  01240-433924  zachary.freeburger@freeburger.co.uk   \n",
              "Veit        01748-625058  01369-185737                     avery@veit.co.uk   \n",
              "\n",
              "                                                   web   id  \n",
              "last_name                                                    \n",
              "Neufville               http://www.bradybradjesq.co.uk  616  \n",
              "Gutoski                   http://www.budgetannex.co.uk  113  \n",
              "Gauthier              http://www.walkersusansesq.co.uk  463  \n",
              "Wiederin             http://www.rosenkrancebrent.co.uk  709  \n",
              "Ona                http://www.realisleproperties.co.uk  956  \n",
              "Scandalis        http://www.americanfinefoodsinc.co.uk  289  \n",
              "Rohrs       http://www.cgmcculloughinsuranceagcy.co.uk   46  \n",
              "Lohrenz                 http://www.autobodycolor.co.uk  174  \n",
              "Freeburger             http://www.countrykitchen.co.uk  390  \n",
              "Veit         http://www.plazagourmetdelicatessen.co.uk  225  "
            ]
          },
          "execution_count": 84,
          "metadata": {},
          "output_type": "execute_result"
        }
      ],
      "source": [
        "data.loc[data[\"first_name\"].str.endswith(\"ry\")]"
      ]
    },
    {
      "cell_type": "code",
      "execution_count": null,
      "metadata": {
        "id": "VuyO1P_EJEUm",
        "outputId": "b18aae45-18cf-4382-f608-78cf021f01df"
      },
      "outputs": [
        {
          "data": {
            "text/html": [
              "<div>\n",
              "<style scoped>\n",
              "    .dataframe tbody tr th:only-of-type {\n",
              "        vertical-align: middle;\n",
              "    }\n",
              "\n",
              "    .dataframe tbody tr th {\n",
              "        vertical-align: top;\n",
              "    }\n",
              "\n",
              "    .dataframe thead th {\n",
              "        text-align: right;\n",
              "    }\n",
              "</style>\n",
              "<table border=\"1\" class=\"dataframe\">\n",
              "  <thead>\n",
              "    <tr style=\"text-align: right;\">\n",
              "      <th></th>\n",
              "      <th>first_name</th>\n",
              "      <th>company_name</th>\n",
              "      <th>address</th>\n",
              "      <th>city</th>\n",
              "      <th>county</th>\n",
              "      <th>postal</th>\n",
              "      <th>phone1</th>\n",
              "      <th>phone2</th>\n",
              "      <th>email</th>\n",
              "      <th>web</th>\n",
              "      <th>id</th>\n",
              "    </tr>\n",
              "    <tr>\n",
              "      <th>last_name</th>\n",
              "      <th></th>\n",
              "      <th></th>\n",
              "      <th></th>\n",
              "      <th></th>\n",
              "      <th></th>\n",
              "      <th></th>\n",
              "      <th></th>\n",
              "      <th></th>\n",
              "      <th></th>\n",
              "      <th></th>\n",
              "      <th></th>\n",
              "    </tr>\n",
              "  </thead>\n",
              "  <tbody>\n",
              "    <tr>\n",
              "      <th>Wendorf</th>\n",
              "      <td>Galen</td>\n",
              "      <td>Russell, Amelia Mosley Esq</td>\n",
              "      <td>8830 Antonio St</td>\n",
              "      <td>Gillingham North Ward</td>\n",
              "      <td>Kent</td>\n",
              "      <td>ME7 1DZ</td>\n",
              "      <td>01220-653456</td>\n",
              "      <td>01420-489285</td>\n",
              "      <td>galen.wendorf@wendorf.co.uk</td>\n",
              "      <td>http://www.russellameliamosleyesq.co.uk</td>\n",
              "      <td>890</td>\n",
              "    </tr>\n",
              "    <tr>\n",
              "      <th>Geschke</th>\n",
              "      <td>Gabriele</td>\n",
              "      <td>Levy Security Consultants Ltd</td>\n",
              "      <td>5 Garfield St #9</td>\n",
              "      <td>Milton Regis Ward</td>\n",
              "      <td>Kent</td>\n",
              "      <td>ME10 2EJ</td>\n",
              "      <td>01404-425588</td>\n",
              "      <td>01902-692529</td>\n",
              "      <td>gabriele@geschke.co.uk</td>\n",
              "      <td>http://www.levysecurityconsultantsltd.co.uk</td>\n",
              "      <td>802</td>\n",
              "    </tr>\n",
              "    <tr>\n",
              "      <th>Szumski</th>\n",
              "      <td>Gaston</td>\n",
              "      <td>Red Giant Foods Inc</td>\n",
              "      <td>8 Gullett St</td>\n",
              "      <td>West Garioch Ward</td>\n",
              "      <td>Aberdeenshire</td>\n",
              "      <td>AB51 0HT</td>\n",
              "      <td>01651-911453</td>\n",
              "      <td>01923-233578</td>\n",
              "      <td>gaston.szumski@hotmail.com</td>\n",
              "      <td>http://www.redgiantfoodsinc.co.uk</td>\n",
              "      <td>678</td>\n",
              "    </tr>\n",
              "    <tr>\n",
              "      <th>Carris</th>\n",
              "      <td>Gail</td>\n",
              "      <td>Audrey M Borland Studios</td>\n",
              "      <td>6 Conyers St #3346</td>\n",
              "      <td>Hamilton South Ward</td>\n",
              "      <td>South Lanarkshire</td>\n",
              "      <td>ML3 7TE</td>\n",
              "      <td>01292-196869</td>\n",
              "      <td>01547-190531</td>\n",
              "      <td>gcarris@hotmail.com</td>\n",
              "      <td>http://www.audreymborlandstudios.co.uk</td>\n",
              "      <td>537</td>\n",
              "    </tr>\n",
              "  </tbody>\n",
              "</table>\n",
              "</div>"
            ],
            "text/plain": [
              "          first_name                   company_name             address  \\\n",
              "last_name                                                                 \n",
              "Wendorf        Galen     Russell, Amelia Mosley Esq     8830 Antonio St   \n",
              "Geschke     Gabriele  Levy Security Consultants Ltd    5 Garfield St #9   \n",
              "Szumski       Gaston            Red Giant Foods Inc        8 Gullett St   \n",
              "Carris          Gail       Audrey M Borland Studios  6 Conyers St #3346   \n",
              "\n",
              "                            city             county    postal        phone1  \\\n",
              "last_name                                                                     \n",
              "Wendorf    Gillingham North Ward               Kent   ME7 1DZ  01220-653456   \n",
              "Geschke        Milton Regis Ward               Kent  ME10 2EJ  01404-425588   \n",
              "Szumski        West Garioch Ward      Aberdeenshire  AB51 0HT  01651-911453   \n",
              "Carris       Hamilton South Ward  South Lanarkshire   ML3 7TE  01292-196869   \n",
              "\n",
              "                 phone2                        email  \\\n",
              "last_name                                              \n",
              "Wendorf    01420-489285  galen.wendorf@wendorf.co.uk   \n",
              "Geschke    01902-692529       gabriele@geschke.co.uk   \n",
              "Szumski    01923-233578   gaston.szumski@hotmail.com   \n",
              "Carris     01547-190531          gcarris@hotmail.com   \n",
              "\n",
              "                                                   web   id  \n",
              "last_name                                                    \n",
              "Wendorf        http://www.russellameliamosleyesq.co.uk  890  \n",
              "Geschke    http://www.levysecurityconsultantsltd.co.uk  802  \n",
              "Szumski              http://www.redgiantfoodsinc.co.uk  678  \n",
              "Carris          http://www.audreymborlandstudios.co.uk  537  "
            ]
          },
          "execution_count": 87,
          "metadata": {},
          "output_type": "execute_result"
        }
      ],
      "source": [
        "data.loc[data['first_name'].str.startswith(\"Ga\")]"
      ]
    },
    {
      "cell_type": "code",
      "execution_count": null,
      "metadata": {
        "id": "aTmhY5l-JEUn",
        "outputId": "b0b11368-14fb-400a-bb3a-18abf7179bb5"
      },
      "outputs": [
        {
          "data": {
            "text/html": [
              "<div>\n",
              "<style scoped>\n",
              "    .dataframe tbody tr th:only-of-type {\n",
              "        vertical-align: middle;\n",
              "    }\n",
              "\n",
              "    .dataframe tbody tr th {\n",
              "        vertical-align: top;\n",
              "    }\n",
              "\n",
              "    .dataframe thead th {\n",
              "        text-align: right;\n",
              "    }\n",
              "</style>\n",
              "<table border=\"1\" class=\"dataframe\">\n",
              "  <thead>\n",
              "    <tr style=\"text-align: right;\">\n",
              "      <th></th>\n",
              "      <th>first_name</th>\n",
              "      <th>company_name</th>\n",
              "      <th>address</th>\n",
              "      <th>city</th>\n",
              "      <th>county</th>\n",
              "      <th>postal</th>\n",
              "      <th>phone1</th>\n",
              "      <th>phone2</th>\n",
              "      <th>email</th>\n",
              "      <th>web</th>\n",
              "      <th>id</th>\n",
              "    </tr>\n",
              "    <tr>\n",
              "      <th>last_name</th>\n",
              "      <th></th>\n",
              "      <th></th>\n",
              "      <th></th>\n",
              "      <th></th>\n",
              "      <th></th>\n",
              "      <th></th>\n",
              "      <th></th>\n",
              "      <th></th>\n",
              "      <th></th>\n",
              "      <th></th>\n",
              "      <th></th>\n",
              "    </tr>\n",
              "  </thead>\n",
              "  <tbody>\n",
              "    <tr>\n",
              "      <th>Tomkiewicz</th>\n",
              "      <td>Aleshia</td>\n",
              "      <td>Alan D Rosenburg Cpa Pc</td>\n",
              "      <td>14 Taylor St</td>\n",
              "      <td>St. Stephens Ward</td>\n",
              "      <td>Kent</td>\n",
              "      <td>CT2 7PP</td>\n",
              "      <td>01835-703597</td>\n",
              "      <td>01944-369967</td>\n",
              "      <td>atomkiewicz@hotmail.com</td>\n",
              "      <td>http://www.alandrosenburgcpapc.co.uk</td>\n",
              "      <td>587</td>\n",
              "    </tr>\n",
              "    <tr>\n",
              "      <th>Writer</th>\n",
              "      <td>Fernanda</td>\n",
              "      <td>K &amp; R Associates Inc</td>\n",
              "      <td>620 Northampton St</td>\n",
              "      <td>Wilmington</td>\n",
              "      <td>Kent</td>\n",
              "      <td>DA2 7PP</td>\n",
              "      <td>01630-202053</td>\n",
              "      <td>01687-879391</td>\n",
              "      <td>fernanda@writer.co.uk</td>\n",
              "      <td>http://www.krassociatesinc.co.uk</td>\n",
              "      <td>779</td>\n",
              "    </tr>\n",
              "    <tr>\n",
              "      <th>Ear</th>\n",
              "      <td>Luis</td>\n",
              "      <td>Wa Inst For Plcy Studies</td>\n",
              "      <td>2 Birchfield Rd</td>\n",
              "      <td>Whittington</td>\n",
              "      <td>Shropshire</td>\n",
              "      <td>SY11 4PH</td>\n",
              "      <td>01462-648669</td>\n",
              "      <td>01405-648623</td>\n",
              "      <td>luis@hotmail.com</td>\n",
              "      <td>http://www.wainstforplcystudies.co.uk</td>\n",
              "      <td>344</td>\n",
              "    </tr>\n",
              "    <tr>\n",
              "      <th>Hanton</th>\n",
              "      <td>Malika</td>\n",
              "      <td>Association Of Art Museum Dir</td>\n",
              "      <td>1175 Greig St</td>\n",
              "      <td>St. Marys Ward</td>\n",
              "      <td>Greater Manchester</td>\n",
              "      <td>M25 0ZN</td>\n",
              "      <td>01532-497454</td>\n",
              "      <td>01705-208145</td>\n",
              "      <td>malika@gmail.com</td>\n",
              "      <td>http://www.associationofartmuseumdir.co.uk</td>\n",
              "      <td>435</td>\n",
              "    </tr>\n",
              "    <tr>\n",
              "      <th>Rubano</th>\n",
              "      <td>Wendell</td>\n",
              "      <td>Automation Engrg &amp; Mfg Inc</td>\n",
              "      <td>1 Back Canning St</td>\n",
              "      <td>Dunblane and Bridge of Allan W</td>\n",
              "      <td>Stirling</td>\n",
              "      <td>FK9 4LD</td>\n",
              "      <td>01837-530939</td>\n",
              "      <td>01752-386691</td>\n",
              "      <td>wendell_rubano@hotmail.com</td>\n",
              "      <td>http://www.automationengrgmfginc.co.uk</td>\n",
              "      <td>302</td>\n",
              "    </tr>\n",
              "    <tr>\n",
              "      <th>Kham</th>\n",
              "      <td>Bettina</td>\n",
              "      <td>Council Of Cmnty Blood Ctrs</td>\n",
              "      <td>80 Morecambe St</td>\n",
              "      <td>Bishop Auckland</td>\n",
              "      <td>County Durham</td>\n",
              "      <td>DL14 6NG</td>\n",
              "      <td>01355-192668</td>\n",
              "      <td>01340-622388</td>\n",
              "      <td>bettina.kham@kham.co.uk</td>\n",
              "      <td>http://www.councilofcmntybloodctrs.co.uk</td>\n",
              "      <td>874</td>\n",
              "    </tr>\n",
              "    <tr>\n",
              "      <th>Joulwan</th>\n",
              "      <td>Eva</td>\n",
              "      <td>Central Hrdwr &amp; Elec Corp</td>\n",
              "      <td>7 Lear Rd</td>\n",
              "      <td>Stroud</td>\n",
              "      <td>Hampshire</td>\n",
              "      <td>GU32 3PQ</td>\n",
              "      <td>01779-720349</td>\n",
              "      <td>01961-802899</td>\n",
              "      <td>eva.joulwan@gmail.com</td>\n",
              "      <td>http://www.centralhrdwreleccorp.co.uk</td>\n",
              "      <td>255</td>\n",
              "    </tr>\n",
              "    <tr>\n",
              "      <th>Dormanen</th>\n",
              "      <td>Mammie</td>\n",
              "      <td>Matt Parrott &amp; Sons Co</td>\n",
              "      <td>2577 Toxteth St #5</td>\n",
              "      <td>Overton Ward</td>\n",
              "      <td>Lancashire</td>\n",
              "      <td>BB6 7UN</td>\n",
              "      <td>01527-579687</td>\n",
              "      <td>01439-184366</td>\n",
              "      <td>mammie_dormanen@hotmail.com</td>\n",
              "      <td>http://www.mattparrottsonsco.co.uk</td>\n",
              "      <td>654</td>\n",
              "    </tr>\n",
              "    <tr>\n",
              "      <th>Fleckles</th>\n",
              "      <td>Malcom</td>\n",
              "      <td>L Winik &amp; Associates Inc</td>\n",
              "      <td>8764 Nickleby St #877</td>\n",
              "      <td>Govan Ward</td>\n",
              "      <td>Glasgow City</td>\n",
              "      <td>G51 1BQ</td>\n",
              "      <td>01478-110943</td>\n",
              "      <td>01937-120539</td>\n",
              "      <td>malcom.fleckles@gmail.com</td>\n",
              "      <td>http://www.lwinikassociatesinc.co.uk</td>\n",
              "      <td>613</td>\n",
              "    </tr>\n",
              "    <tr>\n",
              "      <th>Stanwick</th>\n",
              "      <td>Graham</td>\n",
              "      <td>Tiburon Pen Chmbr Commrce Inc</td>\n",
              "      <td>73 Hawkstone St</td>\n",
              "      <td>Renfrew South &amp; Gallowhill War</td>\n",
              "      <td>Dunbartonshire</td>\n",
              "      <td>G52 4YG</td>\n",
              "      <td>01860-191930</td>\n",
              "      <td>01409-786106</td>\n",
              "      <td>gstanwick@gmail.com</td>\n",
              "      <td>http://www.tiburonpenchmbrcommrceinc.co.uk</td>\n",
              "      <td>179</td>\n",
              "    </tr>\n",
              "    <tr>\n",
              "      <th>Sovel</th>\n",
              "      <td>Wade</td>\n",
              "      <td>Manhattan Supply Co Deer Pk</td>\n",
              "      <td>2546 Hunter St</td>\n",
              "      <td>Central Buchan Ward</td>\n",
              "      <td>Aberdeenshire</td>\n",
              "      <td>AB53 6YD</td>\n",
              "      <td>01712-978062</td>\n",
              "      <td>01317-960371</td>\n",
              "      <td>wade@hotmail.com</td>\n",
              "      <td>http://www.manhattansupplycodeerpk.co.uk</td>\n",
              "      <td>634</td>\n",
              "    </tr>\n",
              "    <tr>\n",
              "      <th>Casper</th>\n",
              "      <td>Earnestine</td>\n",
              "      <td>A O J Mfg Corp</td>\n",
              "      <td>529 Stalmine Rd #3680</td>\n",
              "      <td>Saffron Walden</td>\n",
              "      <td>Essex</td>\n",
              "      <td>CB11 4DJ</td>\n",
              "      <td>01807-346103</td>\n",
              "      <td>01260-744622</td>\n",
              "      <td>earnestine_casper@hotmail.com</td>\n",
              "      <td>http://www.aojmfgcorp.co.uk</td>\n",
              "      <td>335</td>\n",
              "    </tr>\n",
              "    <tr>\n",
              "      <th>Crete</th>\n",
              "      <td>Luke</td>\n",
              "      <td>M D &amp; W Railway</td>\n",
              "      <td>4 Peach St #5112</td>\n",
              "      <td>Halstead</td>\n",
              "      <td>Kent</td>\n",
              "      <td>TN14 7EF</td>\n",
              "      <td>01375-820236</td>\n",
              "      <td>01268-175772</td>\n",
              "      <td>luke.crete@crete.co.uk</td>\n",
              "      <td>http://www.mdwrailway.co.uk</td>\n",
              "      <td>223</td>\n",
              "    </tr>\n",
              "    <tr>\n",
              "      <th>Vanhooser</th>\n",
              "      <td>Reynalda</td>\n",
              "      <td>A All In One Construction</td>\n",
              "      <td>891 Crocus St</td>\n",
              "      <td>Rowley Ward</td>\n",
              "      <td>West Midlands</td>\n",
              "      <td>B65 8EZ</td>\n",
              "      <td>01951-872658</td>\n",
              "      <td>01350-811035</td>\n",
              "      <td>reynalda@vanhooser.co.uk</td>\n",
              "      <td>http://www.aallinoneconstruction.co.uk</td>\n",
              "      <td>328</td>\n",
              "    </tr>\n",
              "    <tr>\n",
              "      <th>Reinecke</th>\n",
              "      <td>Joana</td>\n",
              "      <td>Visiting Nur Assn Ctrl Jersey</td>\n",
              "      <td>2427 Olney St #7</td>\n",
              "      <td>Amersham</td>\n",
              "      <td>Buckinghamshire</td>\n",
              "      <td>HP6 6JH</td>\n",
              "      <td>01320-402522</td>\n",
              "      <td>01866-827990</td>\n",
              "      <td>jreinecke@reinecke.co.uk</td>\n",
              "      <td>http://www.visitingnurassnctrljersey.co.uk</td>\n",
              "      <td>180</td>\n",
              "    </tr>\n",
              "    <tr>\n",
              "      <th>Polintan</th>\n",
              "      <td>Jaleesa</td>\n",
              "      <td>New Jersey Tanning Co Inc</td>\n",
              "      <td>8 Taylor St</td>\n",
              "      <td>Shrub End Ward</td>\n",
              "      <td>Essex</td>\n",
              "      <td>CO2 9LW</td>\n",
              "      <td>01507-519053</td>\n",
              "      <td>01973-332478</td>\n",
              "      <td>jpolintan@polintan.co.uk</td>\n",
              "      <td>http://www.newjerseytanningcoinc.co.uk</td>\n",
              "      <td>424</td>\n",
              "    </tr>\n",
              "    <tr>\n",
              "      <th>Lemm</th>\n",
              "      <td>Aleisha</td>\n",
              "      <td>Pathe Cmptr Cntrl Systems Corp</td>\n",
              "      <td>341 Birchfield St</td>\n",
              "      <td>Wareham St. Martin</td>\n",
              "      <td>Dorset</td>\n",
              "      <td>BH16 6JJ</td>\n",
              "      <td>01341-997268</td>\n",
              "      <td>01864-899304</td>\n",
              "      <td>aleisha.lemm@gmail.com</td>\n",
              "      <td>http://www.pathecmptrcntrlsystemscorp.co.uk</td>\n",
              "      <td>142</td>\n",
              "    </tr>\n",
              "    <tr>\n",
              "      <th>Figuera</th>\n",
              "      <td>Mila</td>\n",
              "      <td>U S Sapporo A Inc</td>\n",
              "      <td>72 Lime Place</td>\n",
              "      <td>Old Newton with Dagworth</td>\n",
              "      <td>Suffolk</td>\n",
              "      <td>IP14 4HG</td>\n",
              "      <td>01300-650262</td>\n",
              "      <td>01573-159208</td>\n",
              "      <td>mila_figuera@yahoo.com</td>\n",
              "      <td>http://www.ussapporoainc.co.uk</td>\n",
              "      <td>421</td>\n",
              "    </tr>\n",
              "    <tr>\n",
              "      <th>Logghe</th>\n",
              "      <td>Edwin</td>\n",
              "      <td>Joseph Victor &amp; Son Inc</td>\n",
              "      <td>950 Gordon St</td>\n",
              "      <td>Heanor and Loscoe</td>\n",
              "      <td>Derbyshire</td>\n",
              "      <td>DE75 7FZ</td>\n",
              "      <td>01366-667615</td>\n",
              "      <td>01627-549610</td>\n",
              "      <td>edwin_logghe@hotmail.com</td>\n",
              "      <td>http://www.josephvictorsoninc.co.uk</td>\n",
              "      <td>745</td>\n",
              "    </tr>\n",
              "    <tr>\n",
              "      <th>Suite</th>\n",
              "      <td>Lamar</td>\n",
              "      <td>T J Boyle &amp; Associates</td>\n",
              "      <td>6301 Dorset Rd</td>\n",
              "      <td>Harefield Ward</td>\n",
              "      <td>Greater London</td>\n",
              "      <td>UB9 6LF</td>\n",
              "      <td>01716-613102</td>\n",
              "      <td>01885-144424</td>\n",
              "      <td>lsuite@yahoo.com</td>\n",
              "      <td>http://www.tjboyleassociates.co.uk</td>\n",
              "      <td>755</td>\n",
              "    </tr>\n",
              "    <tr>\n",
              "      <th>Detamore</th>\n",
              "      <td>Delpha</td>\n",
              "      <td>Bilar Tool &amp; Die Inc</td>\n",
              "      <td>8 Tagus St #9814</td>\n",
              "      <td>Cleator Moor</td>\n",
              "      <td>Cumbria</td>\n",
              "      <td>CA25 5EF</td>\n",
              "      <td>01322-480025</td>\n",
              "      <td>01517-750609</td>\n",
              "      <td>delpha.detamore@yahoo.com</td>\n",
              "      <td>http://www.bilartooldieinc.co.uk</td>\n",
              "      <td>368</td>\n",
              "    </tr>\n",
              "    <tr>\n",
              "      <th>Scavuzzo</th>\n",
              "      <td>Rodolfo</td>\n",
              "      <td>Gulf Atlantic Equipment Co Inc</td>\n",
              "      <td>5 Ruskin St</td>\n",
              "      <td>Irvine East Ward</td>\n",
              "      <td>North Ayrshire</td>\n",
              "      <td>KA11 2BP</td>\n",
              "      <td>01576-536794</td>\n",
              "      <td>01501-755479</td>\n",
              "      <td>rodolfo_scavuzzo@yahoo.com</td>\n",
              "      <td>http://www.gulfatlanticequipmentcoinc.co.uk</td>\n",
              "      <td>560</td>\n",
              "    </tr>\n",
              "    <tr>\n",
              "      <th>Featherston</th>\n",
              "      <td>Shaquana</td>\n",
              "      <td>General Truck Part &amp; Equipment</td>\n",
              "      <td>50 Townsend St</td>\n",
              "      <td>Chadderton Central Ward</td>\n",
              "      <td>Greater Manchester</td>\n",
              "      <td>OL9 0NS</td>\n",
              "      <td>01641-726098</td>\n",
              "      <td>01327-255886</td>\n",
              "      <td>shaquana@hotmail.com</td>\n",
              "      <td>http://www.generaltruckpartequipment.co.uk</td>\n",
              "      <td>880</td>\n",
              "    </tr>\n",
              "    <tr>\n",
              "      <th>Goldrup</th>\n",
              "      <td>Ardella</td>\n",
              "      <td>Bedford Books St Martins Prs</td>\n",
              "      <td>3145 Rhyl St</td>\n",
              "      <td>Londesborough</td>\n",
              "      <td>E Riding of Yorkshire</td>\n",
              "      <td>YO43 3QE</td>\n",
              "      <td>01813-786468</td>\n",
              "      <td>01451-433176</td>\n",
              "      <td>ardella.goldrup@goldrup.co.uk</td>\n",
              "      <td>http://www.bedfordbooksstmartinsprs.co.uk</td>\n",
              "      <td>177</td>\n",
              "    </tr>\n",
              "    <tr>\n",
              "      <th>Pomarico</th>\n",
              "      <td>Sherell</td>\n",
              "      <td>Kxlt Radio (k 108 Fm)</td>\n",
              "      <td>29 Greenleaf St</td>\n",
              "      <td>Llangristiolus Community</td>\n",
              "      <td>Isle of Anglesey</td>\n",
              "      <td>LL62 5HD</td>\n",
              "      <td>01523-372834</td>\n",
              "      <td>01323-831572</td>\n",
              "      <td>spomarico@hotmail.com</td>\n",
              "      <td>http://www.kxltradiokfm.co.uk</td>\n",
              "      <td>788</td>\n",
              "    </tr>\n",
              "    <tr>\n",
              "      <th>Nuckolls</th>\n",
              "      <td>Veronique</td>\n",
              "      <td>Cinemax Cable Pay Tv Svce</td>\n",
              "      <td>198 Ranelagh Place</td>\n",
              "      <td>Central Buchan Ward</td>\n",
              "      <td>Aberdeenshire</td>\n",
              "      <td>AB43 6RD</td>\n",
              "      <td>01632-762032</td>\n",
              "      <td>01699-696279</td>\n",
              "      <td>vnuckolls@gmail.com</td>\n",
              "      <td>http://www.cinemaxcablepaytvsvce.co.uk</td>\n",
              "      <td>222</td>\n",
              "    </tr>\n",
              "    <tr>\n",
              "      <th>Scurci</th>\n",
              "      <td>Merilyn</td>\n",
              "      <td>New York C Liquidators Inc</td>\n",
              "      <td>4041 Virgil St</td>\n",
              "      <td>Headley</td>\n",
              "      <td>Surrey</td>\n",
              "      <td>KT18 6PZ</td>\n",
              "      <td>01770-233355</td>\n",
              "      <td>01617-651554</td>\n",
              "      <td>merilyn_scurci@hotmail.com</td>\n",
              "      <td>http://www.newyorkcliquidatorsinc.co.uk</td>\n",
              "      <td>529</td>\n",
              "    </tr>\n",
              "    <tr>\n",
              "      <th>Devereux</th>\n",
              "      <td>Leonie</td>\n",
              "      <td>Mr Bar B Q Inc</td>\n",
              "      <td>88 Vernon St</td>\n",
              "      <td>Dunbar and East Linton Ward</td>\n",
              "      <td>East Lothian</td>\n",
              "      <td>EH42 1SJ</td>\n",
              "      <td>01515-840778</td>\n",
              "      <td>01859-764851</td>\n",
              "      <td>leonie_devereux@gmail.com</td>\n",
              "      <td>http://www.mrbarbqinc.co.uk</td>\n",
              "      <td>388</td>\n",
              "    </tr>\n",
              "    <tr>\n",
              "      <th>Rivet</th>\n",
              "      <td>Tu</td>\n",
              "      <td>Gemini Hats &amp; Accessories Inc</td>\n",
              "      <td>31 Buckingham Ave #3785</td>\n",
              "      <td>Cotham Ward</td>\n",
              "      <td>Bristol</td>\n",
              "      <td>BS6 5SR</td>\n",
              "      <td>01578-744350</td>\n",
              "      <td>01577-559109</td>\n",
              "      <td>tu_rivet@gmail.com</td>\n",
              "      <td>http://www.geminihatsaccessoriesinc.co.uk</td>\n",
              "      <td>213</td>\n",
              "    </tr>\n",
              "    <tr>\n",
              "      <th>Alcazar</th>\n",
              "      <td>Margret</td>\n",
              "      <td>Advantage Title &amp; Escrow Inc</td>\n",
              "      <td>5466 Sedley St</td>\n",
              "      <td>Coatbridge South Ward</td>\n",
              "      <td>North Lanarkshire</td>\n",
              "      <td>ML5 4LJ</td>\n",
              "      <td>01626-590776</td>\n",
              "      <td>01633-731246</td>\n",
              "      <td>margret@alcazar.co.uk</td>\n",
              "      <td>http://www.advantagetitleescrowinc.co.uk</td>\n",
              "      <td>300</td>\n",
              "    </tr>\n",
              "    <tr>\n",
              "      <th>Marchetta</th>\n",
              "      <td>Carey</td>\n",
              "      <td>New River Tire Company Inc</td>\n",
              "      <td>7217 Edge Grove</td>\n",
              "      <td>Sharston Ward</td>\n",
              "      <td>Greater Manchester</td>\n",
              "      <td>M22 4ZB</td>\n",
              "      <td>01750-379103</td>\n",
              "      <td>01498-699971</td>\n",
              "      <td>cmarchetta@hotmail.com</td>\n",
              "      <td>http://www.newrivertirecompanyinc.co.uk</td>\n",
              "      <td>380</td>\n",
              "    </tr>\n",
              "    <tr>\n",
              "      <th>Hallford</th>\n",
              "      <td>Heidy</td>\n",
              "      <td>New England Die Co Inc</td>\n",
              "      <td>8054 Low Hill</td>\n",
              "      <td>Prestbury</td>\n",
              "      <td>Gloucestershire</td>\n",
              "      <td>GL52 3BY</td>\n",
              "      <td>01958-748582</td>\n",
              "      <td>01753-105955</td>\n",
              "      <td>hhallford@hotmail.com</td>\n",
              "      <td>http://www.newenglanddiecoinc.co.uk</td>\n",
              "      <td>773</td>\n",
              "    </tr>\n",
              "    <tr>\n",
              "      <th>Carsten</th>\n",
              "      <td>Kaycee</td>\n",
              "      <td>Dohn Law Offices Inc Ps</td>\n",
              "      <td>35 Dublin St</td>\n",
              "      <td>Cirencester</td>\n",
              "      <td>Gloucestershire</td>\n",
              "      <td>GL7 2EY</td>\n",
              "      <td>01270-893129</td>\n",
              "      <td>01837-463418</td>\n",
              "      <td>kaycee.carsten@gmail.com</td>\n",
              "      <td>http://www.dohnlawofficesincps.co.uk</td>\n",
              "      <td>100</td>\n",
              "    </tr>\n",
              "    <tr>\n",
              "      <th>Rohrs</th>\n",
              "      <td>Margery</td>\n",
              "      <td>C G Mccullough Insurance Agcy</td>\n",
              "      <td>40 Peters Lane</td>\n",
              "      <td>Long Preston</td>\n",
              "      <td>North Yorkshire</td>\n",
              "      <td>BD23 4NF</td>\n",
              "      <td>01634-340524</td>\n",
              "      <td>01933-273913</td>\n",
              "      <td>margery@hotmail.com</td>\n",
              "      <td>http://www.cgmcculloughinsuranceagcy.co.uk</td>\n",
              "      <td>46</td>\n",
              "    </tr>\n",
              "    <tr>\n",
              "      <th>Mckenize</th>\n",
              "      <td>Sheridan</td>\n",
              "      <td>Word &amp; Image Workshop Inc</td>\n",
              "      <td>31 Davy St</td>\n",
              "      <td>Aveton Gifford</td>\n",
              "      <td>Devon</td>\n",
              "      <td>TQ7 4NF</td>\n",
              "      <td>01512-765064</td>\n",
              "      <td>01776-874349</td>\n",
              "      <td>sheridan.mckenize@hotmail.com</td>\n",
              "      <td>http://www.wordimageworkshopinc.co.uk</td>\n",
              "      <td>458</td>\n",
              "    </tr>\n",
              "    <tr>\n",
              "      <th>Mordhorst</th>\n",
              "      <td>Shayne</td>\n",
              "      <td>Don Allen &amp; Associates Pa</td>\n",
              "      <td>1 Bousfield St</td>\n",
              "      <td>Shrewsbury</td>\n",
              "      <td>Shropshire</td>\n",
              "      <td>SY3 8NG</td>\n",
              "      <td>01286-279043</td>\n",
              "      <td>01450-144052</td>\n",
              "      <td>smordhorst@mordhorst.co.uk</td>\n",
              "      <td>http://www.donallenassociatespa.co.uk</td>\n",
              "      <td>56</td>\n",
              "    </tr>\n",
              "    <tr>\n",
              "      <th>Arzilli</th>\n",
              "      <td>Casie</td>\n",
              "      <td>Wenatchee Valley Fed Crdt Un</td>\n",
              "      <td>5 Noon St</td>\n",
              "      <td>Melton Dorian Ward</td>\n",
              "      <td>Leicestershire</td>\n",
              "      <td>LE13 0RG</td>\n",
              "      <td>01289-195823</td>\n",
              "      <td>01372-334070</td>\n",
              "      <td>casie@gmail.com</td>\n",
              "      <td>http://www.wenatcheevalleyfedcrdtun.co.uk</td>\n",
              "      <td>975</td>\n",
              "    </tr>\n",
              "    <tr>\n",
              "      <th>Stueber</th>\n",
              "      <td>Lisandra</td>\n",
              "      <td>Wstu 1450 Am Radio Station</td>\n",
              "      <td>5 Bentinck St</td>\n",
              "      <td>Churchill Ward</td>\n",
              "      <td>Greater London</td>\n",
              "      <td>SW1V 3EW</td>\n",
              "      <td>01831-806301</td>\n",
              "      <td>01876-118051</td>\n",
              "      <td>lisandra_stueber@hotmail.com</td>\n",
              "      <td>http://www.wstuamradiostation.co.uk</td>\n",
              "      <td>503</td>\n",
              "    </tr>\n",
              "    <tr>\n",
              "      <th>Heier</th>\n",
              "      <td>Remona</td>\n",
              "      <td>M A C Insurance Agency</td>\n",
              "      <td>7199 St Clare Rd</td>\n",
              "      <td>Inverclyde South Ward</td>\n",
              "      <td>Inverclyde</td>\n",
              "      <td>PA16 7BT</td>\n",
              "      <td>01718-274321</td>\n",
              "      <td>01967-508345</td>\n",
              "      <td>remona.heier@heier.co.uk</td>\n",
              "      <td>http://www.macinsuranceagency.co.uk</td>\n",
              "      <td>269</td>\n",
              "    </tr>\n",
              "    <tr>\n",
              "      <th>Baldock</th>\n",
              "      <td>Anabel</td>\n",
              "      <td>William A Geppert True Value</td>\n",
              "      <td>30 Marine Parade #1</td>\n",
              "      <td>Staina Ward</td>\n",
              "      <td>Lancashire</td>\n",
              "      <td>FY5 4FN</td>\n",
              "      <td>01994-675650</td>\n",
              "      <td>01845-742562</td>\n",
              "      <td>anabel_baldock@hotmail.com</td>\n",
              "      <td>http://www.williamagepperttruevalue.co.uk</td>\n",
              "      <td>533</td>\n",
              "    </tr>\n",
              "    <tr>\n",
              "      <th>Augle</th>\n",
              "      <td>Diego</td>\n",
              "      <td>Farmers Electric Co Op Inc</td>\n",
              "      <td>4 Peover St</td>\n",
              "      <td>Walcot Ward</td>\n",
              "      <td>Bath Avon</td>\n",
              "      <td>BA1 6EF</td>\n",
              "      <td>01275-397587</td>\n",
              "      <td>01933-666689</td>\n",
              "      <td>diego.augle@gmail.com</td>\n",
              "      <td>http://www.farmerselectriccoopinc.co.uk</td>\n",
              "      <td>892</td>\n",
              "    </tr>\n",
              "    <tr>\n",
              "      <th>Gaucher</th>\n",
              "      <td>Sophia</td>\n",
              "      <td>T C E Systems Inc</td>\n",
              "      <td>88 Upper Harrington St</td>\n",
              "      <td>North East Ward</td>\n",
              "      <td>North Lanarkshire</td>\n",
              "      <td>G69 8EL</td>\n",
              "      <td>01504-539114</td>\n",
              "      <td>01254-919378</td>\n",
              "      <td>sophia.gaucher@hotmail.com</td>\n",
              "      <td>http://www.tcesystemsinc.co.uk</td>\n",
              "      <td>466</td>\n",
              "    </tr>\n",
              "    <tr>\n",
              "      <th>Richan</th>\n",
              "      <td>Mi</td>\n",
              "      <td>Nelson Wright Haworth Golf Crs</td>\n",
              "      <td>6 Norwood Grove</td>\n",
              "      <td>Tanworth-in-Arden</td>\n",
              "      <td>Warwickshire</td>\n",
              "      <td>B94 5RZ</td>\n",
              "      <td>01451-785624</td>\n",
              "      <td>01202-738406</td>\n",
              "      <td>mi@hotmail.com</td>\n",
              "      <td>http://www.nelsonwrighthaworthgolfcrs.co.uk</td>\n",
              "      <td>655</td>\n",
              "    </tr>\n",
              "  </tbody>\n",
              "</table>\n",
              "</div>"
            ],
            "text/plain": [
              "             first_name                    company_name  \\\n",
              "last_name                                                 \n",
              "Tomkiewicz      Aleshia         Alan D Rosenburg Cpa Pc   \n",
              "Writer         Fernanda            K & R Associates Inc   \n",
              "Ear                Luis        Wa Inst For Plcy Studies   \n",
              "Hanton           Malika   Association Of Art Museum Dir   \n",
              "Rubano          Wendell      Automation Engrg & Mfg Inc   \n",
              "Kham            Bettina     Council Of Cmnty Blood Ctrs   \n",
              "Joulwan             Eva       Central Hrdwr & Elec Corp   \n",
              "Dormanen         Mammie          Matt Parrott & Sons Co   \n",
              "Fleckles         Malcom        L Winik & Associates Inc   \n",
              "Stanwick         Graham   Tiburon Pen Chmbr Commrce Inc   \n",
              "Sovel              Wade     Manhattan Supply Co Deer Pk   \n",
              "Casper       Earnestine                  A O J Mfg Corp   \n",
              "Crete              Luke                 M D & W Railway   \n",
              "Vanhooser      Reynalda       A All In One Construction   \n",
              "Reinecke          Joana   Visiting Nur Assn Ctrl Jersey   \n",
              "Polintan        Jaleesa       New Jersey Tanning Co Inc   \n",
              "Lemm            Aleisha  Pathe Cmptr Cntrl Systems Corp   \n",
              "Figuera            Mila               U S Sapporo A Inc   \n",
              "Logghe            Edwin         Joseph Victor & Son Inc   \n",
              "Suite             Lamar          T J Boyle & Associates   \n",
              "Detamore         Delpha            Bilar Tool & Die Inc   \n",
              "Scavuzzo        Rodolfo  Gulf Atlantic Equipment Co Inc   \n",
              "Featherston    Shaquana  General Truck Part & Equipment   \n",
              "Goldrup         Ardella    Bedford Books St Martins Prs   \n",
              "Pomarico        Sherell           Kxlt Radio (k 108 Fm)   \n",
              "Nuckolls      Veronique       Cinemax Cable Pay Tv Svce   \n",
              "Scurci          Merilyn      New York C Liquidators Inc   \n",
              "Devereux         Leonie                  Mr Bar B Q Inc   \n",
              "Rivet                Tu   Gemini Hats & Accessories Inc   \n",
              "Alcazar         Margret    Advantage Title & Escrow Inc   \n",
              "Marchetta         Carey      New River Tire Company Inc   \n",
              "Hallford          Heidy          New England Die Co Inc   \n",
              "Carsten          Kaycee         Dohn Law Offices Inc Ps   \n",
              "Rohrs           Margery   C G Mccullough Insurance Agcy   \n",
              "Mckenize       Sheridan       Word & Image Workshop Inc   \n",
              "Mordhorst        Shayne       Don Allen & Associates Pa   \n",
              "Arzilli           Casie    Wenatchee Valley Fed Crdt Un   \n",
              "Stueber        Lisandra      Wstu 1450 Am Radio Station   \n",
              "Heier            Remona          M A C Insurance Agency   \n",
              "Baldock          Anabel    William A Geppert True Value   \n",
              "Augle             Diego      Farmers Electric Co Op Inc   \n",
              "Gaucher          Sophia               T C E Systems Inc   \n",
              "Richan               Mi  Nelson Wright Haworth Golf Crs   \n",
              "\n",
              "                             address                            city  \\\n",
              "last_name                                                              \n",
              "Tomkiewicz              14 Taylor St               St. Stephens Ward   \n",
              "Writer            620 Northampton St                      Wilmington   \n",
              "Ear                  2 Birchfield Rd                     Whittington   \n",
              "Hanton                 1175 Greig St                  St. Marys Ward   \n",
              "Rubano             1 Back Canning St  Dunblane and Bridge of Allan W   \n",
              "Kham                 80 Morecambe St                 Bishop Auckland   \n",
              "Joulwan                    7 Lear Rd                          Stroud   \n",
              "Dormanen          2577 Toxteth St #5                    Overton Ward   \n",
              "Fleckles       8764 Nickleby St #877                      Govan Ward   \n",
              "Stanwick             73 Hawkstone St  Renfrew South & Gallowhill War   \n",
              "Sovel                 2546 Hunter St             Central Buchan Ward   \n",
              "Casper         529 Stalmine Rd #3680                  Saffron Walden   \n",
              "Crete               4 Peach St #5112                        Halstead   \n",
              "Vanhooser              891 Crocus St                     Rowley Ward   \n",
              "Reinecke            2427 Olney St #7                        Amersham   \n",
              "Polintan                 8 Taylor St                  Shrub End Ward   \n",
              "Lemm               341 Birchfield St              Wareham St. Martin   \n",
              "Figuera                72 Lime Place        Old Newton with Dagworth   \n",
              "Logghe                 950 Gordon St               Heanor and Loscoe   \n",
              "Suite                 6301 Dorset Rd                  Harefield Ward   \n",
              "Detamore            8 Tagus St #9814                    Cleator Moor   \n",
              "Scavuzzo                 5 Ruskin St                Irvine East Ward   \n",
              "Featherston           50 Townsend St         Chadderton Central Ward   \n",
              "Goldrup                 3145 Rhyl St                   Londesborough   \n",
              "Pomarico             29 Greenleaf St        Llangristiolus Community   \n",
              "Nuckolls          198 Ranelagh Place             Central Buchan Ward   \n",
              "Scurci                4041 Virgil St                         Headley   \n",
              "Devereux                88 Vernon St     Dunbar and East Linton Ward   \n",
              "Rivet        31 Buckingham Ave #3785                     Cotham Ward   \n",
              "Alcazar               5466 Sedley St           Coatbridge South Ward   \n",
              "Marchetta            7217 Edge Grove                   Sharston Ward   \n",
              "Hallford               8054 Low Hill                       Prestbury   \n",
              "Carsten                 35 Dublin St                     Cirencester   \n",
              "Rohrs                 40 Peters Lane                    Long Preston   \n",
              "Mckenize                  31 Davy St                  Aveton Gifford   \n",
              "Mordhorst             1 Bousfield St                      Shrewsbury   \n",
              "Arzilli                    5 Noon St              Melton Dorian Ward   \n",
              "Stueber                5 Bentinck St                  Churchill Ward   \n",
              "Heier               7199 St Clare Rd           Inverclyde South Ward   \n",
              "Baldock          30 Marine Parade #1                     Staina Ward   \n",
              "Augle                    4 Peover St                     Walcot Ward   \n",
              "Gaucher       88 Upper Harrington St                 North East Ward   \n",
              "Richan               6 Norwood Grove               Tanworth-in-Arden   \n",
              "\n",
              "                            county    postal        phone1        phone2  \\\n",
              "last_name                                                                  \n",
              "Tomkiewicz                    Kent   CT2 7PP  01835-703597  01944-369967   \n",
              "Writer                        Kent   DA2 7PP  01630-202053  01687-879391   \n",
              "Ear                     Shropshire  SY11 4PH  01462-648669  01405-648623   \n",
              "Hanton          Greater Manchester   M25 0ZN  01532-497454  01705-208145   \n",
              "Rubano                    Stirling   FK9 4LD  01837-530939  01752-386691   \n",
              "Kham                 County Durham  DL14 6NG  01355-192668  01340-622388   \n",
              "Joulwan                  Hampshire  GU32 3PQ  01779-720349  01961-802899   \n",
              "Dormanen                Lancashire   BB6 7UN  01527-579687  01439-184366   \n",
              "Fleckles              Glasgow City   G51 1BQ  01478-110943  01937-120539   \n",
              "Stanwick            Dunbartonshire   G52 4YG  01860-191930  01409-786106   \n",
              "Sovel                Aberdeenshire  AB53 6YD  01712-978062  01317-960371   \n",
              "Casper                       Essex  CB11 4DJ  01807-346103  01260-744622   \n",
              "Crete                         Kent  TN14 7EF  01375-820236  01268-175772   \n",
              "Vanhooser            West Midlands   B65 8EZ  01951-872658  01350-811035   \n",
              "Reinecke           Buckinghamshire   HP6 6JH  01320-402522  01866-827990   \n",
              "Polintan                     Essex   CO2 9LW  01507-519053  01973-332478   \n",
              "Lemm                        Dorset  BH16 6JJ  01341-997268  01864-899304   \n",
              "Figuera                    Suffolk  IP14 4HG  01300-650262  01573-159208   \n",
              "Logghe                  Derbyshire  DE75 7FZ  01366-667615  01627-549610   \n",
              "Suite               Greater London   UB9 6LF  01716-613102  01885-144424   \n",
              "Detamore                   Cumbria  CA25 5EF  01322-480025  01517-750609   \n",
              "Scavuzzo            North Ayrshire  KA11 2BP  01576-536794  01501-755479   \n",
              "Featherston     Greater Manchester   OL9 0NS  01641-726098  01327-255886   \n",
              "Goldrup      E Riding of Yorkshire  YO43 3QE  01813-786468  01451-433176   \n",
              "Pomarico          Isle of Anglesey  LL62 5HD  01523-372834  01323-831572   \n",
              "Nuckolls             Aberdeenshire  AB43 6RD  01632-762032  01699-696279   \n",
              "Scurci                      Surrey  KT18 6PZ  01770-233355  01617-651554   \n",
              "Devereux              East Lothian  EH42 1SJ  01515-840778  01859-764851   \n",
              "Rivet                      Bristol   BS6 5SR  01578-744350  01577-559109   \n",
              "Alcazar          North Lanarkshire   ML5 4LJ  01626-590776  01633-731246   \n",
              "Marchetta       Greater Manchester   M22 4ZB  01750-379103  01498-699971   \n",
              "Hallford           Gloucestershire  GL52 3BY  01958-748582  01753-105955   \n",
              "Carsten            Gloucestershire   GL7 2EY  01270-893129  01837-463418   \n",
              "Rohrs              North Yorkshire  BD23 4NF  01634-340524  01933-273913   \n",
              "Mckenize                     Devon   TQ7 4NF  01512-765064  01776-874349   \n",
              "Mordhorst               Shropshire   SY3 8NG  01286-279043  01450-144052   \n",
              "Arzilli             Leicestershire  LE13 0RG  01289-195823  01372-334070   \n",
              "Stueber             Greater London  SW1V 3EW  01831-806301  01876-118051   \n",
              "Heier                   Inverclyde  PA16 7BT  01718-274321  01967-508345   \n",
              "Baldock                 Lancashire   FY5 4FN  01994-675650  01845-742562   \n",
              "Augle                    Bath Avon   BA1 6EF  01275-397587  01933-666689   \n",
              "Gaucher          North Lanarkshire   G69 8EL  01504-539114  01254-919378   \n",
              "Richan                Warwickshire   B94 5RZ  01451-785624  01202-738406   \n",
              "\n",
              "                                     email  \\\n",
              "last_name                                    \n",
              "Tomkiewicz         atomkiewicz@hotmail.com   \n",
              "Writer               fernanda@writer.co.uk   \n",
              "Ear                       luis@hotmail.com   \n",
              "Hanton                    malika@gmail.com   \n",
              "Rubano          wendell_rubano@hotmail.com   \n",
              "Kham               bettina.kham@kham.co.uk   \n",
              "Joulwan              eva.joulwan@gmail.com   \n",
              "Dormanen       mammie_dormanen@hotmail.com   \n",
              "Fleckles         malcom.fleckles@gmail.com   \n",
              "Stanwick               gstanwick@gmail.com   \n",
              "Sovel                     wade@hotmail.com   \n",
              "Casper       earnestine_casper@hotmail.com   \n",
              "Crete               luke.crete@crete.co.uk   \n",
              "Vanhooser         reynalda@vanhooser.co.uk   \n",
              "Reinecke          jreinecke@reinecke.co.uk   \n",
              "Polintan          jpolintan@polintan.co.uk   \n",
              "Lemm                aleisha.lemm@gmail.com   \n",
              "Figuera             mila_figuera@yahoo.com   \n",
              "Logghe            edwin_logghe@hotmail.com   \n",
              "Suite                     lsuite@yahoo.com   \n",
              "Detamore         delpha.detamore@yahoo.com   \n",
              "Scavuzzo        rodolfo_scavuzzo@yahoo.com   \n",
              "Featherston           shaquana@hotmail.com   \n",
              "Goldrup      ardella.goldrup@goldrup.co.uk   \n",
              "Pomarico             spomarico@hotmail.com   \n",
              "Nuckolls               vnuckolls@gmail.com   \n",
              "Scurci          merilyn_scurci@hotmail.com   \n",
              "Devereux         leonie_devereux@gmail.com   \n",
              "Rivet                   tu_rivet@gmail.com   \n",
              "Alcazar              margret@alcazar.co.uk   \n",
              "Marchetta           cmarchetta@hotmail.com   \n",
              "Hallford             hhallford@hotmail.com   \n",
              "Carsten           kaycee.carsten@gmail.com   \n",
              "Rohrs                  margery@hotmail.com   \n",
              "Mckenize     sheridan.mckenize@hotmail.com   \n",
              "Mordhorst       smordhorst@mordhorst.co.uk   \n",
              "Arzilli                    casie@gmail.com   \n",
              "Stueber       lisandra_stueber@hotmail.com   \n",
              "Heier             remona.heier@heier.co.uk   \n",
              "Baldock         anabel_baldock@hotmail.com   \n",
              "Augle                diego.augle@gmail.com   \n",
              "Gaucher         sophia.gaucher@hotmail.com   \n",
              "Richan                      mi@hotmail.com   \n",
              "\n",
              "                                                     web   id  \n",
              "last_name                                                      \n",
              "Tomkiewicz          http://www.alandrosenburgcpapc.co.uk  587  \n",
              "Writer                  http://www.krassociatesinc.co.uk  779  \n",
              "Ear                http://www.wainstforplcystudies.co.uk  344  \n",
              "Hanton        http://www.associationofartmuseumdir.co.uk  435  \n",
              "Rubano            http://www.automationengrgmfginc.co.uk  302  \n",
              "Kham            http://www.councilofcmntybloodctrs.co.uk  874  \n",
              "Joulwan            http://www.centralhrdwreleccorp.co.uk  255  \n",
              "Dormanen              http://www.mattparrottsonsco.co.uk  654  \n",
              "Fleckles            http://www.lwinikassociatesinc.co.uk  613  \n",
              "Stanwick      http://www.tiburonpenchmbrcommrceinc.co.uk  179  \n",
              "Sovel           http://www.manhattansupplycodeerpk.co.uk  634  \n",
              "Casper                       http://www.aojmfgcorp.co.uk  335  \n",
              "Crete                        http://www.mdwrailway.co.uk  223  \n",
              "Vanhooser         http://www.aallinoneconstruction.co.uk  328  \n",
              "Reinecke      http://www.visitingnurassnctrljersey.co.uk  180  \n",
              "Polintan          http://www.newjerseytanningcoinc.co.uk  424  \n",
              "Lemm         http://www.pathecmptrcntrlsystemscorp.co.uk  142  \n",
              "Figuera                   http://www.ussapporoainc.co.uk  421  \n",
              "Logghe               http://www.josephvictorsoninc.co.uk  745  \n",
              "Suite                 http://www.tjboyleassociates.co.uk  755  \n",
              "Detamore                http://www.bilartooldieinc.co.uk  368  \n",
              "Scavuzzo     http://www.gulfatlanticequipmentcoinc.co.uk  560  \n",
              "Featherston   http://www.generaltruckpartequipment.co.uk  880  \n",
              "Goldrup        http://www.bedfordbooksstmartinsprs.co.uk  177  \n",
              "Pomarico                   http://www.kxltradiokfm.co.uk  788  \n",
              "Nuckolls          http://www.cinemaxcablepaytvsvce.co.uk  222  \n",
              "Scurci           http://www.newyorkcliquidatorsinc.co.uk  529  \n",
              "Devereux                     http://www.mrbarbqinc.co.uk  388  \n",
              "Rivet          http://www.geminihatsaccessoriesinc.co.uk  213  \n",
              "Alcazar         http://www.advantagetitleescrowinc.co.uk  300  \n",
              "Marchetta        http://www.newrivertirecompanyinc.co.uk  380  \n",
              "Hallford             http://www.newenglanddiecoinc.co.uk  773  \n",
              "Carsten             http://www.dohnlawofficesincps.co.uk  100  \n",
              "Rohrs         http://www.cgmcculloughinsuranceagcy.co.uk   46  \n",
              "Mckenize           http://www.wordimageworkshopinc.co.uk  458  \n",
              "Mordhorst          http://www.donallenassociatespa.co.uk   56  \n",
              "Arzilli        http://www.wenatcheevalleyfedcrdtun.co.uk  975  \n",
              "Stueber              http://www.wstuamradiostation.co.uk  503  \n",
              "Heier                http://www.macinsuranceagency.co.uk  269  \n",
              "Baldock        http://www.williamagepperttruevalue.co.uk  533  \n",
              "Augle            http://www.farmerselectriccoopinc.co.uk  892  \n",
              "Gaucher                   http://www.tcesystemsinc.co.uk  466  \n",
              "Richan       http://www.nelsonwrighthaworthgolfcrs.co.uk  655  "
            ]
          },
          "execution_count": 89,
          "metadata": {},
          "output_type": "execute_result"
        }
      ],
      "source": [
        "data.loc[data['company_name'].apply(lambda x: len(x.split(' ')) == 5)] "
      ]
    },
    {
      "cell_type": "markdown",
      "metadata": {
        "id": "7I5bXdzhJEUo"
      },
      "source": [
        "# Numpy"
      ]
    },
    {
      "cell_type": "code",
      "execution_count": null,
      "metadata": {
        "id": "mcmXnetQJEUp"
      },
      "outputs": [],
      "source": [
        "import numpy as np\n",
        "a=np.array([5,10,22,15,13,60])"
      ]
    },
    {
      "cell_type": "code",
      "execution_count": null,
      "metadata": {
        "id": "d_DVKsNfJEUq",
        "outputId": "689db3b2-30bb-4dc8-858d-6652c1a49043"
      },
      "outputs": [
        {
          "data": {
            "text/plain": [
              "array([ 5, 10, 22, 15, 13, 60])"
            ]
          },
          "execution_count": 96,
          "metadata": {},
          "output_type": "execute_result"
        }
      ],
      "source": [
        "a\n"
      ]
    },
    {
      "cell_type": "code",
      "execution_count": null,
      "metadata": {
        "id": "OZLcXccEJEUs",
        "outputId": "ba8638a0-edb1-4582-f17b-97d13a30ef5b"
      },
      "outputs": [
        {
          "name": "stdout",
          "output_type": "stream",
          "text": [
            "[ 5 10 22]\n"
          ]
        }
      ],
      "source": [
        "print(a[0:3])"
      ]
    },
    {
      "cell_type": "code",
      "execution_count": null,
      "metadata": {
        "id": "3cjhAipoJEUt",
        "outputId": "84d0682c-5a36-46de-8e12-350f8f2166d6"
      },
      "outputs": [
        {
          "name": "stdout",
          "output_type": "stream",
          "text": [
            "[ 5 10 22 15 13]\n"
          ]
        }
      ],
      "source": [
        "print(a[:5])"
      ]
    },
    {
      "cell_type": "code",
      "execution_count": null,
      "metadata": {
        "id": "iJY04ZE7JEUv",
        "outputId": "4c207075-d5c0-4139-b376-549467b71325"
      },
      "outputs": [
        {
          "name": "stdout",
          "output_type": "stream",
          "text": [
            "[15 13 60]\n"
          ]
        }
      ],
      "source": [
        "print(a[3:])"
      ]
    },
    {
      "cell_type": "code",
      "execution_count": null,
      "metadata": {
        "id": "HEXj4choJEUw",
        "outputId": "fe7dc674-db1c-4cee-c6e3-48e72a855723"
      },
      "outputs": [
        {
          "name": "stdout",
          "output_type": "stream",
          "text": [
            "[60 13 15 22 10  5]\n"
          ]
        }
      ],
      "source": [
        "print(a[::-1])"
      ]
    },
    {
      "cell_type": "code",
      "execution_count": null,
      "metadata": {
        "id": "iZVTayWeJEUw",
        "outputId": "4f0b73aa-feb3-4b53-ef69-e93ff8d5e883"
      },
      "outputs": [
        {
          "name": "stdout",
          "output_type": "stream",
          "text": [
            "[ 5 10 13 15 22 60]\n"
          ]
        }
      ],
      "source": [
        "print(np.sort(a))"
      ]
    },
    {
      "cell_type": "code",
      "execution_count": null,
      "metadata": {
        "id": "WT4FsVnIJEUy",
        "outputId": "02bd57b1-62a3-4d95-a777-76558b8c91c7"
      },
      "outputs": [
        {
          "data": {
            "text/plain": [
              "numpy.ndarray"
            ]
          },
          "execution_count": 103,
          "metadata": {},
          "output_type": "execute_result"
        }
      ],
      "source": [
        "type(a)"
      ]
    },
    {
      "cell_type": "code",
      "execution_count": null,
      "metadata": {
        "id": "GVJm9sAqJEUz"
      },
      "outputs": [],
      "source": [
        "b=np.array([[1,2,3],[4,5,6],[7,8,9]])"
      ]
    },
    {
      "cell_type": "code",
      "execution_count": null,
      "metadata": {
        "id": "0PVRJUNwJEU0",
        "outputId": "c63e81dc-aa86-47bd-bf86-821be65204ae"
      },
      "outputs": [
        {
          "data": {
            "text/plain": [
              "array([[1, 2, 3],\n",
              "       [4, 5, 6],\n",
              "       [7, 8, 9]])"
            ]
          },
          "execution_count": 109,
          "metadata": {},
          "output_type": "execute_result"
        }
      ],
      "source": [
        "b"
      ]
    },
    {
      "cell_type": "code",
      "execution_count": null,
      "metadata": {
        "id": "4J2gAn1OJEU1",
        "outputId": "58272965-1d9f-40e3-eae2-d5d80b89cd66"
      },
      "outputs": [
        {
          "data": {
            "text/plain": [
              "numpy.ndarray"
            ]
          },
          "execution_count": 110,
          "metadata": {},
          "output_type": "execute_result"
        }
      ],
      "source": [
        "type(b)"
      ]
    },
    {
      "cell_type": "code",
      "execution_count": null,
      "metadata": {
        "id": "jb4tVBfwJEU2",
        "outputId": "d08817a7-4eb7-498a-838d-f10fb8fc175c"
      },
      "outputs": [
        {
          "name": "stdout",
          "output_type": "stream",
          "text": [
            "int32\n"
          ]
        }
      ],
      "source": [
        "print(a.dtype)"
      ]
    },
    {
      "cell_type": "code",
      "execution_count": null,
      "metadata": {
        "id": "L6rgluyaJEU3",
        "outputId": "e01295a4-5830-4e34-ba5a-a0bfc3d2d6b0"
      },
      "outputs": [
        {
          "data": {
            "text/plain": [
              "(6,)"
            ]
          },
          "execution_count": 113,
          "metadata": {},
          "output_type": "execute_result"
        }
      ],
      "source": [
        "a.shape"
      ]
    },
    {
      "cell_type": "code",
      "execution_count": null,
      "metadata": {
        "id": "9yI3XFBNJEU4",
        "outputId": "b0d6f632-660b-4ce8-b354-753a8d091eb5"
      },
      "outputs": [
        {
          "data": {
            "text/plain": [
              "(3, 3)"
            ]
          },
          "execution_count": 114,
          "metadata": {},
          "output_type": "execute_result"
        }
      ],
      "source": [
        "b.shape"
      ]
    },
    {
      "cell_type": "code",
      "execution_count": null,
      "metadata": {
        "id": "WmQLIOP2JEU5",
        "outputId": "d39fed90-f5b5-41e5-811a-b9812bb7043c"
      },
      "outputs": [
        {
          "data": {
            "text/plain": [
              "1"
            ]
          },
          "execution_count": 115,
          "metadata": {},
          "output_type": "execute_result"
        }
      ],
      "source": [
        "a.ndim\n"
      ]
    },
    {
      "cell_type": "code",
      "execution_count": null,
      "metadata": {
        "id": "tFoufqxJJEU7",
        "outputId": "cc1c8422-9447-41d5-cd8a-08dadd440bfa"
      },
      "outputs": [
        {
          "data": {
            "text/plain": [
              "2"
            ]
          },
          "execution_count": 116,
          "metadata": {},
          "output_type": "execute_result"
        }
      ],
      "source": [
        "b.ndim"
      ]
    },
    {
      "cell_type": "code",
      "execution_count": null,
      "metadata": {
        "id": "ikpR5ShaJEU7"
      },
      "outputs": [],
      "source": [
        "c=np.array([[(1,2,3),(3,3,3)],\n",
        "            [(7,8,9),(4,4,4)],\n",
        "            [(1,1,1),(3,3,3)]\n",
        "           ])"
      ]
    },
    {
      "cell_type": "code",
      "execution_count": null,
      "metadata": {
        "id": "aXlpb9YPJEU8",
        "outputId": "487edb84-72f7-4e75-8961-7ecef02fe070"
      },
      "outputs": [
        {
          "data": {
            "text/plain": [
              "(3, 2, 3)"
            ]
          },
          "execution_count": 129,
          "metadata": {},
          "output_type": "execute_result"
        }
      ],
      "source": [
        "c.shape\n"
      ]
    },
    {
      "cell_type": "code",
      "execution_count": null,
      "metadata": {
        "id": "KwW2m9UPJEU9",
        "outputId": "efaae5fe-b54c-47e6-bf14-b6661b630aa7"
      },
      "outputs": [
        {
          "data": {
            "text/plain": [
              "array([[0., 0., 0.],\n",
              "       [0., 0., 0.],\n",
              "       [0., 0., 0.],\n",
              "       [0., 0., 0.]])"
            ]
          },
          "execution_count": 130,
          "metadata": {},
          "output_type": "execute_result"
        }
      ],
      "source": [
        "np.zeros((4,3))"
      ]
    },
    {
      "cell_type": "code",
      "execution_count": null,
      "metadata": {
        "id": "J_mMI_mRJEU-",
        "outputId": "11749945-ad7d-4cb3-ac59-025e00cc8a6f"
      },
      "outputs": [
        {
          "data": {
            "text/plain": [
              "array([[0, 0, 0],\n",
              "       [0, 0, 0],\n",
              "       [0, 0, 0],\n",
              "       [0, 0, 0]])"
            ]
          },
          "execution_count": 134,
          "metadata": {},
          "output_type": "execute_result"
        }
      ],
      "source": [
        "np.zeros((4,3),dtype=np.int32)"
      ]
    },
    {
      "cell_type": "code",
      "execution_count": null,
      "metadata": {
        "id": "vtzlQ3JIJEU_"
      },
      "outputs": [],
      "source": [
        "d=np.arange(1,20,2)"
      ]
    },
    {
      "cell_type": "code",
      "execution_count": null,
      "metadata": {
        "id": "blcFW-geJEVA",
        "outputId": "2d0fd9ad-0534-485b-f932-5cc1c51a24a4"
      },
      "outputs": [
        {
          "data": {
            "text/plain": [
              "array([ 1,  3,  5,  7,  9, 11, 13, 15, 17, 19])"
            ]
          },
          "execution_count": 136,
          "metadata": {},
          "output_type": "execute_result"
        }
      ],
      "source": [
        "d"
      ]
    },
    {
      "cell_type": "code",
      "execution_count": null,
      "metadata": {
        "id": "SJ2enfZbJEVB"
      },
      "outputs": [],
      "source": [
        "e=np.full((4,3),10)"
      ]
    },
    {
      "cell_type": "code",
      "execution_count": null,
      "metadata": {
        "id": "CH6JjfnvJEVC",
        "outputId": "6a942b6d-86fb-4270-9f41-b963fcd9ea60"
      },
      "outputs": [
        {
          "data": {
            "text/plain": [
              "array([[10, 10, 10],\n",
              "       [10, 10, 10],\n",
              "       [10, 10, 10],\n",
              "       [10, 10, 10]])"
            ]
          },
          "execution_count": 138,
          "metadata": {},
          "output_type": "execute_result"
        }
      ],
      "source": [
        "e"
      ]
    },
    {
      "cell_type": "code",
      "execution_count": null,
      "metadata": {
        "id": "kuZ4Z8BzJEVD",
        "outputId": "e63afd08-1a6e-4291-a69a-2f6c56a4ba33"
      },
      "outputs": [
        {
          "data": {
            "text/plain": [
              "array([1.        , 1.44444444, 1.88888889, 2.33333333, 2.77777778,\n",
              "       3.22222222, 3.66666667, 4.11111111, 4.55555556, 5.        ])"
            ]
          },
          "execution_count": 140,
          "metadata": {},
          "output_type": "execute_result"
        }
      ],
      "source": [
        "np.linspace(1,5,10)"
      ]
    },
    {
      "cell_type": "code",
      "execution_count": null,
      "metadata": {
        "id": "QJVsqnAoJEVE"
      },
      "outputs": [],
      "source": [
        "f=np.eye((3),dtype=np.int32)"
      ]
    },
    {
      "cell_type": "code",
      "execution_count": null,
      "metadata": {
        "id": "_49YwuksJEVE",
        "outputId": "7e27b1b2-fe53-49f5-e140-9a74a294716c"
      },
      "outputs": [
        {
          "data": {
            "text/plain": [
              "array([[1, 0, 0],\n",
              "       [0, 1, 0],\n",
              "       [0, 0, 1]])"
            ]
          },
          "execution_count": 144,
          "metadata": {},
          "output_type": "execute_result"
        }
      ],
      "source": [
        "f\n"
      ]
    },
    {
      "cell_type": "code",
      "execution_count": null,
      "metadata": {
        "id": "TJArXuJtJEVF",
        "outputId": "8669af61-aac8-44ee-848f-a5c872796278"
      },
      "outputs": [
        {
          "data": {
            "text/plain": [
              "array([[0.54707948, 0.77538155],\n",
              "       [0.90318887, 0.03420076],\n",
              "       [0.21124914, 0.30613003]])"
            ]
          },
          "execution_count": 145,
          "metadata": {},
          "output_type": "execute_result"
        }
      ],
      "source": [
        "np.random.random((3,2))"
      ]
    },
    {
      "cell_type": "code",
      "execution_count": null,
      "metadata": {
        "id": "YsLTyN-pJEVG",
        "outputId": "2d632608-5f4c-4f03-d360-47433a5e0699"
      },
      "outputs": [
        {
          "data": {
            "text/plain": [
              "array([[0.83491243, 0.38700593],\n",
              "       [0.58853679, 0.24985398],\n",
              "       [0.39541284, 0.86826672],\n",
              "       [0.69646632, 0.00377967]])"
            ]
          },
          "execution_count": 146,
          "metadata": {},
          "output_type": "execute_result"
        }
      ],
      "source": [
        "np.random.random((4,2))"
      ]
    },
    {
      "cell_type": "code",
      "execution_count": null,
      "metadata": {
        "id": "2ewC3vOUJEVH"
      },
      "outputs": [],
      "source": [
        "a=np.array([[1,2],[3,4]])\n",
        "b=np.array([[4,3],[2,1]])"
      ]
    },
    {
      "cell_type": "code",
      "execution_count": null,
      "metadata": {
        "id": "a8t23D4JJEVI",
        "outputId": "d2bc62c2-e8b8-4d78-87ec-c4e9cedaae14"
      },
      "outputs": [
        {
          "data": {
            "text/plain": [
              "array([[5, 5],\n",
              "       [5, 5]])"
            ]
          },
          "execution_count": 148,
          "metadata": {},
          "output_type": "execute_result"
        }
      ],
      "source": [
        "np.add(a,b)"
      ]
    },
    {
      "cell_type": "code",
      "execution_count": null,
      "metadata": {
        "id": "n2wcokU5JEVJ",
        "outputId": "6ac984c6-c863-4df5-d342-2bfaf1538c8e"
      },
      "outputs": [
        {
          "data": {
            "text/plain": [
              "array([[-3, -1],\n",
              "       [ 1,  3]])"
            ]
          },
          "execution_count": 150,
          "metadata": {},
          "output_type": "execute_result"
        }
      ],
      "source": [
        "np.subtract(a,b)"
      ]
    },
    {
      "cell_type": "code",
      "execution_count": null,
      "metadata": {
        "id": "9Y0jcW9EJEVK",
        "outputId": "affa5259-929b-433f-ae5a-7587604adfb3"
      },
      "outputs": [
        {
          "data": {
            "text/plain": [
              "array([[4, 6],\n",
              "       [6, 4]])"
            ]
          },
          "execution_count": 151,
          "metadata": {},
          "output_type": "execute_result"
        }
      ],
      "source": [
        "np.multiply(a,b)"
      ]
    },
    {
      "cell_type": "code",
      "execution_count": null,
      "metadata": {
        "id": "ctfq9W6jJEVL",
        "outputId": "6230faa7-b80a-4494-8294-db9b4bc971ed"
      },
      "outputs": [
        {
          "data": {
            "text/plain": [
              "array([[0.25      , 0.66666667],\n",
              "       [1.5       , 4.        ]])"
            ]
          },
          "execution_count": 152,
          "metadata": {},
          "output_type": "execute_result"
        }
      ],
      "source": [
        "np.divide(a,b)"
      ]
    },
    {
      "cell_type": "code",
      "execution_count": null,
      "metadata": {
        "id": "Xbh1rS4HJEVM",
        "outputId": "d6927928-2061-4d36-a643-44c25e5da059"
      },
      "outputs": [
        {
          "data": {
            "text/plain": [
              "array([3, 4])"
            ]
          },
          "execution_count": 153,
          "metadata": {},
          "output_type": "execute_result"
        }
      ],
      "source": [
        "a.max(axis=0)"
      ]
    },
    {
      "cell_type": "code",
      "execution_count": null,
      "metadata": {
        "id": "_HQJCREZJEVM",
        "outputId": "5c2c5eb7-4414-4d73-8d5e-ba58a0cc8119"
      },
      "outputs": [
        {
          "data": {
            "text/plain": [
              "array([2, 4])"
            ]
          },
          "execution_count": 154,
          "metadata": {},
          "output_type": "execute_result"
        }
      ],
      "source": [
        "a.max(axis=1)"
      ]
    },
    {
      "cell_type": "code",
      "execution_count": null,
      "metadata": {
        "id": "HX0l3gyEJEVN",
        "outputId": "ececc57b-23b8-4128-d7db-ce4a8078f2ed"
      },
      "outputs": [
        {
          "data": {
            "text/plain": [
              "array([[ 2.71828183,  7.3890561 ],\n",
              "       [20.08553692, 54.59815003]])"
            ]
          },
          "execution_count": 155,
          "metadata": {},
          "output_type": "execute_result"
        }
      ],
      "source": [
        "np.exp(a)"
      ]
    },
    {
      "cell_type": "code",
      "execution_count": null,
      "metadata": {
        "id": "T4fY8rnDJEVO",
        "outputId": "48250306-a7cb-4b35-90ed-fb1290280f78"
      },
      "outputs": [
        {
          "data": {
            "text/plain": [
              "array([[ 0.84147098,  0.90929743],\n",
              "       [ 0.14112001, -0.7568025 ]])"
            ]
          },
          "execution_count": 156,
          "metadata": {},
          "output_type": "execute_result"
        }
      ],
      "source": [
        "np.sin(a)"
      ]
    },
    {
      "cell_type": "code",
      "execution_count": null,
      "metadata": {
        "id": "NwKXJigVJEVQ",
        "outputId": "f93560f2-2370-4340-c2fe-016209f0a2e1"
      },
      "outputs": [
        {
          "data": {
            "text/plain": [
              "array([[ 0.54030231, -0.41614684],\n",
              "       [-0.9899925 , -0.65364362]])"
            ]
          },
          "execution_count": 157,
          "metadata": {},
          "output_type": "execute_result"
        }
      ],
      "source": [
        "np.cos(a)"
      ]
    },
    {
      "cell_type": "code",
      "execution_count": null,
      "metadata": {
        "id": "b8Ozm9uPJEVR",
        "outputId": "65db4bad-d94a-4b7a-955a-22cfaa6ec98c"
      },
      "outputs": [
        {
          "data": {
            "text/plain": [
              "array([[0.        , 0.69314718],\n",
              "       [1.09861229, 1.38629436]])"
            ]
          },
          "execution_count": 158,
          "metadata": {},
          "output_type": "execute_result"
        }
      ],
      "source": [
        "np.log(a)"
      ]
    },
    {
      "cell_type": "code",
      "execution_count": null,
      "metadata": {
        "id": "a_MbAgwkJEVS",
        "outputId": "ce9f6ff2-f910-4da8-9d1b-320a7ee2401f"
      },
      "outputs": [
        {
          "data": {
            "text/plain": [
              "array([[False, False],\n",
              "       [False, False]])"
            ]
          },
          "execution_count": 159,
          "metadata": {},
          "output_type": "execute_result"
        }
      ],
      "source": [
        "a==b"
      ]
    },
    {
      "cell_type": "code",
      "execution_count": null,
      "metadata": {
        "id": "R145d8YMJEVT",
        "outputId": "ce667d47-6c83-48f2-bca3-0a1dcb8e5b5d"
      },
      "outputs": [
        {
          "data": {
            "text/plain": [
              "array([[ True, False],\n",
              "       [False, False]])"
            ]
          },
          "execution_count": 160,
          "metadata": {},
          "output_type": "execute_result"
        }
      ],
      "source": [
        "a<2"
      ]
    },
    {
      "cell_type": "code",
      "execution_count": null,
      "metadata": {
        "id": "zAohf4dHJEVU",
        "outputId": "0bfa62ee-5fc4-4f97-ff50-9d7d5f7f2243"
      },
      "outputs": [
        {
          "data": {
            "text/plain": [
              "10"
            ]
          },
          "execution_count": 161,
          "metadata": {},
          "output_type": "execute_result"
        }
      ],
      "source": [
        "a.sum()"
      ]
    },
    {
      "cell_type": "code",
      "execution_count": null,
      "metadata": {
        "id": "3C76nvEzJEVV",
        "outputId": "3cf5bae0-5e40-4223-f376-f12e5fd47a15"
      },
      "outputs": [
        {
          "data": {
            "text/plain": [
              "1"
            ]
          },
          "execution_count": 162,
          "metadata": {},
          "output_type": "execute_result"
        }
      ],
      "source": [
        "a.min()"
      ]
    },
    {
      "cell_type": "code",
      "execution_count": null,
      "metadata": {
        "id": "dy4Be_-3JEVX",
        "outputId": "619754ff-0661-4200-b275-88af5ce19f73"
      },
      "outputs": [
        {
          "data": {
            "text/plain": [
              "array([[1, 2],\n",
              "       [4, 6]], dtype=int32)"
            ]
          },
          "execution_count": 164,
          "metadata": {},
          "output_type": "execute_result"
        }
      ],
      "source": [
        "a.cumsum(axis=0)"
      ]
    },
    {
      "cell_type": "code",
      "execution_count": null,
      "metadata": {
        "id": "PpZrccXqJEVY",
        "outputId": "6beeabed-905f-4dcf-9aca-9a6ab5f248fa"
      },
      "outputs": [
        {
          "data": {
            "text/plain": [
              "2.5"
            ]
          },
          "execution_count": 165,
          "metadata": {},
          "output_type": "execute_result"
        }
      ],
      "source": [
        "np.mean(a)"
      ]
    },
    {
      "cell_type": "code",
      "execution_count": null,
      "metadata": {
        "id": "wA5T1SMGJEVZ",
        "outputId": "f1953fc2-e695-4d68-c88b-6b91ded88353"
      },
      "outputs": [
        {
          "data": {
            "text/plain": [
              "2.5"
            ]
          },
          "execution_count": 167,
          "metadata": {},
          "output_type": "execute_result"
        }
      ],
      "source": [
        "np.median(a)"
      ]
    },
    {
      "cell_type": "code",
      "execution_count": null,
      "metadata": {
        "id": "_WzIrY-hJEVa",
        "outputId": "74d64676-c0fb-4810-e622-51b9a4b5ae8c"
      },
      "outputs": [
        {
          "data": {
            "text/plain": [
              "1.118033988749895"
            ]
          },
          "execution_count": 168,
          "metadata": {},
          "output_type": "execute_result"
        }
      ],
      "source": [
        "np.std(a)"
      ]
    },
    {
      "cell_type": "markdown",
      "metadata": {
        "id": "CCsPbVxxJEVb"
      },
      "source": [
        "# Matplotlib"
      ]
    },
    {
      "cell_type": "code",
      "execution_count": null,
      "metadata": {
        "id": "dM2JxskSJEVc",
        "outputId": "3a5eaa80-c1a4-46dc-e53d-d27328843188"
      },
      "outputs": [
        {
          "data": {
            "image/png": "[encoded data removed]",
            "text/plain": [
              "<Figure size 432x288 with 1 Axes>"
            ]
          },
          "metadata": {
            "needs_background": "light"
          },
          "output_type": "display_data"
        }
      ],
      "source": [
        "import matplotlib.pyplot as plt\n",
        "import numpy as np\n",
        "x=np.array([0,5])\n",
        "y=np.array([0,5])\n",
        "plt.plot(x,y)\n",
        "plt.show()"
      ]
    },
    {
      "cell_type": "code",
      "execution_count": null,
      "metadata": {
        "id": "lsGzUoSZJEVd",
        "outputId": "88d70739-fe85-4d17-fe31-7e571ff48450"
      },
      "outputs": [
        {
          "data": {
            "image/png": "[encoded data removed]",
            "text/plain": [
              "<Figure size 432x288 with 1 Axes>"
            ]
          },
          "metadata": {
            "needs_background": "light"
          },
          "output_type": "display_data"
        }
      ],
      "source": [
        "x=np.array([0,5])\n",
        "y=np.array([0,5])\n",
        "plt.plot(x,y,'o')\n",
        "plt.show()"
      ]
    },
    {
      "cell_type": "code",
      "execution_count": null,
      "metadata": {
        "id": "uaPoXEQQJEVe",
        "outputId": "a214ebd4-1f60-48e9-90b9-4b7e861c0c74"
      },
      "outputs": [
        {
          "data": {
            "image/png": "[encoded data removed]",
            "text/plain": [
              "<Figure size 432x288 with 1 Axes>"
            ]
          },
          "metadata": {
            "needs_background": "light"
          },
          "output_type": "display_data"
        }
      ],
      "source": [
        "x=np.array([0,2,4,6,8])\n",
        "y=np.array([3,8,2,7,9])\n",
        "plt.plot(x,y,marker=\"_\")\n",
        "plt.show()"
      ]
    },
    {
      "cell_type": "markdown",
      "metadata": {
        "id": "1qO3aCAkJEVf"
      },
      "source": [
        "#### plotting without x,it will take defaults values like 1,2,3,4 for x"
      ]
    },
    {
      "cell_type": "code",
      "execution_count": null,
      "metadata": {
        "id": "8AKa-T47JEVg",
        "outputId": "0737e6b7-1541-4e50-d434-f2bf7ff52a01"
      },
      "outputs": [
        {
          "data": {
            "image/png": "[encoded data removed]",
            "text/plain": [
              "<Figure size 432x288 with 1 Axes>"
            ]
          },
          "metadata": {
            "needs_background": "light"
          },
          "output_type": "display_data"
        }
      ],
      "source": [
        "y=np.array([3,8,2,7,9])\n",
        "plt.plot(y)\n",
        "plt.show()"
      ]
    },
    {
      "cell_type": "code",
      "execution_count": null,
      "metadata": {
        "id": "_nRcq9r2JEVh",
        "outputId": "b3ed7034-c215-4096-f38e-e1b3686503aa"
      },
      "outputs": [
        {
          "data": {
            "image/png": "[encoded data removed]",
            "text/plain": [
              "<Figure size 432x288 with 1 Axes>"
            ]
          },
          "metadata": {
            "needs_background": "light"
          },
          "output_type": "display_data"
        }
      ],
      "source": [
        "y=np.array([3,8,2,7,9])\n",
        "plt.plot(y,marker=\"_\")\n",
        "plt.show()"
      ]
    },
    {
      "cell_type": "code",
      "execution_count": null,
      "metadata": {
        "id": "7eBJ0FY-JEVj",
        "outputId": "80e96784-335f-473b-eb0a-7eade585f0a7"
      },
      "outputs": [
        {
          "data": {
            "image/png": "[encoded data removed]",
            "text/plain": [
              "<Figure size 432x288 with 1 Axes>"
            ]
          },
          "metadata": {
            "needs_background": "light"
          },
          "output_type": "display_data"
        }
      ],
      "source": [
        "y=np.array([3,8,2,7,9])\n",
        "plt.plot(y,'o:g')\n",
        "plt.show()"
      ]
    },
    {
      "cell_type": "code",
      "execution_count": null,
      "metadata": {
        "id": "s_cBg1jNJEVk",
        "outputId": "7a9321ae-d891-4680-fb28-abce67874e6c"
      },
      "outputs": [
        {
          "data": {
            "image/png": "[encoded data removed]",
            "text/plain": [
              "<Figure size 432x288 with 1 Axes>"
            ]
          },
          "metadata": {
            "needs_background": "light"
          },
          "output_type": "display_data"
        }
      ],
      "source": [
        "y=np.array([3,8,2,7,9])\n",
        "plt.plot(y,'o--g')\n",
        "plt.show()"
      ]
    },
    {
      "cell_type": "code",
      "execution_count": null,
      "metadata": {
        "id": "Yy0oNqFxJEVm",
        "outputId": "5ccf0350-f311-46be-f399-1e56943e455b"
      },
      "outputs": [
        {
          "data": {
            "image/png": "[encoded data removed]",
            "text/plain": [
              "<Figure size 432x288 with 1 Axes>"
            ]
          },
          "metadata": {
            "needs_background": "light"
          },
          "output_type": "display_data"
        }
      ],
      "source": [
        "y=np.array([3,8,2,7,9])\n",
        "plt.plot(y,marker=\"*\",ms=10,mec='g',mfc='y',color='y')\n",
        "plt.show()"
      ]
    },
    {
      "cell_type": "code",
      "execution_count": null,
      "metadata": {
        "id": "yHapLVK5JEVn",
        "outputId": "61b9152e-702c-493c-eb65-c911d4895a9a"
      },
      "outputs": [
        {
          "data": {
            "image/png": "[encoded data removed]",
            "text/plain": [
              "<Figure size 432x288 with 1 Axes>"
            ]
          },
          "metadata": {
            "needs_background": "light"
          },
          "output_type": "display_data"
        }
      ],
      "source": [
        "x=np.array([2000,2006,2008,2022])\n",
        "y=np.array([3,1,2,9])\n",
        "plt.plot(x,y)\n",
        "plt.title(\"Covid Cases\")\n",
        "plt.xlabel(\"year\")\n",
        "plt.ylabel(\"Percentage\")\n",
        "plt.show()"
      ]
    },
    {
      "cell_type": "code",
      "execution_count": null,
      "metadata": {
        "id": "_q1eCxMkJEVp",
        "outputId": "88b02afe-f255-4049-cfec-2c3bddd4909a"
      },
      "outputs": [
        {
          "data": {
            "image/png": "[encoded data removed]",
            "text/plain": [
              "<Figure size 432x288 with 1 Axes>"
            ]
          },
          "metadata": {
            "needs_background": "light"
          },
          "output_type": "display_data"
        }
      ],
      "source": [
        "x=np.array([2000,2006,2008,2022])\n",
        "y=np.array([3,1,2,9])\n",
        "plt.plot(x,y,\"*--r\",mfc='y',mec='k')\n",
        "plt.title(\"Covid Cases\")\n",
        "plt.xlabel(\"year\")\n",
        "plt.ylabel(\"Percentage\")\n",
        "plt.grid(axis='x',color='y',ls='--')\n",
        "plt.show()"
      ]
    },
    {
      "cell_type": "markdown",
      "metadata": {
        "id": "kEtz1iF9JEVq"
      },
      "source": [
        "# scatter"
      ]
    },
    {
      "cell_type": "code",
      "execution_count": null,
      "metadata": {
        "id": "bRXp0C4uJEVr",
        "outputId": "7141c6a4-849a-49a0-822a-c1b73096f14e"
      },
      "outputs": [
        {
          "data": {
            "image/png": "[encoded data removed]",
            "text/plain": [
              "<Figure size 432x288 with 1 Axes>"
            ]
          },
          "metadata": {
            "needs_background": "light"
          },
          "output_type": "display_data"
        }
      ],
      "source": [
        "x=np.array([0,2,4,6,8])\n",
        "y=np.array([3,8,2,7,9])\n",
        "plt.scatter(x,y)\n",
        "plt.show()"
      ]
    },
    {
      "cell_type": "markdown",
      "metadata": {
        "id": "8VQo2hbPJEVs"
      },
      "source": [
        "# bar"
      ]
    },
    {
      "cell_type": "code",
      "execution_count": null,
      "metadata": {
        "id": "8jMtduMSJEVt",
        "outputId": "28000795-1f9d-45f8-ea7b-e3822592e442"
      },
      "outputs": [
        {
          "data": {
            "image/png": "[encoded data removed]",
            "text/plain": [
              "<Figure size 432x288 with 1 Axes>"
            ]
          },
          "metadata": {
            "needs_background": "light"
          },
          "output_type": "display_data"
        }
      ],
      "source": [
        "x=np.array(['python','Java','ml'])\n",
        "y=np.array([3,8,2])\n",
        "plt.bar(x,y)\n",
        "plt.show()"
      ]
    },
    {
      "cell_type": "code",
      "execution_count": null,
      "metadata": {
        "id": "1VNjlsvrJEVu",
        "outputId": "5fc77e2f-f980-4e38-fe38-aadc1b8369d4"
      },
      "outputs": [
        {
          "data": {
            "image/png": "[encoded data removed]",
            "text/plain": [
              "<Figure size 432x288 with 1 Axes>"
            ]
          },
          "metadata": {
            "needs_background": "light"
          },
          "output_type": "display_data"
        }
      ],
      "source": [
        "x=np.array(['python','Java','ml'])\n",
        "y=np.array([3,8,2])\n",
        "plt.bar(x,y,width=0.3)\n",
        "plt.show()"
      ]
    },
    {
      "cell_type": "code",
      "execution_count": null,
      "metadata": {
        "id": "pzAUWQ5zJEVv",
        "outputId": "88452e96-6e86-4253-d48a-4d733226d49b"
      },
      "outputs": [
        {
          "data": {
            "image/png": "[encoded data removed]",
            "text/plain": [
              "<Figure size 432x288 with 1 Axes>"
            ]
          },
          "metadata": {
            "needs_background": "light"
          },
          "output_type": "display_data"
        }
      ],
      "source": [
        "x=np.array(['python','Java','ml'])\n",
        "y=np.array([3,8,2])\n",
        "plt.barh(x,y,height=0.3)\n",
        "plt.show()"
      ]
    },
    {
      "cell_type": "markdown",
      "metadata": {
        "id": "x9TAc3r2JEVw"
      },
      "source": [
        "# histogram"
      ]
    },
    {
      "cell_type": "code",
      "execution_count": null,
      "metadata": {
        "id": "uNHK4R5kJEVx",
        "outputId": "8732b350-4f66-4e6b-d959-9c70a7adac91"
      },
      "outputs": [
        {
          "data": {
            "image/png": "[encoded data removed]",
            "text/plain": [
              "<Figure size 432x288 with 1 Axes>"
            ]
          },
          "metadata": {
            "needs_background": "light"
          },
          "output_type": "display_data"
        }
      ],
      "source": [
        "\n",
        "y=np.random.normal(3,8,20)\n",
        "plt.hist(y)\n",
        "plt.show()"
      ]
    },
    {
      "cell_type": "markdown",
      "metadata": {
        "id": "bcsR0oNvJEVz"
      },
      "source": [
        "# pie chart"
      ]
    },
    {
      "cell_type": "code",
      "execution_count": null,
      "metadata": {
        "id": "KfJ68OnqJEV0",
        "outputId": "5ca1f394-e12a-4563-eac0-a680cca14656"
      },
      "outputs": [
        {
          "data": {
            "image/png": "[encoded data removed]",
            "text/plain": [
              "<Figure size 432x288 with 1 Axes>"
            ]
          },
          "metadata": {},
          "output_type": "display_data"
        }
      ],
      "source": [
        "x=np.array([3,8,2,5])\n",
        "label=['python','Java','ml','cpp']\n",
        "plt.pie(x,labels=label,startangle=50)\n",
        "plt.show()"
      ]
    },
    {
      "cell_type": "code",
      "execution_count": null,
      "metadata": {
        "id": "fO_J4lPLJEV1",
        "outputId": "5490122b-b7e6-4732-81da-50b7986a9a11"
      },
      "outputs": [
        {
          "data": {
            "image/png": "[encoded data removed]",
            "text/plain": [
              "<Figure size 432x288 with 1 Axes>"
            ]
          },
          "metadata": {},
          "output_type": "display_data"
        }
      ],
      "source": [
        "x=np.array([3,8,2,5])\n",
        "label=['python','Java','ml','cpp']\n",
        "exp=[0.2,0,0.3,0]\n",
        "color=['pink','yellow','k','orange']\n",
        "plt.pie(x,labels=label,startangle=50,explode=exp,shadow=True,colors=color)\n",
        "plt.legend(title=\"Languages\")\n",
        "plt.show()"
      ]
    },
    {
      "cell_type": "code",
      "execution_count": null,
      "metadata": {
        "id": "69YsQM7uJEV3",
        "outputId": "28db09a8-d0ab-463c-d0f6-07a62b58ea40"
      },
      "outputs": [
        {
          "name": "stdout",
          "output_type": "stream",
          "text": [
            "    Size Color     Shape Class\n",
            "0    Big   Red    Circle     N\n",
            "1  Small   Red  Triangle     N\n",
            "2  Small   Red    Circle     Y\n",
            "3    Big  Blue    Circle     N\n",
            "4  Small  Blue    Circle     Y\n",
            "The attributes are:\n",
            " [['Big' 'Red' 'Circle']\n",
            " ['Small' 'Red' 'Triangle']\n",
            " ['Small' 'Red' 'Circle']\n",
            " ['Big' 'Blue' 'Circle']\n",
            " ['Small' 'Blue' 'Circle']]\n",
            "The target is:  ['N' 'N' 'Y' 'N' 'Y']\n",
            "The final hypothesis is: ['Small' '?' 'Circle']\n"
          ]
        }
      ],
      "source": [
        "import pandas as pd\n",
        "import random\n",
        "data=pd.read_csv(\"ex2.csv\")\n",
        "print(data)\n",
        " \n",
        "#making an array of all the attributes\n",
        "d = np.array(data)[:,:-1]\n",
        "print(\"The attributes are:\\n\",d)\n",
        " \n",
        "#segragating the target that has positive and negative examples\n",
        "target = np.array(data)[:,-1]\n",
        "print(\"The target is: \",target)\n",
        " \n",
        "#training function to implement find-s algorithm\n",
        "def train(c,t):\n",
        "    for i, val in enumerate(t):\n",
        "        if val == \"Y\":\n",
        "            specific_hypothesis = c[i].copy()\n",
        "            break\n",
        "             \n",
        "    for i, val in enumerate(c):\n",
        "        if t[i] == \"Y\":\n",
        "            for x in range(len(specific_hypothesis)):\n",
        "                if val[x] != specific_hypothesis[x]:\n",
        "                    specific_hypothesis[x] = '?'\n",
        "                else:\n",
        "                    pass\n",
        "                 \n",
        "    return specific_hypothesis\n",
        " \n",
        "#obtaining the final hypothesis\n",
        "print(\"The final hypothesis is:\",train(d,target))"
      ]
    },
    {
      "cell_type": "markdown",
      "metadata": {
        "id": "1vV2Dd_sJEV4"
      },
      "source": [
        "# candidate elimination algorithm"
      ]
    },
    {
      "cell_type": "code",
      "execution_count": null,
      "metadata": {
        "id": "t1WUMqKNJEV5"
      },
      "outputs": [],
      "source": [
        "import random\n",
        "import csv"
      ]
    },
    {
      "cell_type": "code",
      "execution_count": null,
      "metadata": {
        "id": "j2uQu5W6JEV6"
      },
      "outputs": [],
      "source": [
        "def g_0(n):\n",
        "    return (\"?\",)*n\n",
        "\n",
        "def s_0(n):\n",
        "    return ('0',)*n "
      ]
    },
    {
      "cell_type": "code",
      "execution_count": null,
      "metadata": {
        "id": "leFsHPxfJEV6",
        "outputId": "2e093c16-951d-4b5d-c308-35fee6ef525b"
      },
      "outputs": [
        {
          "data": {
            "text/plain": [
              "[(1, 3), (2, 4), (3, 5)]"
            ]
          },
          "execution_count": 3,
          "metadata": {},
          "output_type": "execute_result"
        }
      ],
      "source": [
        "def more_general(h1, h2):\n",
        "    more_general_parts = []\n",
        "    for x, y in zip(h1, h2):\n",
        "        mg = x == \"?\" or (x != \"0\" and (x == y or y == \"0\"))\n",
        "        more_general_parts.append(mg)\n",
        "    return all(more_general_parts)\n",
        "\n",
        "l1 = [1, 2, 3]\n",
        "l2 = [3, 4, 5]\n",
        "\n",
        "list(zip(l1, l2))"
      ]
    },
    {
      "cell_type": "code",
      "execution_count": null,
      "metadata": {
        "id": "lnsRzzsNJEV7"
      },
      "outputs": [],
      "source": [
        "# min_generalizations\n",
        "def fulfills(example, hypothesis):\n",
        "    ### the implementation is the same as for hypotheses:\n",
        "    return more_general(hypothesis, example)\n",
        "\n",
        "def min_generalizations(h, x):\n",
        "    h_new = list(h)\n",
        "    for i in range(len(h)):\n",
        "        if not fulfills(x[i:i+1], h[i:i+1]):\n",
        "            h_new[i] = '?' if h[i] != '0' else x[i]\n",
        "    return [tuple(h_new)]"
      ]
    },
    {
      "cell_type": "code",
      "execution_count": null,
      "metadata": {
        "id": "NF9yuXUQJEV8",
        "outputId": "67e46f36-5ca4-4347-9129-ebdb579c7f22"
      },
      "outputs": [
        {
          "data": {
            "text/plain": [
              "[('rainy', 'windy', '?')]"
            ]
          },
          "execution_count": 5,
          "metadata": {},
          "output_type": "execute_result"
        }
      ],
      "source": [
        "min_generalizations(h=('0', '0'  , 'sunny'), \n",
        "                    x=('rainy', 'windy', 'cloudy'))"
      ]
    },
    {
      "cell_type": "code",
      "execution_count": null,
      "metadata": {
        "id": "zE54PXubJEV9"
      },
      "outputs": [],
      "source": [
        "def min_specializations(h, domains, x):\n",
        "    results = []\n",
        "    for i in range(len(h)):\n",
        "        if h[i] == \"?\":\n",
        "            for val in domains[i]:\n",
        "                if x[i] != val:\n",
        "                    h_new = h[:i] + (val,) + h[i+1:]\n",
        "                    results.append(h_new)\n",
        "        elif h[i] != \"0\":\n",
        "            h_new = h[:i] + ('0',) + h[i+1:]\n",
        "            results.append(h_new)\n",
        "    return results"
      ]
    },
    {
      "cell_type": "code",
      "execution_count": null,
      "metadata": {
        "id": "hknZXLIoJEV-",
        "outputId": "4eae3e09-8484-48cd-9efb-68747cbd6085"
      },
      "outputs": [
        {
          "data": {
            "text/plain": [
              "[('a', 'x'), ('c', 'x'), ('?', '0')]"
            ]
          },
          "execution_count": 22,
          "metadata": {},
          "output_type": "execute_result"
        }
      ],
      "source": [
        "min_specializations(h=('?', 'x',), \n",
        "                    domains=[['a', 'b', 'c'], ['x', 'y','z']], \n",
        "                    x=('b', 'x'))"
      ]
    },
    {
      "cell_type": "code",
      "execution_count": null,
      "metadata": {
        "id": "9Cpan0SNJEV-"
      },
      "outputs": [],
      "source": [
        "with open('D:\\ml datasets\\ex2.csv')  as csvFile:\n",
        "        examples = [tuple(line) for line in csv.reader(csvFile)]"
      ]
    },
    {
      "cell_type": "code",
      "execution_count": null,
      "metadata": {
        "id": "lL3M6S0fJEV_",
        "outputId": "8cdf5f22-e42a-4226-a239-110981928fdf"
      },
      "outputs": [
        {
          "data": {
            "text/plain": [
              "[('Size', 'Color', 'Shape', 'Class', ''),\n",
              " ('Big', 'Red', 'Circle', 'No', ''),\n",
              " ('Small', 'Red', 'Triangle', 'No', ''),\n",
              " ('Small', 'Red', 'Circle', 'Yes', ''),\n",
              " ('Big', 'Blue', 'Circle', 'No', ''),\n",
              " ('Small', 'Blue', 'Circle', 'Yes', '')]"
            ]
          },
          "execution_count": 24,
          "metadata": {},
          "output_type": "execute_result"
        }
      ],
      "source": [
        "examples"
      ]
    },
    {
      "cell_type": "code",
      "execution_count": null,
      "metadata": {
        "id": "l-ShsogWJEWB",
        "outputId": "d4a3c95a-0d64-4281-94a5-768912fd28d0"
      },
      "outputs": [
        {
          "data": {
            "text/plain": [
              "[['Big', 'Size', 'Small'],\n",
              " ['Blue', 'Color', 'Red'],\n",
              " ['Circle', 'Shape', 'Triangle'],\n",
              " ['Class', 'No', 'Yes'],\n",
              " ['']]"
            ]
          },
          "execution_count": 25,
          "metadata": {},
          "output_type": "execute_result"
        }
      ],
      "source": [
        "def get_domains(examples):\n",
        "    d = [set() for i in examples[0]]\n",
        "    for x in examples:\n",
        "        for i, xi in enumerate(x):\n",
        "            d[i].add(xi)\n",
        "    return [list(sorted(x)) for x in d]\n",
        "\n",
        "get_domains(examples)"
      ]
    },
    {
      "cell_type": "code",
      "execution_count": null,
      "metadata": {
        "id": "S78rQDyWJEWC"
      },
      "outputs": [],
      "source": [
        "def candidate_elimination(examples):\n",
        "    domains = get_domains(examples)[:-1]\n",
        "    \n",
        "    G = set([g_0(len(domains))])\n",
        "    S = set([s_0(len(domains))])\n",
        "    i=0\n",
        "    print(\"\\n G[{0}]:\".format(i),G)\n",
        "    print(\"\\n S[{0}]:\".format(i),S)\n",
        "    for xcx in examples:\n",
        "        i=i+1\n",
        "        x, cx = xcx[:-1], xcx[-1]  # Splitting data into attributes and decisions\n",
        "        if cx=='Y': # x is positive example\n",
        "            G = {g for g in G if fulfills(x, g)}\n",
        "            S = generalize_S(x, G, S)\n",
        "        else: # x is negative example\n",
        "            S = {s for s in S if not fulfills(x, s)}\n",
        "            G = specialize_G(x, domains, G, S)\n",
        "        print(\"\\n G[{0}]:\".format(i),G)\n",
        "        print(\"\\n S[{0}]:\".format(i),S)\n",
        "    return "
      ]
    },
    {
      "cell_type": "code",
      "execution_count": null,
      "metadata": {
        "id": "RFaqEhIGJEWD"
      },
      "outputs": [],
      "source": [
        "def generalize_S(x, G, S):\n",
        "    S_prev = list(S)\n",
        "    for s in S_prev:\n",
        "        if s not in S:\n",
        "            continue\n",
        "        if not fulfills(x, s):\n",
        "            S.remove(s)\n",
        "            Splus = min_generalizations(s, x)\n",
        "            ## keep only generalizations that have a counterpart in G\n",
        "            S.update([h for h in Splus if any([more_general(g,h) \n",
        "                                               for g in G])])\n",
        "            ## remove hypotheses less specific than any other in S\n",
        "            S.difference_update([h for h in S if \n",
        "                                 any([more_general(h, h1) \n",
        "                                      for h1 in S if h != h1])])\n",
        "    return S"
      ]
    },
    {
      "cell_type": "code",
      "execution_count": null,
      "metadata": {
        "id": "ixqbaWr3JEWE"
      },
      "outputs": [],
      "source": [
        "def specialize_G(x, domains, G, S):\n",
        "    G_prev = list(G)\n",
        "    for g in G_prev:\n",
        "        if g not in G:\n",
        "            continue\n",
        "        if fulfills(x, g):\n",
        "            G.remove(g)\n",
        "            Gminus = min_specializations(g, domains, x)\n",
        "            ## keep only specializations that have a conuterpart in S\n",
        "            G.update([h for h in Gminus if any([more_general(h, s)\n",
        "                                                for s in S])])\n",
        "            ## remove hypotheses less general than any other in G\n",
        "            G.difference_update([h for h in G if \n",
        "                                 any([more_general(g1, h) \n",
        "                                      for g1 in G if h != g1])])\n",
        "    return G"
      ]
    },
    {
      "cell_type": "code",
      "execution_count": null,
      "metadata": {
        "id": "_H9Fdk9GJEWG",
        "outputId": "4219bea0-0e54-4ba7-8100-a9ec10b070b4"
      },
      "outputs": [
        {
          "name": "stdout",
          "output_type": "stream",
          "text": [
            "\n",
            " G[0]: {('?', '?', '?', '?')}\n",
            "\n",
            " S[0]: {('0', '0', '0', '0')}\n",
            "\n",
            " G[1]: {('?', '?', '?', 'Yes'), ('Big', '?', '?', '?'), ('?', '?', 'Triangle', '?'), ('?', '?', 'Circle', '?'), ('?', 'Blue', '?', '?'), ('?', '?', '?', 'No'), ('Small', '?', '?', '?'), ('?', 'Red', '?', '?')}\n",
            "\n",
            " S[1]: {('0', '0', '0', '0')}\n",
            "\n",
            " G[2]: {('?', '?', '?', 'Yes'), ('?', 'Color', 'Circle', '?'), ('?', '?', 'Triangle', '?'), ('?', 'Blue', '?', '?'), ('?', 'Color', '?', 'No'), ('Small', '?', '?', '?'), ('Big', '?', '?', 'Class'), ('Big', '?', 'Shape', '?'), ('?', '?', 'Shape', 'No'), ('?', 'Red', 'Shape', '?'), ('Size', 'Red', '?', '?'), ('Big', 'Color', '?', '?'), ('?', '?', 'Circle', 'Class'), ('Size', '?', 'Circle', '?'), ('?', 'Red', '?', 'Class'), ('Size', '?', '?', 'No')}\n",
            "\n",
            " S[2]: {('0', '0', '0', '0')}\n",
            "\n",
            " G[3]: {('?', '?', '?', 'Yes'), ('?', 'Color', 'Circle', '?'), ('?', 'Blue', '?', '?'), ('?', 'Color', '?', 'No'), ('Small', 'Color', '?', '?'), ('Big', '?', '?', 'Class'), ('Big', '?', 'Shape', '?'), ('?', '?', 'Shape', 'No'), ('?', 'Red', 'Shape', '?'), ('Small', '?', 'Shape', '?'), ('Size', 'Red', '?', '?'), ('?', 'Color', 'Triangle', '?'), ('Big', '?', 'Triangle', '?'), ('Big', 'Color', '?', '?'), ('Small', '?', 'Circle', '?'), ('?', '?', 'Triangle', 'Class'), ('?', '?', 'Circle', 'Class'), ('Size', '?', 'Triangle', '?'), ('Size', '?', 'Circle', '?'), ('?', 'Red', '?', 'Class'), ('Small', '?', '?', 'Class'), ('Size', '?', '?', 'No')}\n",
            "\n",
            " S[3]: {('0', '0', '0', '0')}\n",
            "\n",
            " G[4]: {('?', 'Color', 'Circle', '?'), ('?', 'Color', '?', 'Yes'), ('?', 'Blue', '?', '?'), ('?', 'Color', '?', 'No'), ('Small', 'Color', '?', '?'), ('Big', '?', '?', 'Class'), ('Big', '?', 'Shape', '?'), ('Big', '?', '?', 'Yes'), ('?', '?', 'Shape', 'No'), ('?', 'Red', 'Shape', '?'), ('Small', '?', 'Shape', '?'), ('Size', 'Red', '?', '?'), ('?', 'Color', 'Triangle', '?'), ('Big', '?', 'Triangle', '?'), ('Big', 'Color', '?', '?'), ('Small', '?', 'Circle', 'No'), ('?', '?', 'Shape', 'Yes'), ('?', '?', 'Triangle', 'Class'), ('?', '?', 'Triangle', 'Yes'), ('?', '?', 'Circle', 'Class'), ('Size', '?', 'Triangle', '?'), ('Size', '?', 'Circle', '?'), ('Size', '?', '?', 'Yes'), ('?', 'Red', '?', 'Class'), ('Small', '?', '?', 'Class'), ('Size', '?', '?', 'No')}\n",
            "\n",
            " S[4]: {('0', '0', '0', '0')}\n",
            "\n",
            " G[5]: {('?', 'Color', '?', 'Yes'), ('?', 'Color', '?', 'No'), ('Small', 'Color', '?', '?'), ('Big', '?', 'Shape', '?'), ('Big', '?', '?', 'Yes'), ('?', 'Red', 'Shape', '?'), ('Small', 'Blue', '?', '?'), ('Size', 'Blue', '?', '?'), ('Big', 'Color', '?', '?'), ('?', 'Blue', '?', 'Yes'), ('?', '?', 'Triangle', 'Yes'), ('Size', '?', 'Triangle', '?'), ('?', 'Blue', '?', 'Class'), ('Size', '?', 'Circle', '?'), ('?', 'Red', '?', 'Class'), ('Small', '?', '?', 'Class'), ('?', 'Blue', 'Triangle', '?'), ('?', 'Color', 'Circle', '?'), ('Big', '?', '?', 'Class'), ('Size', 'Red', '?', '?'), ('?', 'Color', 'Triangle', '?'), ('Big', '?', 'Triangle', '?'), ('Small', '?', 'Circle', 'No'), ('?', '?', 'Shape', 'Yes'), ('?', '?', 'Triangle', 'Class'), ('?', '?', 'Circle', 'Class'), ('?', 'Blue', 'Shape', '?'), ('Size', '?', '?', 'Yes'), ('?', '?', 'Shape', 'No'), ('Small', '?', 'Shape', '?'), ('Size', '?', '?', 'No')}\n",
            "\n",
            " S[5]: {('0', '0', '0', '0')}\n",
            "\n",
            " G[6]: {('?', 'Color', '?', 'Yes'), ('?', 'Color', '?', 'No'), ('Small', 'Color', '?', '?'), ('Big', '?', 'Shape', '?'), ('Big', '?', '?', 'Yes'), ('?', 'Red', 'Shape', '?'), ('Size', 'Blue', '?', '?'), ('Big', 'Color', '?', '?'), ('Small', 'Blue', '?', 'No'), ('?', '?', 'Triangle', 'Yes'), ('Size', '?', 'Triangle', '?'), ('?', 'Blue', '?', 'Class'), ('Size', '?', 'Circle', '?'), ('?', 'Red', '?', 'Class'), ('Small', '?', '?', 'Class'), ('?', 'Blue', 'Triangle', '?'), ('?', 'Color', 'Circle', '?'), ('Big', '?', '?', 'Class'), ('Size', 'Red', '?', '?'), ('?', 'Color', 'Triangle', '?'), ('Big', '?', 'Triangle', '?'), ('Small', '?', 'Circle', 'No'), ('?', '?', 'Shape', 'Yes'), ('?', '?', 'Triangle', 'Class'), ('?', '?', 'Circle', 'Class'), ('?', 'Blue', 'Shape', '?'), ('Size', '?', '?', 'Yes'), ('?', '?', 'Shape', 'No'), ('Small', '?', 'Shape', '?'), ('Size', '?', '?', 'No')}\n",
            "\n",
            " S[6]: {('0', '0', '0', '0')}\n"
          ]
        }
      ],
      "source": [
        "candidate_elimination(examples)"
      ]
    },
    {
      "cell_type": "markdown",
      "metadata": {
        "id": "eGfsg2TDJEWH"
      },
      "source": [
        "# Decision tree"
      ]
    },
    {
      "cell_type": "code",
      "execution_count": null,
      "metadata": {
        "id": "o9b2P_R5JEWI"
      },
      "outputs": [],
      "source": [
        "import numpy as np\n",
        "import pandas as pd"
      ]
    },
    {
      "cell_type": "code",
      "execution_count": null,
      "metadata": {
        "id": "c6pvDRgpJEWJ"
      },
      "outputs": [],
      "source": [
        "PlayTennis= pd.read_csv(\"play_tennis.csv\")"
      ]
    },
    {
      "cell_type": "code",
      "execution_count": null,
      "metadata": {
        "id": "FH3RqYBTJEWK",
        "outputId": "4eeb07e4-9f7d-4551-f324-2c55068d3602"
      },
      "outputs": [
        {
          "data": {
            "text/html": [
              "<div>\n",
              "<style scoped>\n",
              "    .dataframe tbody tr th:only-of-type {\n",
              "        vertical-align: middle;\n",
              "    }\n",
              "\n",
              "    .dataframe tbody tr th {\n",
              "        vertical-align: top;\n",
              "    }\n",
              "\n",
              "    .dataframe thead th {\n",
              "        text-align: right;\n",
              "    }\n",
              "</style>\n",
              "<table border=\"1\" class=\"dataframe\">\n",
              "  <thead>\n",
              "    <tr style=\"text-align: right;\">\n",
              "      <th></th>\n",
              "      <th>Outlook</th>\n",
              "      <th>Temperature</th>\n",
              "      <th>Humidity</th>\n",
              "      <th>Wind</th>\n",
              "      <th>Play</th>\n",
              "    </tr>\n",
              "  </thead>\n",
              "  <tbody>\n",
              "    <tr>\n",
              "      <th>0</th>\n",
              "      <td>Sunny</td>\n",
              "      <td>Hot</td>\n",
              "      <td>High</td>\n",
              "      <td>Weak</td>\n",
              "      <td>No</td>\n",
              "    </tr>\n",
              "    <tr>\n",
              "      <th>1</th>\n",
              "      <td>Sunny</td>\n",
              "      <td>Hot</td>\n",
              "      <td>High</td>\n",
              "      <td>Strong</td>\n",
              "      <td>No</td>\n",
              "    </tr>\n",
              "    <tr>\n",
              "      <th>2</th>\n",
              "      <td>Overcast</td>\n",
              "      <td>Hot</td>\n",
              "      <td>High</td>\n",
              "      <td>Weak</td>\n",
              "      <td>Yes</td>\n",
              "    </tr>\n",
              "    <tr>\n",
              "      <th>3</th>\n",
              "      <td>Rain</td>\n",
              "      <td>Mild</td>\n",
              "      <td>High</td>\n",
              "      <td>Weak</td>\n",
              "      <td>Yes</td>\n",
              "    </tr>\n",
              "    <tr>\n",
              "      <th>4</th>\n",
              "      <td>Rain</td>\n",
              "      <td>Cool</td>\n",
              "      <td>Normaol</td>\n",
              "      <td>Weak</td>\n",
              "      <td>Yes</td>\n",
              "    </tr>\n",
              "    <tr>\n",
              "      <th>5</th>\n",
              "      <td>Rain</td>\n",
              "      <td>Cool</td>\n",
              "      <td>Normaol</td>\n",
              "      <td>Strong</td>\n",
              "      <td>No</td>\n",
              "    </tr>\n",
              "    <tr>\n",
              "      <th>6</th>\n",
              "      <td>Overcast</td>\n",
              "      <td>Cool</td>\n",
              "      <td>Normaol</td>\n",
              "      <td>Strong</td>\n",
              "      <td>Yes</td>\n",
              "    </tr>\n",
              "    <tr>\n",
              "      <th>7</th>\n",
              "      <td>Sunny</td>\n",
              "      <td>Mild</td>\n",
              "      <td>High</td>\n",
              "      <td>Weak</td>\n",
              "      <td>No</td>\n",
              "    </tr>\n",
              "    <tr>\n",
              "      <th>8</th>\n",
              "      <td>Sunny</td>\n",
              "      <td>Cool</td>\n",
              "      <td>Normaol</td>\n",
              "      <td>Weak</td>\n",
              "      <td>Yes</td>\n",
              "    </tr>\n",
              "    <tr>\n",
              "      <th>9</th>\n",
              "      <td>Rain</td>\n",
              "      <td>Mild</td>\n",
              "      <td>Normaol</td>\n",
              "      <td>Weak</td>\n",
              "      <td>Yes</td>\n",
              "    </tr>\n",
              "    <tr>\n",
              "      <th>10</th>\n",
              "      <td>Sunny</td>\n",
              "      <td>Mild</td>\n",
              "      <td>Normaol</td>\n",
              "      <td>Strong</td>\n",
              "      <td>Yes</td>\n",
              "    </tr>\n",
              "    <tr>\n",
              "      <th>11</th>\n",
              "      <td>Overcast</td>\n",
              "      <td>Mild</td>\n",
              "      <td>High</td>\n",
              "      <td>Strong</td>\n",
              "      <td>Yes</td>\n",
              "    </tr>\n",
              "    <tr>\n",
              "      <th>12</th>\n",
              "      <td>Overcast</td>\n",
              "      <td>Hot</td>\n",
              "      <td>Normaol</td>\n",
              "      <td>Weak</td>\n",
              "      <td>Yes</td>\n",
              "    </tr>\n",
              "    <tr>\n",
              "      <th>13</th>\n",
              "      <td>Rain</td>\n",
              "      <td>Mild</td>\n",
              "      <td>High</td>\n",
              "      <td>Strong</td>\n",
              "      <td>No</td>\n",
              "    </tr>\n",
              "  </tbody>\n",
              "</table>\n",
              "</div>"
            ],
            "text/plain": [
              "     Outlook Temperature Humidity    Wind Play\n",
              "0      Sunny         Hot     High    Weak   No\n",
              "1      Sunny         Hot     High  Strong   No\n",
              "2   Overcast         Hot     High    Weak  Yes\n",
              "3       Rain        Mild     High    Weak  Yes\n",
              "4       Rain        Cool  Normaol    Weak  Yes\n",
              "5       Rain        Cool  Normaol  Strong   No\n",
              "6   Overcast        Cool  Normaol  Strong  Yes\n",
              "7      Sunny        Mild     High    Weak   No\n",
              "8      Sunny        Cool  Normaol    Weak  Yes\n",
              "9       Rain        Mild  Normaol    Weak  Yes\n",
              "10     Sunny        Mild  Normaol  Strong  Yes\n",
              "11  Overcast        Mild     High  Strong  Yes\n",
              "12  Overcast         Hot  Normaol    Weak  Yes\n",
              "13      Rain        Mild     High  Strong   No"
            ]
          },
          "execution_count": 12,
          "metadata": {},
          "output_type": "execute_result"
        }
      ],
      "source": [
        "PlayTennis"
      ]
    },
    {
      "cell_type": "code",
      "execution_count": null,
      "metadata": {
        "id": "dpomxC2GJEWL"
      },
      "outputs": [],
      "source": [
        "from sklearn.preprocessing import LabelEncoder\n",
        "Le = LabelEncoder()\n",
        "\n",
        "PlayTennis['Outlook'] = Le.fit_transform(PlayTennis['Outlook'])\n",
        "PlayTennis['Temperature'] = Le.fit_transform(PlayTennis['Temperature'])\n",
        "PlayTennis['Humidity'] = Le.fit_transform(PlayTennis['Humidity'])\n",
        "PlayTennis['Wind'] = Le.fit_transform(PlayTennis['Wind'])\n",
        "PlayTennis['Play'] = Le.fit_transform(PlayTennis['Play'])"
      ]
    },
    {
      "cell_type": "code",
      "execution_count": null,
      "metadata": {
        "id": "Gio-Ta_dJEWM",
        "outputId": "652c7efe-3615-4d9f-bbaf-2fcf4e121b04"
      },
      "outputs": [
        {
          "data": {
            "text/html": [
              "<div>\n",
              "<style scoped>\n",
              "    .dataframe tbody tr th:only-of-type {\n",
              "        vertical-align: middle;\n",
              "    }\n",
              "\n",
              "    .dataframe tbody tr th {\n",
              "        vertical-align: top;\n",
              "    }\n",
              "\n",
              "    .dataframe thead th {\n",
              "        text-align: right;\n",
              "    }\n",
              "</style>\n",
              "<table border=\"1\" class=\"dataframe\">\n",
              "  <thead>\n",
              "    <tr style=\"text-align: right;\">\n",
              "      <th></th>\n",
              "      <th>Outlook</th>\n",
              "      <th>Temperature</th>\n",
              "      <th>Humidity</th>\n",
              "      <th>Wind</th>\n",
              "      <th>Play</th>\n",
              "    </tr>\n",
              "  </thead>\n",
              "  <tbody>\n",
              "    <tr>\n",
              "      <th>0</th>\n",
              "      <td>2</td>\n",
              "      <td>1</td>\n",
              "      <td>0</td>\n",
              "      <td>1</td>\n",
              "      <td>0</td>\n",
              "    </tr>\n",
              "    <tr>\n",
              "      <th>1</th>\n",
              "      <td>2</td>\n",
              "      <td>1</td>\n",
              "      <td>0</td>\n",
              "      <td>0</td>\n",
              "      <td>0</td>\n",
              "    </tr>\n",
              "    <tr>\n",
              "      <th>2</th>\n",
              "      <td>0</td>\n",
              "      <td>1</td>\n",
              "      <td>0</td>\n",
              "      <td>1</td>\n",
              "      <td>1</td>\n",
              "    </tr>\n",
              "    <tr>\n",
              "      <th>3</th>\n",
              "      <td>1</td>\n",
              "      <td>2</td>\n",
              "      <td>0</td>\n",
              "      <td>1</td>\n",
              "      <td>1</td>\n",
              "    </tr>\n",
              "    <tr>\n",
              "      <th>4</th>\n",
              "      <td>1</td>\n",
              "      <td>0</td>\n",
              "      <td>1</td>\n",
              "      <td>1</td>\n",
              "      <td>1</td>\n",
              "    </tr>\n",
              "    <tr>\n",
              "      <th>5</th>\n",
              "      <td>1</td>\n",
              "      <td>0</td>\n",
              "      <td>1</td>\n",
              "      <td>0</td>\n",
              "      <td>0</td>\n",
              "    </tr>\n",
              "    <tr>\n",
              "      <th>6</th>\n",
              "      <td>0</td>\n",
              "      <td>0</td>\n",
              "      <td>1</td>\n",
              "      <td>0</td>\n",
              "      <td>1</td>\n",
              "    </tr>\n",
              "    <tr>\n",
              "      <th>7</th>\n",
              "      <td>2</td>\n",
              "      <td>2</td>\n",
              "      <td>0</td>\n",
              "      <td>1</td>\n",
              "      <td>0</td>\n",
              "    </tr>\n",
              "    <tr>\n",
              "      <th>8</th>\n",
              "      <td>2</td>\n",
              "      <td>0</td>\n",
              "      <td>1</td>\n",
              "      <td>1</td>\n",
              "      <td>1</td>\n",
              "    </tr>\n",
              "    <tr>\n",
              "      <th>9</th>\n",
              "      <td>1</td>\n",
              "      <td>2</td>\n",
              "      <td>1</td>\n",
              "      <td>1</td>\n",
              "      <td>1</td>\n",
              "    </tr>\n",
              "    <tr>\n",
              "      <th>10</th>\n",
              "      <td>2</td>\n",
              "      <td>2</td>\n",
              "      <td>1</td>\n",
              "      <td>0</td>\n",
              "      <td>1</td>\n",
              "    </tr>\n",
              "    <tr>\n",
              "      <th>11</th>\n",
              "      <td>0</td>\n",
              "      <td>2</td>\n",
              "      <td>0</td>\n",
              "      <td>0</td>\n",
              "      <td>1</td>\n",
              "    </tr>\n",
              "    <tr>\n",
              "      <th>12</th>\n",
              "      <td>0</td>\n",
              "      <td>1</td>\n",
              "      <td>1</td>\n",
              "      <td>1</td>\n",
              "      <td>1</td>\n",
              "    </tr>\n",
              "    <tr>\n",
              "      <th>13</th>\n",
              "      <td>1</td>\n",
              "      <td>2</td>\n",
              "      <td>0</td>\n",
              "      <td>0</td>\n",
              "      <td>0</td>\n",
              "    </tr>\n",
              "  </tbody>\n",
              "</table>\n",
              "</div>"
            ],
            "text/plain": [
              "    Outlook  Temperature  Humidity  Wind  Play\n",
              "0         2            1         0     1     0\n",
              "1         2            1         0     0     0\n",
              "2         0            1         0     1     1\n",
              "3         1            2         0     1     1\n",
              "4         1            0         1     1     1\n",
              "5         1            0         1     0     0\n",
              "6         0            0         1     0     1\n",
              "7         2            2         0     1     0\n",
              "8         2            0         1     1     1\n",
              "9         1            2         1     1     1\n",
              "10        2            2         1     0     1\n",
              "11        0            2         0     0     1\n",
              "12        0            1         1     1     1\n",
              "13        1            2         0     0     0"
            ]
          },
          "execution_count": 14,
          "metadata": {},
          "output_type": "execute_result"
        }
      ],
      "source": [
        "PlayTennis"
      ]
    },
    {
      "cell_type": "code",
      "execution_count": null,
      "metadata": {
        "id": "ajZwc1BEJEWN"
      },
      "outputs": [],
      "source": [
        "y = PlayTennis['Play']\n",
        "X = PlayTennis.drop(['Play'],axis=1)"
      ]
    },
    {
      "cell_type": "code",
      "execution_count": null,
      "metadata": {
        "id": "tyeKjruSJEWO"
      },
      "outputs": [],
      "source": [
        "# Fitting the model\n",
        "from sklearn import tree\n",
        "clf = tree.DecisionTreeClassifier(criterion = 'entropy')\n",
        "clf = clf.fit(X, y)"
      ]
    },
    {
      "cell_type": "code",
      "execution_count": null,
      "metadata": {
        "id": "YDDucK_QJEWP",
        "outputId": "fb1190bf-dc3a-48a4-800c-0da6bf41e444"
      },
      "outputs": [
        {
          "data": {
            "text/plain": [
              "[Text(148.8, 195.696, 'X[0] <= 0.5\\nentropy = 0.94\\nsamples = 14\\nvalue = [5, 9]'),\n",
              " Text(111.60000000000001, 152.208, 'entropy = 0.0\\nsamples = 4\\nvalue = [0, 4]'),\n",
              " Text(186.0, 152.208, 'X[2] <= 0.5\\nentropy = 1.0\\nsamples = 10\\nvalue = [5, 5]'),\n",
              " Text(111.60000000000001, 108.72, 'X[0] <= 1.5\\nentropy = 0.722\\nsamples = 5\\nvalue = [4, 1]'),\n",
              " Text(74.4, 65.232, 'X[3] <= 0.5\\nentropy = 1.0\\nsamples = 2\\nvalue = [1, 1]'),\n",
              " Text(37.2, 21.744, 'entropy = 0.0\\nsamples = 1\\nvalue = [1, 0]'),\n",
              " Text(111.60000000000001, 21.744, 'entropy = 0.0\\nsamples = 1\\nvalue = [0, 1]'),\n",
              " Text(148.8, 65.232, 'entropy = 0.0\\nsamples = 3\\nvalue = [3, 0]'),\n",
              " Text(260.40000000000003, 108.72, 'X[3] <= 0.5\\nentropy = 0.722\\nsamples = 5\\nvalue = [1, 4]'),\n",
              " Text(223.20000000000002, 65.232, 'X[1] <= 1.0\\nentropy = 1.0\\nsamples = 2\\nvalue = [1, 1]'),\n",
              " Text(186.0, 21.744, 'entropy = 0.0\\nsamples = 1\\nvalue = [1, 0]'),\n",
              " Text(260.40000000000003, 21.744, 'entropy = 0.0\\nsamples = 1\\nvalue = [0, 1]'),\n",
              " Text(297.6, 65.232, 'entropy = 0.0\\nsamples = 3\\nvalue = [0, 3]')]"
            ]
          },
          "execution_count": 17,
          "metadata": {},
          "output_type": "execute_result"
        },
        {
          "data": {
            "image/png": "[encoded data removed]",
            "text/plain": [
              "<Figure size 432x288 with 1 Axes>"
            ]
          },
          "metadata": {
            "needs_background": "light"
          },
          "output_type": "display_data"
        }
      ],
      "source": [
        "# We can visualize the tree using tree.plot_tree\n",
        "tree.plot_tree(clf)"
      ]
    },
    {
      "cell_type": "code",
      "execution_count": null,
      "metadata": {
        "id": "8UZccLTOJEWQ"
      },
      "outputs": [],
      "source": [
        "# The predictions are stored in X_pred\n",
        "X_pred = clf.predict(X)"
      ]
    },
    {
      "cell_type": "code",
      "execution_count": null,
      "metadata": {
        "id": "0Fw8wXTXJEWR",
        "outputId": "09f60de3-5c57-45b1-aaec-15d46fdf8349"
      },
      "outputs": [
        {
          "data": {
            "text/plain": [
              "0     True\n",
              "1     True\n",
              "2     True\n",
              "3     True\n",
              "4     True\n",
              "5     True\n",
              "6     True\n",
              "7     True\n",
              "8     True\n",
              "9     True\n",
              "10    True\n",
              "11    True\n",
              "12    True\n",
              "13    True\n",
              "Name: Play, dtype: bool"
            ]
          },
          "execution_count": 19,
          "metadata": {},
          "output_type": "execute_result"
        }
      ],
      "source": [
        "# verifying if the model has predicted it all right.\n",
        "X_pred == y"
      ]
    },
    {
      "cell_type": "markdown",
      "metadata": {
        "id": "GdK9uchuJEWT"
      },
      "source": [
        "# decision tree"
      ]
    },
    {
      "cell_type": "code",
      "execution_count": null,
      "metadata": {
        "id": "ux8F0VN7JEWU"
      },
      "outputs": [],
      "source": [
        "# Load libraries\n",
        "import pandas as pd\n",
        "from sklearn.tree import DecisionTreeClassifier # Import Decision Tree Classifier\n",
        "from sklearn.model_selection import train_test_split # Import train_test_split function\n",
        "from sklearn import metrics #Import scikit-learn metrics module for accuracy calculation"
      ]
    },
    {
      "cell_type": "code",
      "execution_count": null,
      "metadata": {
        "id": "F8KO8HnvJEWU"
      },
      "outputs": [],
      "source": [
        "pima = pd.read_csv(\"diabetes.csv\")"
      ]
    },
    {
      "cell_type": "code",
      "execution_count": null,
      "metadata": {
        "id": "juzHZNVqJEWV",
        "outputId": "6cefbd6f-c32c-43ae-b977-0ff129a8bad1"
      },
      "outputs": [
        {
          "data": {
            "text/html": [
              "<div>\n",
              "<style scoped>\n",
              "    .dataframe tbody tr th:only-of-type {\n",
              "        vertical-align: middle;\n",
              "    }\n",
              "\n",
              "    .dataframe tbody tr th {\n",
              "        vertical-align: top;\n",
              "    }\n",
              "\n",
              "    .dataframe thead th {\n",
              "        text-align: right;\n",
              "    }\n",
              "</style>\n",
              "<table border=\"1\" class=\"dataframe\">\n",
              "  <thead>\n",
              "    <tr style=\"text-align: right;\">\n",
              "      <th></th>\n",
              "      <th>Pregnancies</th>\n",
              "      <th>Glucose</th>\n",
              "      <th>BloodPressure</th>\n",
              "      <th>SkinThickness</th>\n",
              "      <th>Insulin</th>\n",
              "      <th>BMI</th>\n",
              "      <th>DiabetesPedigreeFunction</th>\n",
              "      <th>Age</th>\n",
              "      <th>Outcome</th>\n",
              "    </tr>\n",
              "  </thead>\n",
              "  <tbody>\n",
              "    <tr>\n",
              "      <th>0</th>\n",
              "      <td>6</td>\n",
              "      <td>148</td>\n",
              "      <td>72</td>\n",
              "      <td>35</td>\n",
              "      <td>0</td>\n",
              "      <td>33.6</td>\n",
              "      <td>0.627</td>\n",
              "      <td>50</td>\n",
              "      <td>1</td>\n",
              "    </tr>\n",
              "    <tr>\n",
              "      <th>1</th>\n",
              "      <td>1</td>\n",
              "      <td>85</td>\n",
              "      <td>66</td>\n",
              "      <td>29</td>\n",
              "      <td>0</td>\n",
              "      <td>26.6</td>\n",
              "      <td>0.351</td>\n",
              "      <td>31</td>\n",
              "      <td>0</td>\n",
              "    </tr>\n",
              "    <tr>\n",
              "      <th>2</th>\n",
              "      <td>8</td>\n",
              "      <td>183</td>\n",
              "      <td>64</td>\n",
              "      <td>0</td>\n",
              "      <td>0</td>\n",
              "      <td>23.3</td>\n",
              "      <td>0.672</td>\n",
              "      <td>32</td>\n",
              "      <td>1</td>\n",
              "    </tr>\n",
              "    <tr>\n",
              "      <th>3</th>\n",
              "      <td>1</td>\n",
              "      <td>89</td>\n",
              "      <td>66</td>\n",
              "      <td>23</td>\n",
              "      <td>94</td>\n",
              "      <td>28.1</td>\n",
              "      <td>0.167</td>\n",
              "      <td>21</td>\n",
              "      <td>0</td>\n",
              "    </tr>\n",
              "    <tr>\n",
              "      <th>4</th>\n",
              "      <td>0</td>\n",
              "      <td>137</td>\n",
              "      <td>40</td>\n",
              "      <td>35</td>\n",
              "      <td>168</td>\n",
              "      <td>43.1</td>\n",
              "      <td>2.288</td>\n",
              "      <td>33</td>\n",
              "      <td>1</td>\n",
              "    </tr>\n",
              "  </tbody>\n",
              "</table>\n",
              "</div>"
            ],
            "text/plain": [
              "   Pregnancies  Glucose  BloodPressure  SkinThickness  Insulin   BMI  \\\n",
              "0            6      148             72             35        0  33.6   \n",
              "1            1       85             66             29        0  26.6   \n",
              "2            8      183             64              0        0  23.3   \n",
              "3            1       89             66             23       94  28.1   \n",
              "4            0      137             40             35      168  43.1   \n",
              "\n",
              "   DiabetesPedigreeFunction  Age  Outcome  \n",
              "0                     0.627   50        1  \n",
              "1                     0.351   31        0  \n",
              "2                     0.672   32        1  \n",
              "3                     0.167   21        0  \n",
              "4                     2.288   33        1  "
            ]
          },
          "execution_count": 3,
          "metadata": {},
          "output_type": "execute_result"
        }
      ],
      "source": [
        "pima.head()"
      ]
    },
    {
      "cell_type": "code",
      "execution_count": null,
      "metadata": {
        "id": "lySN_DtRJEWX"
      },
      "outputs": [],
      "source": [
        "#split dataset in features and target variable\n",
        "#feature_cols = ['pregnant', 'insulin', 'bmi', 'age','glucose','bp','pedigree']\n",
        "X = pima # Features\n",
        "y = pima.Outcome # Target variable"
      ]
    },
    {
      "cell_type": "code",
      "execution_count": null,
      "metadata": {
        "id": "cjo97HCxJEWY"
      },
      "outputs": [],
      "source": [
        "# Split dataset into training set and test set\n",
        "X_train, X_test, y_train, y_test = train_test_split(X, y, test_size=0.3, random_state=1)"
      ]
    },
    {
      "cell_type": "code",
      "execution_count": null,
      "metadata": {
        "id": "fRn92-4gJEWY"
      },
      "outputs": [],
      "source": [
        "# Create Decision Tree classifer object\n",
        "clf = DecisionTreeClassifier()\n",
        "\n",
        "# Train Decision Tree Classifer\n",
        "clf = clf.fit(X_train,y_train)\n",
        "\n",
        "#Predict the response for test dataset\n",
        "y_pred = clf.predict(X_test)"
      ]
    },
    {
      "cell_type": "code",
      "execution_count": null,
      "metadata": {
        "id": "KRTx0fm-JEWZ",
        "outputId": "a6afe12f-a07b-45c6-f954-bacfbfdc1751"
      },
      "outputs": [
        {
          "name": "stdout",
          "output_type": "stream",
          "text": [
            "Accuracy: 1.0\n"
          ]
        }
      ],
      "source": [
        "print(\"Accuracy:\",metrics.accuracy_score(y_test, y_pred))"
      ]
    },
    {
      "cell_type": "code",
      "execution_count": null,
      "metadata": {
        "id": "P-vgJhwZJEWa"
      },
      "outputs": [],
      "source": [
        "from sklearn import tree\n",
        "clf = tree.DecisionTreeClassifier(criterion = 'entropy')\n",
        "clf = clf.fit(X_train, y_train)"
      ]
    },
    {
      "cell_type": "code",
      "execution_count": null,
      "metadata": {
        "id": "GbS1MjkpJEWa",
        "outputId": "d76b6f6d-db03-4cb1-8c04-150379b87e0a"
      },
      "outputs": [
        {
          "data": {
            "text/plain": [
              "[Text(167.4, 163.07999999999998, 'X[8] <= 0.5\\nentropy = 0.926\\nsamples = 537\\nvalue = [354, 183]'),\n",
              " Text(83.7, 54.360000000000014, 'entropy = 0.0\\nsamples = 354\\nvalue = [354, 0]'),\n",
              " Text(251.10000000000002, 54.360000000000014, 'entropy = 0.0\\nsamples = 183\\nvalue = [0, 183]')]"
            ]
          },
          "execution_count": 81,
          "metadata": {},
          "output_type": "execute_result"
        },
        {
          "data": {
            "image/png": "[encoded data removed]",
            "text/plain": [
              "<Figure size 432x288 with 1 Axes>"
            ]
          },
          "metadata": {
            "needs_background": "light"
          },
          "output_type": "display_data"
        }
      ],
      "source": [
        "tree.plot_tree(clf)"
      ]
    },
    {
      "cell_type": "code",
      "execution_count": null,
      "metadata": {
        "id": "yvZNJN9CJEWb"
      },
      "outputs": [],
      "source": [
        "import pandas as pd\n",
        "from sklearn.tree import DecisionTreeClassifier\n",
        "from sklearn.model_selection import train_test_split\n"
      ]
    },
    {
      "cell_type": "code",
      "execution_count": null,
      "metadata": {
        "id": "_gUIYVwSJEWc"
      },
      "outputs": [],
      "source": []
    },
    {
      "cell_type": "markdown",
      "metadata": {
        "id": "iV696tsaJEWc"
      },
      "source": [
        "# data preprocessing"
      ]
    },
    {
      "cell_type": "code",
      "execution_count": null,
      "metadata": {
        "id": "e1T8hSeCJEWd",
        "outputId": "e35b6882-5077-4917-9680-c78424d33c3d"
      },
      "outputs": [
        {
          "data": {
            "text/html": [
              "<div>\n",
              "<style scoped>\n",
              "    .dataframe tbody tr th:only-of-type {\n",
              "        vertical-align: middle;\n",
              "    }\n",
              "\n",
              "    .dataframe tbody tr th {\n",
              "        vertical-align: top;\n",
              "    }\n",
              "\n",
              "    .dataframe thead th {\n",
              "        text-align: right;\n",
              "    }\n",
              "</style>\n",
              "<table border=\"1\" class=\"dataframe\">\n",
              "  <thead>\n",
              "    <tr style=\"text-align: right;\">\n",
              "      <th></th>\n",
              "      <th>age</th>\n",
              "      <th>sex</th>\n",
              "      <th>steroid</th>\n",
              "      <th>antivirals</th>\n",
              "      <th>fatigue</th>\n",
              "      <th>malaise</th>\n",
              "      <th>anorexia</th>\n",
              "      <th>liver_big</th>\n",
              "      <th>liver_firm</th>\n",
              "      <th>spleen_palpable</th>\n",
              "      <th>spiders</th>\n",
              "      <th>ascites</th>\n",
              "      <th>varices</th>\n",
              "      <th>bilirubin</th>\n",
              "      <th>alk_phosphate</th>\n",
              "      <th>sgot</th>\n",
              "      <th>albumin</th>\n",
              "      <th>protime</th>\n",
              "      <th>histology</th>\n",
              "      <th>class</th>\n",
              "    </tr>\n",
              "  </thead>\n",
              "  <tbody>\n",
              "    <tr>\n",
              "      <th>0</th>\n",
              "      <td>30</td>\n",
              "      <td>male</td>\n",
              "      <td>False</td>\n",
              "      <td>False</td>\n",
              "      <td>False</td>\n",
              "      <td>False</td>\n",
              "      <td>False</td>\n",
              "      <td>False</td>\n",
              "      <td>False</td>\n",
              "      <td>False</td>\n",
              "      <td>False</td>\n",
              "      <td>False</td>\n",
              "      <td>False</td>\n",
              "      <td>1.0</td>\n",
              "      <td>85.0</td>\n",
              "      <td>18.0</td>\n",
              "      <td>4.0</td>\n",
              "      <td>NaN</td>\n",
              "      <td>False</td>\n",
              "      <td>live</td>\n",
              "    </tr>\n",
              "    <tr>\n",
              "      <th>1</th>\n",
              "      <td>50</td>\n",
              "      <td>female</td>\n",
              "      <td>False</td>\n",
              "      <td>False</td>\n",
              "      <td>True</td>\n",
              "      <td>False</td>\n",
              "      <td>False</td>\n",
              "      <td>False</td>\n",
              "      <td>False</td>\n",
              "      <td>False</td>\n",
              "      <td>False</td>\n",
              "      <td>False</td>\n",
              "      <td>False</td>\n",
              "      <td>0.9</td>\n",
              "      <td>135.0</td>\n",
              "      <td>42.0</td>\n",
              "      <td>3.5</td>\n",
              "      <td>NaN</td>\n",
              "      <td>False</td>\n",
              "      <td>live</td>\n",
              "    </tr>\n",
              "    <tr>\n",
              "      <th>2</th>\n",
              "      <td>78</td>\n",
              "      <td>female</td>\n",
              "      <td>True</td>\n",
              "      <td>False</td>\n",
              "      <td>True</td>\n",
              "      <td>False</td>\n",
              "      <td>False</td>\n",
              "      <td>True</td>\n",
              "      <td>False</td>\n",
              "      <td>False</td>\n",
              "      <td>False</td>\n",
              "      <td>False</td>\n",
              "      <td>False</td>\n",
              "      <td>0.7</td>\n",
              "      <td>96.0</td>\n",
              "      <td>32.0</td>\n",
              "      <td>4.0</td>\n",
              "      <td>NaN</td>\n",
              "      <td>False</td>\n",
              "      <td>live</td>\n",
              "    </tr>\n",
              "    <tr>\n",
              "      <th>3</th>\n",
              "      <td>31</td>\n",
              "      <td>female</td>\n",
              "      <td>NaN</td>\n",
              "      <td>True</td>\n",
              "      <td>False</td>\n",
              "      <td>False</td>\n",
              "      <td>False</td>\n",
              "      <td>True</td>\n",
              "      <td>False</td>\n",
              "      <td>False</td>\n",
              "      <td>False</td>\n",
              "      <td>False</td>\n",
              "      <td>False</td>\n",
              "      <td>0.7</td>\n",
              "      <td>46.0</td>\n",
              "      <td>52.0</td>\n",
              "      <td>4.0</td>\n",
              "      <td>80.0</td>\n",
              "      <td>False</td>\n",
              "      <td>live</td>\n",
              "    </tr>\n",
              "    <tr>\n",
              "      <th>4</th>\n",
              "      <td>34</td>\n",
              "      <td>female</td>\n",
              "      <td>True</td>\n",
              "      <td>False</td>\n",
              "      <td>False</td>\n",
              "      <td>False</td>\n",
              "      <td>False</td>\n",
              "      <td>True</td>\n",
              "      <td>False</td>\n",
              "      <td>False</td>\n",
              "      <td>False</td>\n",
              "      <td>False</td>\n",
              "      <td>False</td>\n",
              "      <td>1.0</td>\n",
              "      <td>NaN</td>\n",
              "      <td>200.0</td>\n",
              "      <td>4.0</td>\n",
              "      <td>NaN</td>\n",
              "      <td>False</td>\n",
              "      <td>live</td>\n",
              "    </tr>\n",
              "    <tr>\n",
              "      <th>5</th>\n",
              "      <td>34</td>\n",
              "      <td>female</td>\n",
              "      <td>True</td>\n",
              "      <td>False</td>\n",
              "      <td>False</td>\n",
              "      <td>False</td>\n",
              "      <td>False</td>\n",
              "      <td>True</td>\n",
              "      <td>False</td>\n",
              "      <td>False</td>\n",
              "      <td>False</td>\n",
              "      <td>False</td>\n",
              "      <td>False</td>\n",
              "      <td>0.9</td>\n",
              "      <td>95.0</td>\n",
              "      <td>28.0</td>\n",
              "      <td>4.0</td>\n",
              "      <td>75.0</td>\n",
              "      <td>False</td>\n",
              "      <td>live</td>\n",
              "    </tr>\n",
              "    <tr>\n",
              "      <th>6</th>\n",
              "      <td>51</td>\n",
              "      <td>female</td>\n",
              "      <td>False</td>\n",
              "      <td>False</td>\n",
              "      <td>True</td>\n",
              "      <td>False</td>\n",
              "      <td>True</td>\n",
              "      <td>True</td>\n",
              "      <td>False</td>\n",
              "      <td>True</td>\n",
              "      <td>True</td>\n",
              "      <td>False</td>\n",
              "      <td>False</td>\n",
              "      <td>NaN</td>\n",
              "      <td>NaN</td>\n",
              "      <td>NaN</td>\n",
              "      <td>NaN</td>\n",
              "      <td>NaN</td>\n",
              "      <td>False</td>\n",
              "      <td>die</td>\n",
              "    </tr>\n",
              "    <tr>\n",
              "      <th>7</th>\n",
              "      <td>23</td>\n",
              "      <td>female</td>\n",
              "      <td>True</td>\n",
              "      <td>False</td>\n",
              "      <td>False</td>\n",
              "      <td>False</td>\n",
              "      <td>False</td>\n",
              "      <td>True</td>\n",
              "      <td>False</td>\n",
              "      <td>False</td>\n",
              "      <td>False</td>\n",
              "      <td>False</td>\n",
              "      <td>False</td>\n",
              "      <td>1.0</td>\n",
              "      <td>NaN</td>\n",
              "      <td>NaN</td>\n",
              "      <td>NaN</td>\n",
              "      <td>NaN</td>\n",
              "      <td>False</td>\n",
              "      <td>live</td>\n",
              "    </tr>\n",
              "    <tr>\n",
              "      <th>8</th>\n",
              "      <td>39</td>\n",
              "      <td>female</td>\n",
              "      <td>True</td>\n",
              "      <td>False</td>\n",
              "      <td>True</td>\n",
              "      <td>False</td>\n",
              "      <td>False</td>\n",
              "      <td>True</td>\n",
              "      <td>True</td>\n",
              "      <td>False</td>\n",
              "      <td>False</td>\n",
              "      <td>False</td>\n",
              "      <td>False</td>\n",
              "      <td>0.7</td>\n",
              "      <td>NaN</td>\n",
              "      <td>48.0</td>\n",
              "      <td>4.4</td>\n",
              "      <td>NaN</td>\n",
              "      <td>False</td>\n",
              "      <td>live</td>\n",
              "    </tr>\n",
              "    <tr>\n",
              "      <th>9</th>\n",
              "      <td>30</td>\n",
              "      <td>female</td>\n",
              "      <td>True</td>\n",
              "      <td>False</td>\n",
              "      <td>False</td>\n",
              "      <td>False</td>\n",
              "      <td>False</td>\n",
              "      <td>True</td>\n",
              "      <td>False</td>\n",
              "      <td>False</td>\n",
              "      <td>False</td>\n",
              "      <td>False</td>\n",
              "      <td>False</td>\n",
              "      <td>1.0</td>\n",
              "      <td>NaN</td>\n",
              "      <td>120.0</td>\n",
              "      <td>3.9</td>\n",
              "      <td>NaN</td>\n",
              "      <td>False</td>\n",
              "      <td>live</td>\n",
              "    </tr>\n",
              "  </tbody>\n",
              "</table>\n",
              "</div>"
            ],
            "text/plain": [
              "   age     sex steroid  antivirals fatigue malaise anorexia liver_big  \\\n",
              "0   30    male   False       False   False   False    False     False   \n",
              "1   50  female   False       False    True   False    False     False   \n",
              "2   78  female    True       False    True   False    False      True   \n",
              "3   31  female     NaN        True   False   False    False      True   \n",
              "4   34  female    True       False   False   False    False      True   \n",
              "5   34  female    True       False   False   False    False      True   \n",
              "6   51  female   False       False    True   False     True      True   \n",
              "7   23  female    True       False   False   False    False      True   \n",
              "8   39  female    True       False    True   False    False      True   \n",
              "9   30  female    True       False   False   False    False      True   \n",
              "\n",
              "  liver_firm spleen_palpable spiders ascites varices  bilirubin  \\\n",
              "0      False           False   False   False   False        1.0   \n",
              "1      False           False   False   False   False        0.9   \n",
              "2      False           False   False   False   False        0.7   \n",
              "3      False           False   False   False   False        0.7   \n",
              "4      False           False   False   False   False        1.0   \n",
              "5      False           False   False   False   False        0.9   \n",
              "6      False            True    True   False   False        NaN   \n",
              "7      False           False   False   False   False        1.0   \n",
              "8       True           False   False   False   False        0.7   \n",
              "9      False           False   False   False   False        1.0   \n",
              "\n",
              "   alk_phosphate   sgot  albumin  protime  histology class  \n",
              "0           85.0   18.0      4.0      NaN      False  live  \n",
              "1          135.0   42.0      3.5      NaN      False  live  \n",
              "2           96.0   32.0      4.0      NaN      False  live  \n",
              "3           46.0   52.0      4.0     80.0      False  live  \n",
              "4            NaN  200.0      4.0      NaN      False  live  \n",
              "5           95.0   28.0      4.0     75.0      False  live  \n",
              "6            NaN    NaN      NaN      NaN      False   die  \n",
              "7            NaN    NaN      NaN      NaN      False  live  \n",
              "8            NaN   48.0      4.4      NaN      False  live  \n",
              "9            NaN  120.0      3.9      NaN      False  live  "
            ]
          },
          "execution_count": 12,
          "metadata": {},
          "output_type": "execute_result"
        }
      ],
      "source": [
        "import pandas as pd\n",
        "df = pd.read_csv('hepatitis_csv.csv')\n",
        "df.head(10)"
      ]
    },
    {
      "cell_type": "code",
      "execution_count": null,
      "metadata": {
        "id": "83vvBRPWJEWe",
        "outputId": "f3d99d0d-af66-4a85-c585-afd64268d8c9"
      },
      "outputs": [
        {
          "data": {
            "text/plain": [
              "age                 0\n",
              "sex                 0\n",
              "steroid             1\n",
              "antivirals          0\n",
              "fatigue             1\n",
              "malaise             1\n",
              "anorexia            1\n",
              "liver_big          10\n",
              "liver_firm         11\n",
              "spleen_palpable     5\n",
              "spiders             5\n",
              "ascites             5\n",
              "varices             5\n",
              "bilirubin           6\n",
              "alk_phosphate      29\n",
              "sgot                4\n",
              "albumin            16\n",
              "protime            67\n",
              "histology           0\n",
              "class               0\n",
              "dtype: int64"
            ]
          },
          "execution_count": 13,
          "metadata": {},
          "output_type": "execute_result"
        }
      ],
      "source": [
        "df.isna().sum()"
      ]
    },
    {
      "cell_type": "code",
      "execution_count": null,
      "metadata": {
        "id": "pdiaW3ElJEWe",
        "outputId": "e7d2424e-039c-49b6-a0e5-1540f14efce0"
      },
      "outputs": [
        {
          "data": {
            "text/plain": [
              "age                 0.000000\n",
              "sex                 0.000000\n",
              "steroid             0.645161\n",
              "antivirals          0.000000\n",
              "fatigue             0.645161\n",
              "malaise             0.645161\n",
              "anorexia            0.645161\n",
              "liver_big           6.451613\n",
              "liver_firm          7.096774\n",
              "spleen_palpable     3.225806\n",
              "spiders             3.225806\n",
              "ascites             3.225806\n",
              "varices             3.225806\n",
              "bilirubin           3.870968\n",
              "alk_phosphate      18.709677\n",
              "sgot                2.580645\n",
              "albumin            10.322581\n",
              "protime            43.225806\n",
              "histology           0.000000\n",
              "class               0.000000\n",
              "dtype: float64"
            ]
          },
          "execution_count": 14,
          "metadata": {},
          "output_type": "execute_result"
        }
      ],
      "source": [
        "df.isna().sum()/len(df)*100"
      ]
    },
    {
      "cell_type": "code",
      "execution_count": null,
      "metadata": {
        "id": "hyh3aNt8JEWf",
        "outputId": "d2ab1eb6-1fd8-44dc-8dbf-c3a09a6426e6"
      },
      "outputs": [
        {
          "data": {
            "text/html": [
              "<div>\n",
              "<style scoped>\n",
              "    .dataframe tbody tr th:only-of-type {\n",
              "        vertical-align: middle;\n",
              "    }\n",
              "\n",
              "    .dataframe tbody tr th {\n",
              "        vertical-align: top;\n",
              "    }\n",
              "\n",
              "    .dataframe thead th {\n",
              "        text-align: right;\n",
              "    }\n",
              "</style>\n",
              "<table border=\"1\" class=\"dataframe\">\n",
              "  <thead>\n",
              "    <tr style=\"text-align: right;\">\n",
              "      <th></th>\n",
              "      <th>age</th>\n",
              "      <th>sex</th>\n",
              "      <th>steroid</th>\n",
              "      <th>antivirals</th>\n",
              "      <th>fatigue</th>\n",
              "      <th>malaise</th>\n",
              "      <th>anorexia</th>\n",
              "      <th>liver_big</th>\n",
              "      <th>liver_firm</th>\n",
              "      <th>spleen_palpable</th>\n",
              "      <th>spiders</th>\n",
              "      <th>ascites</th>\n",
              "      <th>varices</th>\n",
              "      <th>bilirubin</th>\n",
              "      <th>alk_phosphate</th>\n",
              "      <th>sgot</th>\n",
              "      <th>albumin</th>\n",
              "      <th>protime</th>\n",
              "      <th>histology</th>\n",
              "      <th>class</th>\n",
              "    </tr>\n",
              "  </thead>\n",
              "  <tbody>\n",
              "    <tr>\n",
              "      <th>5</th>\n",
              "      <td>34</td>\n",
              "      <td>female</td>\n",
              "      <td>True</td>\n",
              "      <td>False</td>\n",
              "      <td>False</td>\n",
              "      <td>False</td>\n",
              "      <td>False</td>\n",
              "      <td>True</td>\n",
              "      <td>False</td>\n",
              "      <td>False</td>\n",
              "      <td>False</td>\n",
              "      <td>False</td>\n",
              "      <td>False</td>\n",
              "      <td>0.9</td>\n",
              "      <td>95.0</td>\n",
              "      <td>28.0</td>\n",
              "      <td>4.0</td>\n",
              "      <td>75.0</td>\n",
              "      <td>False</td>\n",
              "      <td>live</td>\n",
              "    </tr>\n",
              "    <tr>\n",
              "      <th>10</th>\n",
              "      <td>39</td>\n",
              "      <td>female</td>\n",
              "      <td>False</td>\n",
              "      <td>True</td>\n",
              "      <td>False</td>\n",
              "      <td>False</td>\n",
              "      <td>False</td>\n",
              "      <td>False</td>\n",
              "      <td>True</td>\n",
              "      <td>False</td>\n",
              "      <td>False</td>\n",
              "      <td>False</td>\n",
              "      <td>False</td>\n",
              "      <td>1.3</td>\n",
              "      <td>78.0</td>\n",
              "      <td>30.0</td>\n",
              "      <td>4.4</td>\n",
              "      <td>85.0</td>\n",
              "      <td>False</td>\n",
              "      <td>live</td>\n",
              "    </tr>\n",
              "    <tr>\n",
              "      <th>11</th>\n",
              "      <td>32</td>\n",
              "      <td>female</td>\n",
              "      <td>True</td>\n",
              "      <td>True</td>\n",
              "      <td>True</td>\n",
              "      <td>False</td>\n",
              "      <td>False</td>\n",
              "      <td>True</td>\n",
              "      <td>True</td>\n",
              "      <td>False</td>\n",
              "      <td>True</td>\n",
              "      <td>False</td>\n",
              "      <td>False</td>\n",
              "      <td>1.0</td>\n",
              "      <td>59.0</td>\n",
              "      <td>249.0</td>\n",
              "      <td>3.7</td>\n",
              "      <td>54.0</td>\n",
              "      <td>False</td>\n",
              "      <td>live</td>\n",
              "    </tr>\n",
              "    <tr>\n",
              "      <th>12</th>\n",
              "      <td>41</td>\n",
              "      <td>female</td>\n",
              "      <td>True</td>\n",
              "      <td>True</td>\n",
              "      <td>True</td>\n",
              "      <td>False</td>\n",
              "      <td>False</td>\n",
              "      <td>True</td>\n",
              "      <td>True</td>\n",
              "      <td>False</td>\n",
              "      <td>False</td>\n",
              "      <td>False</td>\n",
              "      <td>False</td>\n",
              "      <td>0.9</td>\n",
              "      <td>81.0</td>\n",
              "      <td>60.0</td>\n",
              "      <td>3.9</td>\n",
              "      <td>52.0</td>\n",
              "      <td>False</td>\n",
              "      <td>live</td>\n",
              "    </tr>\n",
              "    <tr>\n",
              "      <th>13</th>\n",
              "      <td>30</td>\n",
              "      <td>female</td>\n",
              "      <td>True</td>\n",
              "      <td>False</td>\n",
              "      <td>True</td>\n",
              "      <td>False</td>\n",
              "      <td>False</td>\n",
              "      <td>True</td>\n",
              "      <td>True</td>\n",
              "      <td>False</td>\n",
              "      <td>False</td>\n",
              "      <td>False</td>\n",
              "      <td>False</td>\n",
              "      <td>2.2</td>\n",
              "      <td>57.0</td>\n",
              "      <td>144.0</td>\n",
              "      <td>4.9</td>\n",
              "      <td>78.0</td>\n",
              "      <td>False</td>\n",
              "      <td>live</td>\n",
              "    </tr>\n",
              "    <tr>\n",
              "      <th>...</th>\n",
              "      <td>...</td>\n",
              "      <td>...</td>\n",
              "      <td>...</td>\n",
              "      <td>...</td>\n",
              "      <td>...</td>\n",
              "      <td>...</td>\n",
              "      <td>...</td>\n",
              "      <td>...</td>\n",
              "      <td>...</td>\n",
              "      <td>...</td>\n",
              "      <td>...</td>\n",
              "      <td>...</td>\n",
              "      <td>...</td>\n",
              "      <td>...</td>\n",
              "      <td>...</td>\n",
              "      <td>...</td>\n",
              "      <td>...</td>\n",
              "      <td>...</td>\n",
              "      <td>...</td>\n",
              "      <td>...</td>\n",
              "    </tr>\n",
              "    <tr>\n",
              "      <th>139</th>\n",
              "      <td>45</td>\n",
              "      <td>female</td>\n",
              "      <td>True</td>\n",
              "      <td>True</td>\n",
              "      <td>False</td>\n",
              "      <td>False</td>\n",
              "      <td>False</td>\n",
              "      <td>True</td>\n",
              "      <td>False</td>\n",
              "      <td>False</td>\n",
              "      <td>False</td>\n",
              "      <td>False</td>\n",
              "      <td>False</td>\n",
              "      <td>1.3</td>\n",
              "      <td>85.0</td>\n",
              "      <td>44.0</td>\n",
              "      <td>4.2</td>\n",
              "      <td>85.0</td>\n",
              "      <td>True</td>\n",
              "      <td>live</td>\n",
              "    </tr>\n",
              "    <tr>\n",
              "      <th>143</th>\n",
              "      <td>49</td>\n",
              "      <td>female</td>\n",
              "      <td>False</td>\n",
              "      <td>False</td>\n",
              "      <td>True</td>\n",
              "      <td>True</td>\n",
              "      <td>False</td>\n",
              "      <td>True</td>\n",
              "      <td>False</td>\n",
              "      <td>True</td>\n",
              "      <td>True</td>\n",
              "      <td>False</td>\n",
              "      <td>False</td>\n",
              "      <td>1.4</td>\n",
              "      <td>85.0</td>\n",
              "      <td>70.0</td>\n",
              "      <td>3.5</td>\n",
              "      <td>35.0</td>\n",
              "      <td>True</td>\n",
              "      <td>die</td>\n",
              "    </tr>\n",
              "    <tr>\n",
              "      <th>145</th>\n",
              "      <td>31</td>\n",
              "      <td>female</td>\n",
              "      <td>False</td>\n",
              "      <td>False</td>\n",
              "      <td>True</td>\n",
              "      <td>False</td>\n",
              "      <td>False</td>\n",
              "      <td>True</td>\n",
              "      <td>False</td>\n",
              "      <td>False</td>\n",
              "      <td>False</td>\n",
              "      <td>False</td>\n",
              "      <td>False</td>\n",
              "      <td>1.2</td>\n",
              "      <td>75.0</td>\n",
              "      <td>173.0</td>\n",
              "      <td>4.2</td>\n",
              "      <td>54.0</td>\n",
              "      <td>True</td>\n",
              "      <td>live</td>\n",
              "    </tr>\n",
              "    <tr>\n",
              "      <th>153</th>\n",
              "      <td>53</td>\n",
              "      <td>male</td>\n",
              "      <td>False</td>\n",
              "      <td>False</td>\n",
              "      <td>True</td>\n",
              "      <td>False</td>\n",
              "      <td>False</td>\n",
              "      <td>True</td>\n",
              "      <td>False</td>\n",
              "      <td>True</td>\n",
              "      <td>True</td>\n",
              "      <td>False</td>\n",
              "      <td>True</td>\n",
              "      <td>1.5</td>\n",
              "      <td>81.0</td>\n",
              "      <td>19.0</td>\n",
              "      <td>4.1</td>\n",
              "      <td>48.0</td>\n",
              "      <td>True</td>\n",
              "      <td>live</td>\n",
              "    </tr>\n",
              "    <tr>\n",
              "      <th>154</th>\n",
              "      <td>43</td>\n",
              "      <td>female</td>\n",
              "      <td>True</td>\n",
              "      <td>False</td>\n",
              "      <td>True</td>\n",
              "      <td>False</td>\n",
              "      <td>False</td>\n",
              "      <td>True</td>\n",
              "      <td>False</td>\n",
              "      <td>True</td>\n",
              "      <td>True</td>\n",
              "      <td>True</td>\n",
              "      <td>False</td>\n",
              "      <td>1.2</td>\n",
              "      <td>100.0</td>\n",
              "      <td>19.0</td>\n",
              "      <td>3.1</td>\n",
              "      <td>42.0</td>\n",
              "      <td>True</td>\n",
              "      <td>die</td>\n",
              "    </tr>\n",
              "  </tbody>\n",
              "</table>\n",
              "<p>80 rows × 20 columns</p>\n",
              "</div>"
            ],
            "text/plain": [
              "     age     sex steroid  antivirals fatigue malaise anorexia liver_big  \\\n",
              "5     34  female    True       False   False   False    False      True   \n",
              "10    39  female   False        True   False   False    False     False   \n",
              "11    32  female    True        True    True   False    False      True   \n",
              "12    41  female    True        True    True   False    False      True   \n",
              "13    30  female    True       False    True   False    False      True   \n",
              "..   ...     ...     ...         ...     ...     ...      ...       ...   \n",
              "139   45  female    True        True   False   False    False      True   \n",
              "143   49  female   False       False    True    True    False      True   \n",
              "145   31  female   False       False    True   False    False      True   \n",
              "153   53    male   False       False    True   False    False      True   \n",
              "154   43  female    True       False    True   False    False      True   \n",
              "\n",
              "    liver_firm spleen_palpable spiders ascites varices  bilirubin  \\\n",
              "5        False           False   False   False   False        0.9   \n",
              "10        True           False   False   False   False        1.3   \n",
              "11        True           False    True   False   False        1.0   \n",
              "12        True           False   False   False   False        0.9   \n",
              "13        True           False   False   False   False        2.2   \n",
              "..         ...             ...     ...     ...     ...        ...   \n",
              "139      False           False   False   False   False        1.3   \n",
              "143      False            True    True   False   False        1.4   \n",
              "145      False           False   False   False   False        1.2   \n",
              "153      False            True    True   False    True        1.5   \n",
              "154      False            True    True    True   False        1.2   \n",
              "\n",
              "     alk_phosphate   sgot  albumin  protime  histology class  \n",
              "5             95.0   28.0      4.0     75.0      False  live  \n",
              "10            78.0   30.0      4.4     85.0      False  live  \n",
              "11            59.0  249.0      3.7     54.0      False  live  \n",
              "12            81.0   60.0      3.9     52.0      False  live  \n",
              "13            57.0  144.0      4.9     78.0      False  live  \n",
              "..             ...    ...      ...      ...        ...   ...  \n",
              "139           85.0   44.0      4.2     85.0       True  live  \n",
              "143           85.0   70.0      3.5     35.0       True   die  \n",
              "145           75.0  173.0      4.2     54.0       True  live  \n",
              "153           81.0   19.0      4.1     48.0       True  live  \n",
              "154          100.0   19.0      3.1     42.0       True   die  \n",
              "\n",
              "[80 rows x 20 columns]"
            ]
          },
          "execution_count": 15,
          "metadata": {},
          "output_type": "execute_result"
        }
      ],
      "source": [
        "df.dropna(axis=0) #removing the rows  if it contains missing values"
      ]
    },
    {
      "cell_type": "code",
      "execution_count": null,
      "metadata": {
        "id": "3u16ugISJEWg",
        "outputId": "801fe42e-487d-4d46-e4b4-d14894eabf2c"
      },
      "outputs": [
        {
          "data": {
            "text/html": [
              "<div>\n",
              "<style scoped>\n",
              "    .dataframe tbody tr th:only-of-type {\n",
              "        vertical-align: middle;\n",
              "    }\n",
              "\n",
              "    .dataframe tbody tr th {\n",
              "        vertical-align: top;\n",
              "    }\n",
              "\n",
              "    .dataframe thead th {\n",
              "        text-align: right;\n",
              "    }\n",
              "</style>\n",
              "<table border=\"1\" class=\"dataframe\">\n",
              "  <thead>\n",
              "    <tr style=\"text-align: right;\">\n",
              "      <th></th>\n",
              "      <th>age</th>\n",
              "      <th>sex</th>\n",
              "      <th>antivirals</th>\n",
              "      <th>histology</th>\n",
              "      <th>class</th>\n",
              "    </tr>\n",
              "  </thead>\n",
              "  <tbody>\n",
              "    <tr>\n",
              "      <th>0</th>\n",
              "      <td>30</td>\n",
              "      <td>male</td>\n",
              "      <td>False</td>\n",
              "      <td>False</td>\n",
              "      <td>live</td>\n",
              "    </tr>\n",
              "    <tr>\n",
              "      <th>1</th>\n",
              "      <td>50</td>\n",
              "      <td>female</td>\n",
              "      <td>False</td>\n",
              "      <td>False</td>\n",
              "      <td>live</td>\n",
              "    </tr>\n",
              "    <tr>\n",
              "      <th>2</th>\n",
              "      <td>78</td>\n",
              "      <td>female</td>\n",
              "      <td>False</td>\n",
              "      <td>False</td>\n",
              "      <td>live</td>\n",
              "    </tr>\n",
              "    <tr>\n",
              "      <th>3</th>\n",
              "      <td>31</td>\n",
              "      <td>female</td>\n",
              "      <td>True</td>\n",
              "      <td>False</td>\n",
              "      <td>live</td>\n",
              "    </tr>\n",
              "    <tr>\n",
              "      <th>4</th>\n",
              "      <td>34</td>\n",
              "      <td>female</td>\n",
              "      <td>False</td>\n",
              "      <td>False</td>\n",
              "      <td>live</td>\n",
              "    </tr>\n",
              "    <tr>\n",
              "      <th>...</th>\n",
              "      <td>...</td>\n",
              "      <td>...</td>\n",
              "      <td>...</td>\n",
              "      <td>...</td>\n",
              "      <td>...</td>\n",
              "    </tr>\n",
              "    <tr>\n",
              "      <th>150</th>\n",
              "      <td>46</td>\n",
              "      <td>female</td>\n",
              "      <td>False</td>\n",
              "      <td>True</td>\n",
              "      <td>die</td>\n",
              "    </tr>\n",
              "    <tr>\n",
              "      <th>151</th>\n",
              "      <td>44</td>\n",
              "      <td>female</td>\n",
              "      <td>False</td>\n",
              "      <td>True</td>\n",
              "      <td>live</td>\n",
              "    </tr>\n",
              "    <tr>\n",
              "      <th>152</th>\n",
              "      <td>61</td>\n",
              "      <td>female</td>\n",
              "      <td>False</td>\n",
              "      <td>True</td>\n",
              "      <td>live</td>\n",
              "    </tr>\n",
              "    <tr>\n",
              "      <th>153</th>\n",
              "      <td>53</td>\n",
              "      <td>male</td>\n",
              "      <td>False</td>\n",
              "      <td>True</td>\n",
              "      <td>live</td>\n",
              "    </tr>\n",
              "    <tr>\n",
              "      <th>154</th>\n",
              "      <td>43</td>\n",
              "      <td>female</td>\n",
              "      <td>False</td>\n",
              "      <td>True</td>\n",
              "      <td>die</td>\n",
              "    </tr>\n",
              "  </tbody>\n",
              "</table>\n",
              "<p>155 rows × 5 columns</p>\n",
              "</div>"
            ],
            "text/plain": [
              "     age     sex  antivirals  histology class\n",
              "0     30    male       False      False  live\n",
              "1     50  female       False      False  live\n",
              "2     78  female       False      False  live\n",
              "3     31  female        True      False  live\n",
              "4     34  female       False      False  live\n",
              "..   ...     ...         ...        ...   ...\n",
              "150   46  female       False       True   die\n",
              "151   44  female       False       True  live\n",
              "152   61  female       False       True  live\n",
              "153   53    male       False       True  live\n",
              "154   43  female       False       True   die\n",
              "\n",
              "[155 rows x 5 columns]"
            ]
          },
          "execution_count": 16,
          "metadata": {},
          "output_type": "execute_result"
        }
      ],
      "source": [
        "df.dropna(axis=1) #removing the columns"
      ]
    },
    {
      "cell_type": "code",
      "execution_count": null,
      "metadata": {
        "id": "jNV0fgrXJEWh",
        "outputId": "635d0c80-a9a8-4a1a-a4e1-8c1ac7bc6cdf"
      },
      "outputs": [
        {
          "data": {
            "text/plain": [
              "age                  int64\n",
              "sex                 object\n",
              "steroid             object\n",
              "antivirals            bool\n",
              "fatigue             object\n",
              "malaise             object\n",
              "anorexia            object\n",
              "liver_big           object\n",
              "liver_firm          object\n",
              "spleen_palpable     object\n",
              "spiders             object\n",
              "ascites             object\n",
              "varices             object\n",
              "bilirubin          float64\n",
              "alk_phosphate      float64\n",
              "sgot               float64\n",
              "albumin            float64\n",
              "protime            float64\n",
              "histology             bool\n",
              "class               object\n",
              "dtype: object"
            ]
          },
          "execution_count": 17,
          "metadata": {},
          "output_type": "execute_result"
        }
      ],
      "source": [
        "df.dtypes"
      ]
    },
    {
      "cell_type": "code",
      "execution_count": null,
      "metadata": {
        "id": "X9y6-jFBJEWi"
      },
      "outputs": [],
      "source": [
        "df.dropna(subset=['liver_big'],axis=0,inplace=True)"
      ]
    },
    {
      "cell_type": "code",
      "execution_count": null,
      "metadata": {
        "id": "E40mZ5kCJEWi",
        "outputId": "62215b15-5114-4e86-c044-8c532d4d42c9"
      },
      "outputs": [
        {
          "data": {
            "text/html": [
              "<div>\n",
              "<style scoped>\n",
              "    .dataframe tbody tr th:only-of-type {\n",
              "        vertical-align: middle;\n",
              "    }\n",
              "\n",
              "    .dataframe tbody tr th {\n",
              "        vertical-align: top;\n",
              "    }\n",
              "\n",
              "    .dataframe thead th {\n",
              "        text-align: right;\n",
              "    }\n",
              "</style>\n",
              "<table border=\"1\" class=\"dataframe\">\n",
              "  <thead>\n",
              "    <tr style=\"text-align: right;\">\n",
              "      <th></th>\n",
              "      <th>age</th>\n",
              "      <th>sex</th>\n",
              "      <th>steroid</th>\n",
              "      <th>antivirals</th>\n",
              "      <th>fatigue</th>\n",
              "      <th>malaise</th>\n",
              "      <th>anorexia</th>\n",
              "      <th>liver_big</th>\n",
              "      <th>liver_firm</th>\n",
              "      <th>spleen_palpable</th>\n",
              "      <th>spiders</th>\n",
              "      <th>ascites</th>\n",
              "      <th>varices</th>\n",
              "      <th>bilirubin</th>\n",
              "      <th>alk_phosphate</th>\n",
              "      <th>sgot</th>\n",
              "      <th>albumin</th>\n",
              "      <th>protime</th>\n",
              "      <th>histology</th>\n",
              "      <th>class</th>\n",
              "    </tr>\n",
              "  </thead>\n",
              "  <tbody>\n",
              "    <tr>\n",
              "      <th>0</th>\n",
              "      <td>30</td>\n",
              "      <td>male</td>\n",
              "      <td>False</td>\n",
              "      <td>False</td>\n",
              "      <td>False</td>\n",
              "      <td>False</td>\n",
              "      <td>False</td>\n",
              "      <td>False</td>\n",
              "      <td>False</td>\n",
              "      <td>False</td>\n",
              "      <td>False</td>\n",
              "      <td>False</td>\n",
              "      <td>False</td>\n",
              "      <td>1.0</td>\n",
              "      <td>85.0</td>\n",
              "      <td>18.0</td>\n",
              "      <td>4.0</td>\n",
              "      <td>NaN</td>\n",
              "      <td>False</td>\n",
              "      <td>live</td>\n",
              "    </tr>\n",
              "    <tr>\n",
              "      <th>1</th>\n",
              "      <td>50</td>\n",
              "      <td>female</td>\n",
              "      <td>False</td>\n",
              "      <td>False</td>\n",
              "      <td>True</td>\n",
              "      <td>False</td>\n",
              "      <td>False</td>\n",
              "      <td>False</td>\n",
              "      <td>False</td>\n",
              "      <td>False</td>\n",
              "      <td>False</td>\n",
              "      <td>False</td>\n",
              "      <td>False</td>\n",
              "      <td>0.9</td>\n",
              "      <td>135.0</td>\n",
              "      <td>42.0</td>\n",
              "      <td>3.5</td>\n",
              "      <td>NaN</td>\n",
              "      <td>False</td>\n",
              "      <td>live</td>\n",
              "    </tr>\n",
              "    <tr>\n",
              "      <th>2</th>\n",
              "      <td>78</td>\n",
              "      <td>female</td>\n",
              "      <td>True</td>\n",
              "      <td>False</td>\n",
              "      <td>True</td>\n",
              "      <td>False</td>\n",
              "      <td>False</td>\n",
              "      <td>True</td>\n",
              "      <td>False</td>\n",
              "      <td>False</td>\n",
              "      <td>False</td>\n",
              "      <td>False</td>\n",
              "      <td>False</td>\n",
              "      <td>0.7</td>\n",
              "      <td>96.0</td>\n",
              "      <td>32.0</td>\n",
              "      <td>4.0</td>\n",
              "      <td>NaN</td>\n",
              "      <td>False</td>\n",
              "      <td>live</td>\n",
              "    </tr>\n",
              "    <tr>\n",
              "      <th>3</th>\n",
              "      <td>31</td>\n",
              "      <td>female</td>\n",
              "      <td>NaN</td>\n",
              "      <td>True</td>\n",
              "      <td>False</td>\n",
              "      <td>False</td>\n",
              "      <td>False</td>\n",
              "      <td>True</td>\n",
              "      <td>False</td>\n",
              "      <td>False</td>\n",
              "      <td>False</td>\n",
              "      <td>False</td>\n",
              "      <td>False</td>\n",
              "      <td>0.7</td>\n",
              "      <td>46.0</td>\n",
              "      <td>52.0</td>\n",
              "      <td>4.0</td>\n",
              "      <td>80.0</td>\n",
              "      <td>False</td>\n",
              "      <td>live</td>\n",
              "    </tr>\n",
              "    <tr>\n",
              "      <th>4</th>\n",
              "      <td>34</td>\n",
              "      <td>female</td>\n",
              "      <td>True</td>\n",
              "      <td>False</td>\n",
              "      <td>False</td>\n",
              "      <td>False</td>\n",
              "      <td>False</td>\n",
              "      <td>True</td>\n",
              "      <td>False</td>\n",
              "      <td>False</td>\n",
              "      <td>False</td>\n",
              "      <td>False</td>\n",
              "      <td>False</td>\n",
              "      <td>1.0</td>\n",
              "      <td>NaN</td>\n",
              "      <td>200.0</td>\n",
              "      <td>4.0</td>\n",
              "      <td>NaN</td>\n",
              "      <td>False</td>\n",
              "      <td>live</td>\n",
              "    </tr>\n",
              "  </tbody>\n",
              "</table>\n",
              "</div>"
            ],
            "text/plain": [
              "   age     sex steroid  antivirals fatigue malaise anorexia liver_big  \\\n",
              "0   30    male   False       False   False   False    False     False   \n",
              "1   50  female   False       False    True   False    False     False   \n",
              "2   78  female    True       False    True   False    False      True   \n",
              "3   31  female     NaN        True   False   False    False      True   \n",
              "4   34  female    True       False   False   False    False      True   \n",
              "\n",
              "  liver_firm spleen_palpable spiders ascites varices  bilirubin  \\\n",
              "0      False           False   False   False   False        1.0   \n",
              "1      False           False   False   False   False        0.9   \n",
              "2      False           False   False   False   False        0.7   \n",
              "3      False           False   False   False   False        0.7   \n",
              "4      False           False   False   False   False        1.0   \n",
              "\n",
              "   alk_phosphate   sgot  albumin  protime  histology class  \n",
              "0           85.0   18.0      4.0      NaN      False  live  \n",
              "1          135.0   42.0      3.5      NaN      False  live  \n",
              "2           96.0   32.0      4.0      NaN      False  live  \n",
              "3           46.0   52.0      4.0     80.0      False  live  \n",
              "4            NaN  200.0      4.0      NaN      False  live  "
            ]
          },
          "execution_count": 19,
          "metadata": {},
          "output_type": "execute_result"
        }
      ],
      "source": [
        "df.head()"
      ]
    },
    {
      "cell_type": "code",
      "execution_count": null,
      "metadata": {
        "id": "vugI5zoMJEWk",
        "outputId": "bbdb001f-b301-45cb-9a1b-1f2ccb32e356"
      },
      "outputs": [
        {
          "data": {
            "text/html": [
              "<div>\n",
              "<style scoped>\n",
              "    .dataframe tbody tr th:only-of-type {\n",
              "        vertical-align: middle;\n",
              "    }\n",
              "\n",
              "    .dataframe tbody tr th {\n",
              "        vertical-align: top;\n",
              "    }\n",
              "\n",
              "    .dataframe thead th {\n",
              "        text-align: right;\n",
              "    }\n",
              "</style>\n",
              "<table border=\"1\" class=\"dataframe\">\n",
              "  <thead>\n",
              "    <tr style=\"text-align: right;\">\n",
              "      <th></th>\n",
              "      <th>age</th>\n",
              "      <th>sex</th>\n",
              "      <th>steroid</th>\n",
              "      <th>antivirals</th>\n",
              "      <th>fatigue</th>\n",
              "      <th>malaise</th>\n",
              "      <th>anorexia</th>\n",
              "      <th>liver_big</th>\n",
              "      <th>liver_firm</th>\n",
              "      <th>spleen_palpable</th>\n",
              "      <th>spiders</th>\n",
              "      <th>ascites</th>\n",
              "      <th>varices</th>\n",
              "      <th>bilirubin</th>\n",
              "      <th>alk_phosphate</th>\n",
              "      <th>sgot</th>\n",
              "      <th>albumin</th>\n",
              "      <th>protime</th>\n",
              "      <th>histology</th>\n",
              "      <th>class</th>\n",
              "    </tr>\n",
              "  </thead>\n",
              "  <tbody>\n",
              "    <tr>\n",
              "      <th>0</th>\n",
              "      <td>30</td>\n",
              "      <td>male</td>\n",
              "      <td>False</td>\n",
              "      <td>False</td>\n",
              "      <td>False</td>\n",
              "      <td>False</td>\n",
              "      <td>False</td>\n",
              "      <td>False</td>\n",
              "      <td>False</td>\n",
              "      <td>False</td>\n",
              "      <td>False</td>\n",
              "      <td>False</td>\n",
              "      <td>False</td>\n",
              "      <td>1.0</td>\n",
              "      <td>85.0</td>\n",
              "      <td>18.0</td>\n",
              "      <td>4.0</td>\n",
              "      <td>0.0</td>\n",
              "      <td>False</td>\n",
              "      <td>live</td>\n",
              "    </tr>\n",
              "    <tr>\n",
              "      <th>1</th>\n",
              "      <td>50</td>\n",
              "      <td>female</td>\n",
              "      <td>False</td>\n",
              "      <td>False</td>\n",
              "      <td>True</td>\n",
              "      <td>False</td>\n",
              "      <td>False</td>\n",
              "      <td>False</td>\n",
              "      <td>False</td>\n",
              "      <td>False</td>\n",
              "      <td>False</td>\n",
              "      <td>False</td>\n",
              "      <td>False</td>\n",
              "      <td>0.9</td>\n",
              "      <td>135.0</td>\n",
              "      <td>42.0</td>\n",
              "      <td>3.5</td>\n",
              "      <td>0.0</td>\n",
              "      <td>False</td>\n",
              "      <td>live</td>\n",
              "    </tr>\n",
              "    <tr>\n",
              "      <th>2</th>\n",
              "      <td>78</td>\n",
              "      <td>female</td>\n",
              "      <td>True</td>\n",
              "      <td>False</td>\n",
              "      <td>True</td>\n",
              "      <td>False</td>\n",
              "      <td>False</td>\n",
              "      <td>True</td>\n",
              "      <td>False</td>\n",
              "      <td>False</td>\n",
              "      <td>False</td>\n",
              "      <td>False</td>\n",
              "      <td>False</td>\n",
              "      <td>0.7</td>\n",
              "      <td>96.0</td>\n",
              "      <td>32.0</td>\n",
              "      <td>4.0</td>\n",
              "      <td>0.0</td>\n",
              "      <td>False</td>\n",
              "      <td>live</td>\n",
              "    </tr>\n",
              "    <tr>\n",
              "      <th>3</th>\n",
              "      <td>31</td>\n",
              "      <td>female</td>\n",
              "      <td>0</td>\n",
              "      <td>True</td>\n",
              "      <td>False</td>\n",
              "      <td>False</td>\n",
              "      <td>False</td>\n",
              "      <td>True</td>\n",
              "      <td>False</td>\n",
              "      <td>False</td>\n",
              "      <td>False</td>\n",
              "      <td>False</td>\n",
              "      <td>False</td>\n",
              "      <td>0.7</td>\n",
              "      <td>46.0</td>\n",
              "      <td>52.0</td>\n",
              "      <td>4.0</td>\n",
              "      <td>80.0</td>\n",
              "      <td>False</td>\n",
              "      <td>live</td>\n",
              "    </tr>\n",
              "    <tr>\n",
              "      <th>4</th>\n",
              "      <td>34</td>\n",
              "      <td>female</td>\n",
              "      <td>True</td>\n",
              "      <td>False</td>\n",
              "      <td>False</td>\n",
              "      <td>False</td>\n",
              "      <td>False</td>\n",
              "      <td>True</td>\n",
              "      <td>False</td>\n",
              "      <td>False</td>\n",
              "      <td>False</td>\n",
              "      <td>False</td>\n",
              "      <td>False</td>\n",
              "      <td>1.0</td>\n",
              "      <td>0.0</td>\n",
              "      <td>200.0</td>\n",
              "      <td>4.0</td>\n",
              "      <td>0.0</td>\n",
              "      <td>False</td>\n",
              "      <td>live</td>\n",
              "    </tr>\n",
              "    <tr>\n",
              "      <th>...</th>\n",
              "      <td>...</td>\n",
              "      <td>...</td>\n",
              "      <td>...</td>\n",
              "      <td>...</td>\n",
              "      <td>...</td>\n",
              "      <td>...</td>\n",
              "      <td>...</td>\n",
              "      <td>...</td>\n",
              "      <td>...</td>\n",
              "      <td>...</td>\n",
              "      <td>...</td>\n",
              "      <td>...</td>\n",
              "      <td>...</td>\n",
              "      <td>...</td>\n",
              "      <td>...</td>\n",
              "      <td>...</td>\n",
              "      <td>...</td>\n",
              "      <td>...</td>\n",
              "      <td>...</td>\n",
              "      <td>...</td>\n",
              "    </tr>\n",
              "    <tr>\n",
              "      <th>150</th>\n",
              "      <td>46</td>\n",
              "      <td>female</td>\n",
              "      <td>True</td>\n",
              "      <td>False</td>\n",
              "      <td>True</td>\n",
              "      <td>True</td>\n",
              "      <td>True</td>\n",
              "      <td>True</td>\n",
              "      <td>False</td>\n",
              "      <td>False</td>\n",
              "      <td>True</td>\n",
              "      <td>True</td>\n",
              "      <td>True</td>\n",
              "      <td>7.6</td>\n",
              "      <td>0.0</td>\n",
              "      <td>242.0</td>\n",
              "      <td>3.3</td>\n",
              "      <td>50.0</td>\n",
              "      <td>True</td>\n",
              "      <td>die</td>\n",
              "    </tr>\n",
              "    <tr>\n",
              "      <th>151</th>\n",
              "      <td>44</td>\n",
              "      <td>female</td>\n",
              "      <td>True</td>\n",
              "      <td>False</td>\n",
              "      <td>True</td>\n",
              "      <td>False</td>\n",
              "      <td>False</td>\n",
              "      <td>True</td>\n",
              "      <td>True</td>\n",
              "      <td>False</td>\n",
              "      <td>False</td>\n",
              "      <td>False</td>\n",
              "      <td>False</td>\n",
              "      <td>0.9</td>\n",
              "      <td>126.0</td>\n",
              "      <td>142.0</td>\n",
              "      <td>4.3</td>\n",
              "      <td>0.0</td>\n",
              "      <td>True</td>\n",
              "      <td>live</td>\n",
              "    </tr>\n",
              "    <tr>\n",
              "      <th>152</th>\n",
              "      <td>61</td>\n",
              "      <td>female</td>\n",
              "      <td>False</td>\n",
              "      <td>False</td>\n",
              "      <td>True</td>\n",
              "      <td>True</td>\n",
              "      <td>False</td>\n",
              "      <td>False</td>\n",
              "      <td>True</td>\n",
              "      <td>False</td>\n",
              "      <td>True</td>\n",
              "      <td>False</td>\n",
              "      <td>False</td>\n",
              "      <td>0.8</td>\n",
              "      <td>75.0</td>\n",
              "      <td>20.0</td>\n",
              "      <td>4.1</td>\n",
              "      <td>0.0</td>\n",
              "      <td>True</td>\n",
              "      <td>live</td>\n",
              "    </tr>\n",
              "    <tr>\n",
              "      <th>153</th>\n",
              "      <td>53</td>\n",
              "      <td>male</td>\n",
              "      <td>False</td>\n",
              "      <td>False</td>\n",
              "      <td>True</td>\n",
              "      <td>False</td>\n",
              "      <td>False</td>\n",
              "      <td>True</td>\n",
              "      <td>False</td>\n",
              "      <td>True</td>\n",
              "      <td>True</td>\n",
              "      <td>False</td>\n",
              "      <td>True</td>\n",
              "      <td>1.5</td>\n",
              "      <td>81.0</td>\n",
              "      <td>19.0</td>\n",
              "      <td>4.1</td>\n",
              "      <td>48.0</td>\n",
              "      <td>True</td>\n",
              "      <td>live</td>\n",
              "    </tr>\n",
              "    <tr>\n",
              "      <th>154</th>\n",
              "      <td>43</td>\n",
              "      <td>female</td>\n",
              "      <td>True</td>\n",
              "      <td>False</td>\n",
              "      <td>True</td>\n",
              "      <td>False</td>\n",
              "      <td>False</td>\n",
              "      <td>True</td>\n",
              "      <td>False</td>\n",
              "      <td>True</td>\n",
              "      <td>True</td>\n",
              "      <td>True</td>\n",
              "      <td>False</td>\n",
              "      <td>1.2</td>\n",
              "      <td>100.0</td>\n",
              "      <td>19.0</td>\n",
              "      <td>3.1</td>\n",
              "      <td>42.0</td>\n",
              "      <td>True</td>\n",
              "      <td>die</td>\n",
              "    </tr>\n",
              "  </tbody>\n",
              "</table>\n",
              "<p>145 rows × 20 columns</p>\n",
              "</div>"
            ],
            "text/plain": [
              "     age     sex steroid  antivirals  fatigue  malaise  anorexia  liver_big  \\\n",
              "0     30    male   False       False    False    False     False      False   \n",
              "1     50  female   False       False     True    False     False      False   \n",
              "2     78  female    True       False     True    False     False       True   \n",
              "3     31  female       0        True    False    False     False       True   \n",
              "4     34  female    True       False    False    False     False       True   \n",
              "..   ...     ...     ...         ...      ...      ...       ...        ...   \n",
              "150   46  female    True       False     True     True      True       True   \n",
              "151   44  female    True       False     True    False     False       True   \n",
              "152   61  female   False       False     True     True     False      False   \n",
              "153   53    male   False       False     True    False     False       True   \n",
              "154   43  female    True       False     True    False     False       True   \n",
              "\n",
              "    liver_firm spleen_palpable spiders ascites varices  bilirubin  \\\n",
              "0        False           False   False   False   False        1.0   \n",
              "1        False           False   False   False   False        0.9   \n",
              "2        False           False   False   False   False        0.7   \n",
              "3        False           False   False   False   False        0.7   \n",
              "4        False           False   False   False   False        1.0   \n",
              "..         ...             ...     ...     ...     ...        ...   \n",
              "150      False           False    True    True    True        7.6   \n",
              "151       True           False   False   False   False        0.9   \n",
              "152       True           False    True   False   False        0.8   \n",
              "153      False            True    True   False    True        1.5   \n",
              "154      False            True    True    True   False        1.2   \n",
              "\n",
              "     alk_phosphate   sgot  albumin  protime  histology class  \n",
              "0             85.0   18.0      4.0      0.0      False  live  \n",
              "1            135.0   42.0      3.5      0.0      False  live  \n",
              "2             96.0   32.0      4.0      0.0      False  live  \n",
              "3             46.0   52.0      4.0     80.0      False  live  \n",
              "4              0.0  200.0      4.0      0.0      False  live  \n",
              "..             ...    ...      ...      ...        ...   ...  \n",
              "150            0.0  242.0      3.3     50.0       True   die  \n",
              "151          126.0  142.0      4.3      0.0       True  live  \n",
              "152           75.0   20.0      4.1      0.0       True  live  \n",
              "153           81.0   19.0      4.1     48.0       True  live  \n",
              "154          100.0   19.0      3.1     42.0       True   die  \n",
              "\n",
              "[145 rows x 20 columns]"
            ]
          },
          "execution_count": 20,
          "metadata": {},
          "output_type": "execute_result"
        }
      ],
      "source": [
        "df.fillna(0,axis=1)"
      ]
    },
    {
      "cell_type": "code",
      "execution_count": null,
      "metadata": {
        "id": "TFmkHtGJJEWl",
        "outputId": "c0920f1a-c129-4dcf-99b9-8d360aa0bd5c"
      },
      "outputs": [
        {
          "data": {
            "text/html": [
              "<div>\n",
              "<style scoped>\n",
              "    .dataframe tbody tr th:only-of-type {\n",
              "        vertical-align: middle;\n",
              "    }\n",
              "\n",
              "    .dataframe tbody tr th {\n",
              "        vertical-align: top;\n",
              "    }\n",
              "\n",
              "    .dataframe thead th {\n",
              "        text-align: right;\n",
              "    }\n",
              "</style>\n",
              "<table border=\"1\" class=\"dataframe\">\n",
              "  <thead>\n",
              "    <tr style=\"text-align: right;\">\n",
              "      <th></th>\n",
              "      <th>age</th>\n",
              "      <th>sex</th>\n",
              "      <th>steroid</th>\n",
              "      <th>antivirals</th>\n",
              "      <th>fatigue</th>\n",
              "      <th>malaise</th>\n",
              "      <th>anorexia</th>\n",
              "      <th>liver_big</th>\n",
              "      <th>liver_firm</th>\n",
              "      <th>spleen_palpable</th>\n",
              "      <th>spiders</th>\n",
              "      <th>ascites</th>\n",
              "      <th>varices</th>\n",
              "      <th>bilirubin</th>\n",
              "      <th>alk_phosphate</th>\n",
              "      <th>sgot</th>\n",
              "      <th>albumin</th>\n",
              "      <th>protime</th>\n",
              "      <th>histology</th>\n",
              "      <th>class</th>\n",
              "    </tr>\n",
              "  </thead>\n",
              "  <tbody>\n",
              "    <tr>\n",
              "      <th>0</th>\n",
              "      <td>30</td>\n",
              "      <td>male</td>\n",
              "      <td>False</td>\n",
              "      <td>False</td>\n",
              "      <td>False</td>\n",
              "      <td>False</td>\n",
              "      <td>False</td>\n",
              "      <td>False</td>\n",
              "      <td>False</td>\n",
              "      <td>False</td>\n",
              "      <td>False</td>\n",
              "      <td>False</td>\n",
              "      <td>False</td>\n",
              "      <td>1.0</td>\n",
              "      <td>85.000000</td>\n",
              "      <td>18.0</td>\n",
              "      <td>4.0</td>\n",
              "      <td>62.383721</td>\n",
              "      <td>False</td>\n",
              "      <td>live</td>\n",
              "    </tr>\n",
              "    <tr>\n",
              "      <th>1</th>\n",
              "      <td>50</td>\n",
              "      <td>female</td>\n",
              "      <td>False</td>\n",
              "      <td>False</td>\n",
              "      <td>True</td>\n",
              "      <td>False</td>\n",
              "      <td>False</td>\n",
              "      <td>False</td>\n",
              "      <td>False</td>\n",
              "      <td>False</td>\n",
              "      <td>False</td>\n",
              "      <td>False</td>\n",
              "      <td>False</td>\n",
              "      <td>0.9</td>\n",
              "      <td>135.000000</td>\n",
              "      <td>42.0</td>\n",
              "      <td>3.5</td>\n",
              "      <td>62.383721</td>\n",
              "      <td>False</td>\n",
              "      <td>live</td>\n",
              "    </tr>\n",
              "    <tr>\n",
              "      <th>2</th>\n",
              "      <td>78</td>\n",
              "      <td>female</td>\n",
              "      <td>True</td>\n",
              "      <td>False</td>\n",
              "      <td>True</td>\n",
              "      <td>False</td>\n",
              "      <td>False</td>\n",
              "      <td>True</td>\n",
              "      <td>False</td>\n",
              "      <td>False</td>\n",
              "      <td>False</td>\n",
              "      <td>False</td>\n",
              "      <td>False</td>\n",
              "      <td>0.7</td>\n",
              "      <td>96.000000</td>\n",
              "      <td>32.0</td>\n",
              "      <td>4.0</td>\n",
              "      <td>62.383721</td>\n",
              "      <td>False</td>\n",
              "      <td>live</td>\n",
              "    </tr>\n",
              "    <tr>\n",
              "      <th>3</th>\n",
              "      <td>31</td>\n",
              "      <td>female</td>\n",
              "      <td>NaN</td>\n",
              "      <td>True</td>\n",
              "      <td>False</td>\n",
              "      <td>False</td>\n",
              "      <td>False</td>\n",
              "      <td>True</td>\n",
              "      <td>False</td>\n",
              "      <td>False</td>\n",
              "      <td>False</td>\n",
              "      <td>False</td>\n",
              "      <td>False</td>\n",
              "      <td>0.7</td>\n",
              "      <td>46.000000</td>\n",
              "      <td>52.0</td>\n",
              "      <td>4.0</td>\n",
              "      <td>80.000000</td>\n",
              "      <td>False</td>\n",
              "      <td>live</td>\n",
              "    </tr>\n",
              "    <tr>\n",
              "      <th>4</th>\n",
              "      <td>34</td>\n",
              "      <td>female</td>\n",
              "      <td>True</td>\n",
              "      <td>False</td>\n",
              "      <td>False</td>\n",
              "      <td>False</td>\n",
              "      <td>False</td>\n",
              "      <td>True</td>\n",
              "      <td>False</td>\n",
              "      <td>False</td>\n",
              "      <td>False</td>\n",
              "      <td>False</td>\n",
              "      <td>False</td>\n",
              "      <td>1.0</td>\n",
              "      <td>105.553719</td>\n",
              "      <td>200.0</td>\n",
              "      <td>4.0</td>\n",
              "      <td>62.383721</td>\n",
              "      <td>False</td>\n",
              "      <td>live</td>\n",
              "    </tr>\n",
              "    <tr>\n",
              "      <th>...</th>\n",
              "      <td>...</td>\n",
              "      <td>...</td>\n",
              "      <td>...</td>\n",
              "      <td>...</td>\n",
              "      <td>...</td>\n",
              "      <td>...</td>\n",
              "      <td>...</td>\n",
              "      <td>...</td>\n",
              "      <td>...</td>\n",
              "      <td>...</td>\n",
              "      <td>...</td>\n",
              "      <td>...</td>\n",
              "      <td>...</td>\n",
              "      <td>...</td>\n",
              "      <td>...</td>\n",
              "      <td>...</td>\n",
              "      <td>...</td>\n",
              "      <td>...</td>\n",
              "      <td>...</td>\n",
              "      <td>...</td>\n",
              "    </tr>\n",
              "    <tr>\n",
              "      <th>150</th>\n",
              "      <td>46</td>\n",
              "      <td>female</td>\n",
              "      <td>True</td>\n",
              "      <td>False</td>\n",
              "      <td>True</td>\n",
              "      <td>True</td>\n",
              "      <td>True</td>\n",
              "      <td>True</td>\n",
              "      <td>False</td>\n",
              "      <td>False</td>\n",
              "      <td>True</td>\n",
              "      <td>True</td>\n",
              "      <td>True</td>\n",
              "      <td>7.6</td>\n",
              "      <td>105.553719</td>\n",
              "      <td>242.0</td>\n",
              "      <td>3.3</td>\n",
              "      <td>50.000000</td>\n",
              "      <td>True</td>\n",
              "      <td>die</td>\n",
              "    </tr>\n",
              "    <tr>\n",
              "      <th>151</th>\n",
              "      <td>44</td>\n",
              "      <td>female</td>\n",
              "      <td>True</td>\n",
              "      <td>False</td>\n",
              "      <td>True</td>\n",
              "      <td>False</td>\n",
              "      <td>False</td>\n",
              "      <td>True</td>\n",
              "      <td>True</td>\n",
              "      <td>False</td>\n",
              "      <td>False</td>\n",
              "      <td>False</td>\n",
              "      <td>False</td>\n",
              "      <td>0.9</td>\n",
              "      <td>126.000000</td>\n",
              "      <td>142.0</td>\n",
              "      <td>4.3</td>\n",
              "      <td>62.383721</td>\n",
              "      <td>True</td>\n",
              "      <td>live</td>\n",
              "    </tr>\n",
              "    <tr>\n",
              "      <th>152</th>\n",
              "      <td>61</td>\n",
              "      <td>female</td>\n",
              "      <td>False</td>\n",
              "      <td>False</td>\n",
              "      <td>True</td>\n",
              "      <td>True</td>\n",
              "      <td>False</td>\n",
              "      <td>False</td>\n",
              "      <td>True</td>\n",
              "      <td>False</td>\n",
              "      <td>True</td>\n",
              "      <td>False</td>\n",
              "      <td>False</td>\n",
              "      <td>0.8</td>\n",
              "      <td>75.000000</td>\n",
              "      <td>20.0</td>\n",
              "      <td>4.1</td>\n",
              "      <td>62.383721</td>\n",
              "      <td>True</td>\n",
              "      <td>live</td>\n",
              "    </tr>\n",
              "    <tr>\n",
              "      <th>153</th>\n",
              "      <td>53</td>\n",
              "      <td>male</td>\n",
              "      <td>False</td>\n",
              "      <td>False</td>\n",
              "      <td>True</td>\n",
              "      <td>False</td>\n",
              "      <td>False</td>\n",
              "      <td>True</td>\n",
              "      <td>False</td>\n",
              "      <td>True</td>\n",
              "      <td>True</td>\n",
              "      <td>False</td>\n",
              "      <td>True</td>\n",
              "      <td>1.5</td>\n",
              "      <td>81.000000</td>\n",
              "      <td>19.0</td>\n",
              "      <td>4.1</td>\n",
              "      <td>48.000000</td>\n",
              "      <td>True</td>\n",
              "      <td>live</td>\n",
              "    </tr>\n",
              "    <tr>\n",
              "      <th>154</th>\n",
              "      <td>43</td>\n",
              "      <td>female</td>\n",
              "      <td>True</td>\n",
              "      <td>False</td>\n",
              "      <td>True</td>\n",
              "      <td>False</td>\n",
              "      <td>False</td>\n",
              "      <td>True</td>\n",
              "      <td>False</td>\n",
              "      <td>True</td>\n",
              "      <td>True</td>\n",
              "      <td>True</td>\n",
              "      <td>False</td>\n",
              "      <td>1.2</td>\n",
              "      <td>100.000000</td>\n",
              "      <td>19.0</td>\n",
              "      <td>3.1</td>\n",
              "      <td>42.000000</td>\n",
              "      <td>True</td>\n",
              "      <td>die</td>\n",
              "    </tr>\n",
              "  </tbody>\n",
              "</table>\n",
              "<p>145 rows × 20 columns</p>\n",
              "</div>"
            ],
            "text/plain": [
              "     age     sex steroid  antivirals fatigue malaise anorexia liver_big  \\\n",
              "0     30    male   False       False   False   False    False     False   \n",
              "1     50  female   False       False    True   False    False     False   \n",
              "2     78  female    True       False    True   False    False      True   \n",
              "3     31  female     NaN        True   False   False    False      True   \n",
              "4     34  female    True       False   False   False    False      True   \n",
              "..   ...     ...     ...         ...     ...     ...      ...       ...   \n",
              "150   46  female    True       False    True    True     True      True   \n",
              "151   44  female    True       False    True   False    False      True   \n",
              "152   61  female   False       False    True    True    False     False   \n",
              "153   53    male   False       False    True   False    False      True   \n",
              "154   43  female    True       False    True   False    False      True   \n",
              "\n",
              "    liver_firm spleen_palpable spiders ascites varices  bilirubin  \\\n",
              "0        False           False   False   False   False        1.0   \n",
              "1        False           False   False   False   False        0.9   \n",
              "2        False           False   False   False   False        0.7   \n",
              "3        False           False   False   False   False        0.7   \n",
              "4        False           False   False   False   False        1.0   \n",
              "..         ...             ...     ...     ...     ...        ...   \n",
              "150      False           False    True    True    True        7.6   \n",
              "151       True           False   False   False   False        0.9   \n",
              "152       True           False    True   False   False        0.8   \n",
              "153      False            True    True   False    True        1.5   \n",
              "154      False            True    True    True   False        1.2   \n",
              "\n",
              "     alk_phosphate   sgot  albumin    protime  histology class  \n",
              "0        85.000000   18.0      4.0  62.383721      False  live  \n",
              "1       135.000000   42.0      3.5  62.383721      False  live  \n",
              "2        96.000000   32.0      4.0  62.383721      False  live  \n",
              "3        46.000000   52.0      4.0  80.000000      False  live  \n",
              "4       105.553719  200.0      4.0  62.383721      False  live  \n",
              "..             ...    ...      ...        ...        ...   ...  \n",
              "150     105.553719  242.0      3.3  50.000000       True   die  \n",
              "151     126.000000  142.0      4.3  62.383721       True  live  \n",
              "152      75.000000   20.0      4.1  62.383721       True  live  \n",
              "153      81.000000   19.0      4.1  48.000000       True  live  \n",
              "154     100.000000   19.0      3.1  42.000000       True   die  \n",
              "\n",
              "[145 rows x 20 columns]"
            ]
          },
          "execution_count": 22,
          "metadata": {},
          "output_type": "execute_result"
        }
      ],
      "source": [
        "import numpy as np\n",
        "numeric = df.select_dtypes(include=np.number)\n",
        "numeric_columns = numeric.columns\n",
        "df[numeric_columns] = df[numeric_columns].fillna(df.mean())\n",
        "df"
      ]
    },
    {
      "cell_type": "code",
      "execution_count": null,
      "metadata": {
        "id": "kTf0zUihJEWn",
        "outputId": "8dfd8ee0-b29b-433b-8795-573b02e0fa5c"
      },
      "outputs": [
        {
          "data": {
            "text/html": [
              "<div>\n",
              "<style scoped>\n",
              "    .dataframe tbody tr th:only-of-type {\n",
              "        vertical-align: middle;\n",
              "    }\n",
              "\n",
              "    .dataframe tbody tr th {\n",
              "        vertical-align: top;\n",
              "    }\n",
              "\n",
              "    .dataframe thead th {\n",
              "        text-align: right;\n",
              "    }\n",
              "</style>\n",
              "<table border=\"1\" class=\"dataframe\">\n",
              "  <thead>\n",
              "    <tr style=\"text-align: right;\">\n",
              "      <th></th>\n",
              "      <th>age</th>\n",
              "      <th>sex</th>\n",
              "      <th>steroid</th>\n",
              "      <th>antivirals</th>\n",
              "      <th>fatigue</th>\n",
              "      <th>malaise</th>\n",
              "      <th>anorexia</th>\n",
              "      <th>liver_big</th>\n",
              "      <th>liver_firm</th>\n",
              "      <th>spleen_palpable</th>\n",
              "      <th>spiders</th>\n",
              "      <th>ascites</th>\n",
              "      <th>varices</th>\n",
              "      <th>bilirubin</th>\n",
              "      <th>alk_phosphate</th>\n",
              "      <th>sgot</th>\n",
              "      <th>albumin</th>\n",
              "      <th>protime</th>\n",
              "      <th>histology</th>\n",
              "      <th>class</th>\n",
              "    </tr>\n",
              "  </thead>\n",
              "  <tbody>\n",
              "    <tr>\n",
              "      <th>0</th>\n",
              "      <td>30</td>\n",
              "      <td>True</td>\n",
              "      <td>False</td>\n",
              "      <td>False</td>\n",
              "      <td>False</td>\n",
              "      <td>False</td>\n",
              "      <td>False</td>\n",
              "      <td>False</td>\n",
              "      <td>False</td>\n",
              "      <td>False</td>\n",
              "      <td>False</td>\n",
              "      <td>False</td>\n",
              "      <td>False</td>\n",
              "      <td>1.0</td>\n",
              "      <td>85.000000</td>\n",
              "      <td>18.0</td>\n",
              "      <td>4.0</td>\n",
              "      <td>62.383721</td>\n",
              "      <td>False</td>\n",
              "      <td>live</td>\n",
              "    </tr>\n",
              "    <tr>\n",
              "      <th>1</th>\n",
              "      <td>50</td>\n",
              "      <td>True</td>\n",
              "      <td>False</td>\n",
              "      <td>False</td>\n",
              "      <td>True</td>\n",
              "      <td>False</td>\n",
              "      <td>False</td>\n",
              "      <td>False</td>\n",
              "      <td>False</td>\n",
              "      <td>False</td>\n",
              "      <td>False</td>\n",
              "      <td>False</td>\n",
              "      <td>False</td>\n",
              "      <td>0.9</td>\n",
              "      <td>135.000000</td>\n",
              "      <td>42.0</td>\n",
              "      <td>3.5</td>\n",
              "      <td>62.383721</td>\n",
              "      <td>False</td>\n",
              "      <td>live</td>\n",
              "    </tr>\n",
              "    <tr>\n",
              "      <th>2</th>\n",
              "      <td>78</td>\n",
              "      <td>True</td>\n",
              "      <td>True</td>\n",
              "      <td>False</td>\n",
              "      <td>True</td>\n",
              "      <td>False</td>\n",
              "      <td>False</td>\n",
              "      <td>True</td>\n",
              "      <td>False</td>\n",
              "      <td>False</td>\n",
              "      <td>False</td>\n",
              "      <td>False</td>\n",
              "      <td>False</td>\n",
              "      <td>0.7</td>\n",
              "      <td>96.000000</td>\n",
              "      <td>32.0</td>\n",
              "      <td>4.0</td>\n",
              "      <td>62.383721</td>\n",
              "      <td>False</td>\n",
              "      <td>live</td>\n",
              "    </tr>\n",
              "    <tr>\n",
              "      <th>3</th>\n",
              "      <td>31</td>\n",
              "      <td>True</td>\n",
              "      <td>True</td>\n",
              "      <td>True</td>\n",
              "      <td>False</td>\n",
              "      <td>False</td>\n",
              "      <td>False</td>\n",
              "      <td>True</td>\n",
              "      <td>False</td>\n",
              "      <td>False</td>\n",
              "      <td>False</td>\n",
              "      <td>False</td>\n",
              "      <td>False</td>\n",
              "      <td>0.7</td>\n",
              "      <td>46.000000</td>\n",
              "      <td>52.0</td>\n",
              "      <td>4.0</td>\n",
              "      <td>80.000000</td>\n",
              "      <td>False</td>\n",
              "      <td>live</td>\n",
              "    </tr>\n",
              "    <tr>\n",
              "      <th>4</th>\n",
              "      <td>34</td>\n",
              "      <td>True</td>\n",
              "      <td>True</td>\n",
              "      <td>False</td>\n",
              "      <td>False</td>\n",
              "      <td>False</td>\n",
              "      <td>False</td>\n",
              "      <td>True</td>\n",
              "      <td>False</td>\n",
              "      <td>False</td>\n",
              "      <td>False</td>\n",
              "      <td>False</td>\n",
              "      <td>False</td>\n",
              "      <td>1.0</td>\n",
              "      <td>105.553719</td>\n",
              "      <td>200.0</td>\n",
              "      <td>4.0</td>\n",
              "      <td>62.383721</td>\n",
              "      <td>False</td>\n",
              "      <td>live</td>\n",
              "    </tr>\n",
              "    <tr>\n",
              "      <th>...</th>\n",
              "      <td>...</td>\n",
              "      <td>...</td>\n",
              "      <td>...</td>\n",
              "      <td>...</td>\n",
              "      <td>...</td>\n",
              "      <td>...</td>\n",
              "      <td>...</td>\n",
              "      <td>...</td>\n",
              "      <td>...</td>\n",
              "      <td>...</td>\n",
              "      <td>...</td>\n",
              "      <td>...</td>\n",
              "      <td>...</td>\n",
              "      <td>...</td>\n",
              "      <td>...</td>\n",
              "      <td>...</td>\n",
              "      <td>...</td>\n",
              "      <td>...</td>\n",
              "      <td>...</td>\n",
              "      <td>...</td>\n",
              "    </tr>\n",
              "    <tr>\n",
              "      <th>150</th>\n",
              "      <td>46</td>\n",
              "      <td>True</td>\n",
              "      <td>True</td>\n",
              "      <td>False</td>\n",
              "      <td>True</td>\n",
              "      <td>True</td>\n",
              "      <td>True</td>\n",
              "      <td>True</td>\n",
              "      <td>False</td>\n",
              "      <td>False</td>\n",
              "      <td>True</td>\n",
              "      <td>True</td>\n",
              "      <td>True</td>\n",
              "      <td>7.6</td>\n",
              "      <td>105.553719</td>\n",
              "      <td>242.0</td>\n",
              "      <td>3.3</td>\n",
              "      <td>50.000000</td>\n",
              "      <td>True</td>\n",
              "      <td>die</td>\n",
              "    </tr>\n",
              "    <tr>\n",
              "      <th>151</th>\n",
              "      <td>44</td>\n",
              "      <td>True</td>\n",
              "      <td>True</td>\n",
              "      <td>False</td>\n",
              "      <td>True</td>\n",
              "      <td>False</td>\n",
              "      <td>False</td>\n",
              "      <td>True</td>\n",
              "      <td>True</td>\n",
              "      <td>False</td>\n",
              "      <td>False</td>\n",
              "      <td>False</td>\n",
              "      <td>False</td>\n",
              "      <td>0.9</td>\n",
              "      <td>126.000000</td>\n",
              "      <td>142.0</td>\n",
              "      <td>4.3</td>\n",
              "      <td>62.383721</td>\n",
              "      <td>True</td>\n",
              "      <td>live</td>\n",
              "    </tr>\n",
              "    <tr>\n",
              "      <th>152</th>\n",
              "      <td>61</td>\n",
              "      <td>True</td>\n",
              "      <td>False</td>\n",
              "      <td>False</td>\n",
              "      <td>True</td>\n",
              "      <td>True</td>\n",
              "      <td>False</td>\n",
              "      <td>False</td>\n",
              "      <td>True</td>\n",
              "      <td>False</td>\n",
              "      <td>True</td>\n",
              "      <td>False</td>\n",
              "      <td>False</td>\n",
              "      <td>0.8</td>\n",
              "      <td>75.000000</td>\n",
              "      <td>20.0</td>\n",
              "      <td>4.1</td>\n",
              "      <td>62.383721</td>\n",
              "      <td>True</td>\n",
              "      <td>live</td>\n",
              "    </tr>\n",
              "    <tr>\n",
              "      <th>153</th>\n",
              "      <td>53</td>\n",
              "      <td>True</td>\n",
              "      <td>False</td>\n",
              "      <td>False</td>\n",
              "      <td>True</td>\n",
              "      <td>False</td>\n",
              "      <td>False</td>\n",
              "      <td>True</td>\n",
              "      <td>False</td>\n",
              "      <td>True</td>\n",
              "      <td>True</td>\n",
              "      <td>False</td>\n",
              "      <td>True</td>\n",
              "      <td>1.5</td>\n",
              "      <td>81.000000</td>\n",
              "      <td>19.0</td>\n",
              "      <td>4.1</td>\n",
              "      <td>48.000000</td>\n",
              "      <td>True</td>\n",
              "      <td>live</td>\n",
              "    </tr>\n",
              "    <tr>\n",
              "      <th>154</th>\n",
              "      <td>43</td>\n",
              "      <td>True</td>\n",
              "      <td>True</td>\n",
              "      <td>False</td>\n",
              "      <td>True</td>\n",
              "      <td>False</td>\n",
              "      <td>False</td>\n",
              "      <td>True</td>\n",
              "      <td>False</td>\n",
              "      <td>True</td>\n",
              "      <td>True</td>\n",
              "      <td>True</td>\n",
              "      <td>False</td>\n",
              "      <td>1.2</td>\n",
              "      <td>100.000000</td>\n",
              "      <td>19.0</td>\n",
              "      <td>3.1</td>\n",
              "      <td>42.000000</td>\n",
              "      <td>True</td>\n",
              "      <td>die</td>\n",
              "    </tr>\n",
              "  </tbody>\n",
              "</table>\n",
              "<p>145 rows × 20 columns</p>\n",
              "</div>"
            ],
            "text/plain": [
              "     age   sex  steroid  antivirals  fatigue  malaise  anorexia  liver_big  \\\n",
              "0     30  True    False       False    False    False     False      False   \n",
              "1     50  True    False       False     True    False     False      False   \n",
              "2     78  True     True       False     True    False     False       True   \n",
              "3     31  True     True        True    False    False     False       True   \n",
              "4     34  True     True       False    False    False     False       True   \n",
              "..   ...   ...      ...         ...      ...      ...       ...        ...   \n",
              "150   46  True     True       False     True     True      True       True   \n",
              "151   44  True     True       False     True    False     False       True   \n",
              "152   61  True    False       False     True     True     False      False   \n",
              "153   53  True    False       False     True    False     False       True   \n",
              "154   43  True     True       False     True    False     False       True   \n",
              "\n",
              "     liver_firm  spleen_palpable  spiders  ascites  varices  bilirubin  \\\n",
              "0         False            False    False    False    False        1.0   \n",
              "1         False            False    False    False    False        0.9   \n",
              "2         False            False    False    False    False        0.7   \n",
              "3         False            False    False    False    False        0.7   \n",
              "4         False            False    False    False    False        1.0   \n",
              "..          ...              ...      ...      ...      ...        ...   \n",
              "150       False            False     True     True     True        7.6   \n",
              "151        True            False    False    False    False        0.9   \n",
              "152        True            False     True    False    False        0.8   \n",
              "153       False             True     True    False     True        1.5   \n",
              "154       False             True     True     True    False        1.2   \n",
              "\n",
              "     alk_phosphate   sgot  albumin    protime  histology class  \n",
              "0        85.000000   18.0      4.0  62.383721      False  live  \n",
              "1       135.000000   42.0      3.5  62.383721      False  live  \n",
              "2        96.000000   32.0      4.0  62.383721      False  live  \n",
              "3        46.000000   52.0      4.0  80.000000      False  live  \n",
              "4       105.553719  200.0      4.0  62.383721      False  live  \n",
              "..             ...    ...      ...        ...        ...   ...  \n",
              "150     105.553719  242.0      3.3  50.000000       True   die  \n",
              "151     126.000000  142.0      4.3  62.383721       True  live  \n",
              "152      75.000000   20.0      4.1  62.383721       True  live  \n",
              "153      81.000000   19.0      4.1  48.000000       True  live  \n",
              "154     100.000000   19.0      3.1  42.000000       True   die  \n",
              "\n",
              "[145 rows x 20 columns]"
            ]
          },
          "execution_count": 23,
          "metadata": {},
          "output_type": "execute_result"
        }
      ],
      "source": [
        "boolean_columns = df.select_dtypes(include=np.object).columns.tolist()\n",
        "boolean_columns.remove('class')\n",
        "df[boolean_columns] = df[boolean_columns].astype('bool')\n",
        "df[boolean_columns].fillna(df.mode())\n",
        "df"
      ]
    },
    {
      "cell_type": "code",
      "execution_count": null,
      "metadata": {
        "id": "uwoziPyBJEWo",
        "outputId": "5e246079-3210-45c9-91bd-cb749e57b2d9"
      },
      "outputs": [
        {
          "data": {
            "text/html": [
              "<div>\n",
              "<style scoped>\n",
              "    .dataframe tbody tr th:only-of-type {\n",
              "        vertical-align: middle;\n",
              "    }\n",
              "\n",
              "    .dataframe tbody tr th {\n",
              "        vertical-align: top;\n",
              "    }\n",
              "\n",
              "    .dataframe thead th {\n",
              "        text-align: right;\n",
              "    }\n",
              "</style>\n",
              "<table border=\"1\" class=\"dataframe\">\n",
              "  <thead>\n",
              "    <tr style=\"text-align: right;\">\n",
              "      <th></th>\n",
              "      <th>age</th>\n",
              "      <th>sex</th>\n",
              "      <th>steroid</th>\n",
              "      <th>antivirals</th>\n",
              "      <th>fatigue</th>\n",
              "      <th>malaise</th>\n",
              "      <th>anorexia</th>\n",
              "      <th>liver_big</th>\n",
              "      <th>liver_firm</th>\n",
              "      <th>spleen_palpable</th>\n",
              "      <th>spiders</th>\n",
              "      <th>ascites</th>\n",
              "      <th>varices</th>\n",
              "      <th>bilirubin</th>\n",
              "      <th>alk_phosphate</th>\n",
              "      <th>sgot</th>\n",
              "      <th>albumin</th>\n",
              "      <th>protime</th>\n",
              "      <th>histology</th>\n",
              "      <th>class</th>\n",
              "    </tr>\n",
              "  </thead>\n",
              "  <tbody>\n",
              "    <tr>\n",
              "      <th>0</th>\n",
              "      <td>30</td>\n",
              "      <td>True</td>\n",
              "      <td>False</td>\n",
              "      <td>False</td>\n",
              "      <td>False</td>\n",
              "      <td>False</td>\n",
              "      <td>False</td>\n",
              "      <td>False</td>\n",
              "      <td>False</td>\n",
              "      <td>False</td>\n",
              "      <td>False</td>\n",
              "      <td>False</td>\n",
              "      <td>False</td>\n",
              "      <td>1.000000</td>\n",
              "      <td>85.000000</td>\n",
              "      <td>18.00000</td>\n",
              "      <td>4.000000</td>\n",
              "      <td>62.383721</td>\n",
              "      <td>False</td>\n",
              "      <td>live</td>\n",
              "    </tr>\n",
              "    <tr>\n",
              "      <th>1</th>\n",
              "      <td>50</td>\n",
              "      <td>True</td>\n",
              "      <td>False</td>\n",
              "      <td>False</td>\n",
              "      <td>True</td>\n",
              "      <td>False</td>\n",
              "      <td>False</td>\n",
              "      <td>False</td>\n",
              "      <td>False</td>\n",
              "      <td>False</td>\n",
              "      <td>False</td>\n",
              "      <td>False</td>\n",
              "      <td>False</td>\n",
              "      <td>0.900000</td>\n",
              "      <td>135.000000</td>\n",
              "      <td>42.00000</td>\n",
              "      <td>3.500000</td>\n",
              "      <td>62.383721</td>\n",
              "      <td>False</td>\n",
              "      <td>live</td>\n",
              "    </tr>\n",
              "    <tr>\n",
              "      <th>2</th>\n",
              "      <td>78</td>\n",
              "      <td>True</td>\n",
              "      <td>True</td>\n",
              "      <td>False</td>\n",
              "      <td>True</td>\n",
              "      <td>False</td>\n",
              "      <td>False</td>\n",
              "      <td>True</td>\n",
              "      <td>False</td>\n",
              "      <td>False</td>\n",
              "      <td>False</td>\n",
              "      <td>False</td>\n",
              "      <td>False</td>\n",
              "      <td>0.700000</td>\n",
              "      <td>96.000000</td>\n",
              "      <td>32.00000</td>\n",
              "      <td>4.000000</td>\n",
              "      <td>62.383721</td>\n",
              "      <td>False</td>\n",
              "      <td>live</td>\n",
              "    </tr>\n",
              "    <tr>\n",
              "      <th>3</th>\n",
              "      <td>31</td>\n",
              "      <td>True</td>\n",
              "      <td>True</td>\n",
              "      <td>True</td>\n",
              "      <td>False</td>\n",
              "      <td>False</td>\n",
              "      <td>False</td>\n",
              "      <td>True</td>\n",
              "      <td>False</td>\n",
              "      <td>False</td>\n",
              "      <td>False</td>\n",
              "      <td>False</td>\n",
              "      <td>False</td>\n",
              "      <td>0.700000</td>\n",
              "      <td>46.000000</td>\n",
              "      <td>52.00000</td>\n",
              "      <td>4.000000</td>\n",
              "      <td>80.000000</td>\n",
              "      <td>False</td>\n",
              "      <td>live</td>\n",
              "    </tr>\n",
              "    <tr>\n",
              "      <th>4</th>\n",
              "      <td>34</td>\n",
              "      <td>True</td>\n",
              "      <td>True</td>\n",
              "      <td>False</td>\n",
              "      <td>False</td>\n",
              "      <td>False</td>\n",
              "      <td>False</td>\n",
              "      <td>True</td>\n",
              "      <td>False</td>\n",
              "      <td>False</td>\n",
              "      <td>False</td>\n",
              "      <td>False</td>\n",
              "      <td>False</td>\n",
              "      <td>1.000000</td>\n",
              "      <td>105.553719</td>\n",
              "      <td>200.00000</td>\n",
              "      <td>4.000000</td>\n",
              "      <td>62.383721</td>\n",
              "      <td>False</td>\n",
              "      <td>live</td>\n",
              "    </tr>\n",
              "    <tr>\n",
              "      <th>5</th>\n",
              "      <td>34</td>\n",
              "      <td>True</td>\n",
              "      <td>True</td>\n",
              "      <td>False</td>\n",
              "      <td>False</td>\n",
              "      <td>False</td>\n",
              "      <td>False</td>\n",
              "      <td>True</td>\n",
              "      <td>False</td>\n",
              "      <td>False</td>\n",
              "      <td>False</td>\n",
              "      <td>False</td>\n",
              "      <td>False</td>\n",
              "      <td>0.900000</td>\n",
              "      <td>95.000000</td>\n",
              "      <td>28.00000</td>\n",
              "      <td>4.000000</td>\n",
              "      <td>75.000000</td>\n",
              "      <td>False</td>\n",
              "      <td>live</td>\n",
              "    </tr>\n",
              "    <tr>\n",
              "      <th>6</th>\n",
              "      <td>51</td>\n",
              "      <td>True</td>\n",
              "      <td>False</td>\n",
              "      <td>False</td>\n",
              "      <td>True</td>\n",
              "      <td>False</td>\n",
              "      <td>True</td>\n",
              "      <td>True</td>\n",
              "      <td>False</td>\n",
              "      <td>True</td>\n",
              "      <td>True</td>\n",
              "      <td>False</td>\n",
              "      <td>False</td>\n",
              "      <td>1.397872</td>\n",
              "      <td>105.553719</td>\n",
              "      <td>83.41958</td>\n",
              "      <td>3.823485</td>\n",
              "      <td>62.383721</td>\n",
              "      <td>False</td>\n",
              "      <td>die</td>\n",
              "    </tr>\n",
              "    <tr>\n",
              "      <th>7</th>\n",
              "      <td>23</td>\n",
              "      <td>True</td>\n",
              "      <td>True</td>\n",
              "      <td>False</td>\n",
              "      <td>False</td>\n",
              "      <td>False</td>\n",
              "      <td>False</td>\n",
              "      <td>True</td>\n",
              "      <td>False</td>\n",
              "      <td>False</td>\n",
              "      <td>False</td>\n",
              "      <td>False</td>\n",
              "      <td>False</td>\n",
              "      <td>1.000000</td>\n",
              "      <td>105.553719</td>\n",
              "      <td>83.41958</td>\n",
              "      <td>3.823485</td>\n",
              "      <td>62.383721</td>\n",
              "      <td>False</td>\n",
              "      <td>live</td>\n",
              "    </tr>\n",
              "    <tr>\n",
              "      <th>8</th>\n",
              "      <td>39</td>\n",
              "      <td>True</td>\n",
              "      <td>True</td>\n",
              "      <td>False</td>\n",
              "      <td>True</td>\n",
              "      <td>False</td>\n",
              "      <td>False</td>\n",
              "      <td>True</td>\n",
              "      <td>True</td>\n",
              "      <td>False</td>\n",
              "      <td>False</td>\n",
              "      <td>False</td>\n",
              "      <td>False</td>\n",
              "      <td>0.700000</td>\n",
              "      <td>105.553719</td>\n",
              "      <td>48.00000</td>\n",
              "      <td>4.400000</td>\n",
              "      <td>62.383721</td>\n",
              "      <td>False</td>\n",
              "      <td>live</td>\n",
              "    </tr>\n",
              "    <tr>\n",
              "      <th>9</th>\n",
              "      <td>30</td>\n",
              "      <td>True</td>\n",
              "      <td>True</td>\n",
              "      <td>False</td>\n",
              "      <td>False</td>\n",
              "      <td>False</td>\n",
              "      <td>False</td>\n",
              "      <td>True</td>\n",
              "      <td>False</td>\n",
              "      <td>False</td>\n",
              "      <td>False</td>\n",
              "      <td>False</td>\n",
              "      <td>False</td>\n",
              "      <td>1.000000</td>\n",
              "      <td>105.553719</td>\n",
              "      <td>120.00000</td>\n",
              "      <td>3.900000</td>\n",
              "      <td>62.383721</td>\n",
              "      <td>False</td>\n",
              "      <td>live</td>\n",
              "    </tr>\n",
              "  </tbody>\n",
              "</table>\n",
              "</div>"
            ],
            "text/plain": [
              "   age   sex  steroid  antivirals  fatigue  malaise  anorexia  liver_big  \\\n",
              "0   30  True    False       False    False    False     False      False   \n",
              "1   50  True    False       False     True    False     False      False   \n",
              "2   78  True     True       False     True    False     False       True   \n",
              "3   31  True     True        True    False    False     False       True   \n",
              "4   34  True     True       False    False    False     False       True   \n",
              "5   34  True     True       False    False    False     False       True   \n",
              "6   51  True    False       False     True    False      True       True   \n",
              "7   23  True     True       False    False    False     False       True   \n",
              "8   39  True     True       False     True    False     False       True   \n",
              "9   30  True     True       False    False    False     False       True   \n",
              "\n",
              "   liver_firm  spleen_palpable  spiders  ascites  varices  bilirubin  \\\n",
              "0       False            False    False    False    False   1.000000   \n",
              "1       False            False    False    False    False   0.900000   \n",
              "2       False            False    False    False    False   0.700000   \n",
              "3       False            False    False    False    False   0.700000   \n",
              "4       False            False    False    False    False   1.000000   \n",
              "5       False            False    False    False    False   0.900000   \n",
              "6       False             True     True    False    False   1.397872   \n",
              "7       False            False    False    False    False   1.000000   \n",
              "8        True            False    False    False    False   0.700000   \n",
              "9       False            False    False    False    False   1.000000   \n",
              "\n",
              "   alk_phosphate       sgot   albumin    protime  histology class  \n",
              "0      85.000000   18.00000  4.000000  62.383721      False  live  \n",
              "1     135.000000   42.00000  3.500000  62.383721      False  live  \n",
              "2      96.000000   32.00000  4.000000  62.383721      False  live  \n",
              "3      46.000000   52.00000  4.000000  80.000000      False  live  \n",
              "4     105.553719  200.00000  4.000000  62.383721      False  live  \n",
              "5      95.000000   28.00000  4.000000  75.000000      False  live  \n",
              "6     105.553719   83.41958  3.823485  62.383721      False   die  \n",
              "7     105.553719   83.41958  3.823485  62.383721      False  live  \n",
              "8     105.553719   48.00000  4.400000  62.383721      False  live  \n",
              "9     105.553719  120.00000  3.900000  62.383721      False  live  "
            ]
          },
          "execution_count": 25,
          "metadata": {},
          "output_type": "execute_result"
        }
      ],
      "source": [
        "numeric = df.select_dtypes(include=np.number)\n",
        "numeric_columns = numeric.columns\n",
        "df[numeric_columns] = df[numeric_columns].interpolate(method ='linear', limit_direction ='forward')\n",
        "df.head(10)"
      ]
    },
    {
      "cell_type": "code",
      "execution_count": null,
      "metadata": {
        "id": "UtirJsrHJEWp",
        "outputId": "d63914df-6f85-4b12-cd88-3179c53e1e56"
      },
      "outputs": [
        {
          "data": {
            "text/plain": [
              "0      1.0\n",
              "1      0.9\n",
              "2      0.7\n",
              "3      0.7\n",
              "4      1.0\n",
              "      ... \n",
              "150    7.6\n",
              "151    0.9\n",
              "152    0.8\n",
              "153    1.5\n",
              "154    1.2\n",
              "Name: bilirubin, Length: 145, dtype: float64"
            ]
          },
          "execution_count": 30,
          "metadata": {},
          "output_type": "execute_result"
        }
      ],
      "source": [
        "df['bilirubin']=df['bilirubin'].round(2)\n",
        "df['bilirubin']"
      ]
    },
    {
      "cell_type": "code",
      "execution_count": null,
      "metadata": {
        "id": "ubiG-MZRJEWq",
        "outputId": "1bdfe713-040c-4bce-9663-8d7f457b75f4"
      },
      "outputs": [
        {
          "data": {
            "text/plain": [
              "array([1. , 0.9, 0.7, 1.4, 1.3, 2.2, 2. , 1.2, 0.6, 0.4, 0.8, 2.3, 0.5,\n",
              "       0.3, 1.8, 3.5, 4.1, 1.6, 2.8, 1.5, 2.5, 4.6, 3. , 4.8, 2.4, 1.7,\n",
              "       1.1, 3.2, 2.9, 8. , 1.9, 4.2, 7.6])"
            ]
          },
          "execution_count": 31,
          "metadata": {},
          "output_type": "execute_result"
        }
      ],
      "source": [
        "df['bilirubin'].unique()"
      ]
    },
    {
      "cell_type": "code",
      "execution_count": null,
      "metadata": {
        "id": "mh3FsoviJEWr",
        "outputId": "19907dec-02f1-4ee9-984c-6882291ba09e"
      },
      "outputs": [
        {
          "data": {
            "text/html": [
              "<div>\n",
              "<style scoped>\n",
              "    .dataframe tbody tr th:only-of-type {\n",
              "        vertical-align: middle;\n",
              "    }\n",
              "\n",
              "    .dataframe tbody tr th {\n",
              "        vertical-align: top;\n",
              "    }\n",
              "\n",
              "    .dataframe thead th {\n",
              "        text-align: right;\n",
              "    }\n",
              "</style>\n",
              "<table border=\"1\" class=\"dataframe\">\n",
              "  <thead>\n",
              "    <tr style=\"text-align: right;\">\n",
              "      <th></th>\n",
              "      <th>data</th>\n",
              "      <th>stato</th>\n",
              "      <th>codice_regione</th>\n",
              "      <th>denominazione_regione</th>\n",
              "      <th>lat</th>\n",
              "      <th>long</th>\n",
              "      <th>ricoverati_con_sintomi</th>\n",
              "      <th>terapia_intensiva</th>\n",
              "      <th>totale_ospedalizzati</th>\n",
              "      <th>isolamento_domiciliare</th>\n",
              "      <th>totale_positivi</th>\n",
              "      <th>variazione_totale_positivi</th>\n",
              "      <th>nuovi_positivi</th>\n",
              "      <th>dimessi_guariti</th>\n",
              "      <th>deceduti</th>\n",
              "      <th>totale_casi</th>\n",
              "      <th>tamponi</th>\n",
              "    </tr>\n",
              "  </thead>\n",
              "  <tbody>\n",
              "    <tr>\n",
              "      <th>0</th>\n",
              "      <td>2020-02-24T18:00:00</td>\n",
              "      <td>ITA</td>\n",
              "      <td>13</td>\n",
              "      <td>Abruzzo</td>\n",
              "      <td>42.351222</td>\n",
              "      <td>13.398438</td>\n",
              "      <td>0</td>\n",
              "      <td>0</td>\n",
              "      <td>0</td>\n",
              "      <td>0</td>\n",
              "      <td>0</td>\n",
              "      <td>0</td>\n",
              "      <td>0</td>\n",
              "      <td>0</td>\n",
              "      <td>0</td>\n",
              "      <td>0</td>\n",
              "      <td>5</td>\n",
              "    </tr>\n",
              "    <tr>\n",
              "      <th>1</th>\n",
              "      <td>2020-02-24T18:00:00</td>\n",
              "      <td>ITA</td>\n",
              "      <td>17</td>\n",
              "      <td>Basilicata</td>\n",
              "      <td>40.639471</td>\n",
              "      <td>15.805148</td>\n",
              "      <td>0</td>\n",
              "      <td>0</td>\n",
              "      <td>0</td>\n",
              "      <td>0</td>\n",
              "      <td>0</td>\n",
              "      <td>0</td>\n",
              "      <td>0</td>\n",
              "      <td>0</td>\n",
              "      <td>0</td>\n",
              "      <td>0</td>\n",
              "      <td>0</td>\n",
              "    </tr>\n",
              "    <tr>\n",
              "      <th>2</th>\n",
              "      <td>2020-02-24T18:00:00</td>\n",
              "      <td>ITA</td>\n",
              "      <td>18</td>\n",
              "      <td>Calabria</td>\n",
              "      <td>38.905976</td>\n",
              "      <td>16.594402</td>\n",
              "      <td>0</td>\n",
              "      <td>0</td>\n",
              "      <td>0</td>\n",
              "      <td>0</td>\n",
              "      <td>0</td>\n",
              "      <td>0</td>\n",
              "      <td>0</td>\n",
              "      <td>0</td>\n",
              "      <td>0</td>\n",
              "      <td>0</td>\n",
              "      <td>1</td>\n",
              "    </tr>\n",
              "    <tr>\n",
              "      <th>3</th>\n",
              "      <td>2020-02-24T18:00:00</td>\n",
              "      <td>ITA</td>\n",
              "      <td>15</td>\n",
              "      <td>Campania</td>\n",
              "      <td>40.839566</td>\n",
              "      <td>14.250850</td>\n",
              "      <td>0</td>\n",
              "      <td>0</td>\n",
              "      <td>0</td>\n",
              "      <td>0</td>\n",
              "      <td>0</td>\n",
              "      <td>0</td>\n",
              "      <td>0</td>\n",
              "      <td>0</td>\n",
              "      <td>0</td>\n",
              "      <td>0</td>\n",
              "      <td>10</td>\n",
              "    </tr>\n",
              "    <tr>\n",
              "      <th>4</th>\n",
              "      <td>2020-02-24T18:00:00</td>\n",
              "      <td>ITA</td>\n",
              "      <td>8</td>\n",
              "      <td>Emilia-Romagna</td>\n",
              "      <td>44.494367</td>\n",
              "      <td>11.341721</td>\n",
              "      <td>10</td>\n",
              "      <td>2</td>\n",
              "      <td>12</td>\n",
              "      <td>6</td>\n",
              "      <td>18</td>\n",
              "      <td>0</td>\n",
              "      <td>18</td>\n",
              "      <td>0</td>\n",
              "      <td>0</td>\n",
              "      <td>18</td>\n",
              "      <td>148</td>\n",
              "    </tr>\n",
              "    <tr>\n",
              "      <th>5</th>\n",
              "      <td>2020-02-24T18:00:00</td>\n",
              "      <td>ITA</td>\n",
              "      <td>6</td>\n",
              "      <td>Friuli Venezia Giulia</td>\n",
              "      <td>45.649435</td>\n",
              "      <td>13.768136</td>\n",
              "      <td>0</td>\n",
              "      <td>0</td>\n",
              "      <td>0</td>\n",
              "      <td>0</td>\n",
              "      <td>0</td>\n",
              "      <td>0</td>\n",
              "      <td>0</td>\n",
              "      <td>0</td>\n",
              "      <td>0</td>\n",
              "      <td>0</td>\n",
              "      <td>58</td>\n",
              "    </tr>\n",
              "    <tr>\n",
              "      <th>6</th>\n",
              "      <td>2020-02-24T18:00:00</td>\n",
              "      <td>ITA</td>\n",
              "      <td>12</td>\n",
              "      <td>Lazio</td>\n",
              "      <td>41.892770</td>\n",
              "      <td>12.483667</td>\n",
              "      <td>1</td>\n",
              "      <td>1</td>\n",
              "      <td>2</td>\n",
              "      <td>0</td>\n",
              "      <td>2</td>\n",
              "      <td>0</td>\n",
              "      <td>2</td>\n",
              "      <td>1</td>\n",
              "      <td>0</td>\n",
              "      <td>3</td>\n",
              "      <td>124</td>\n",
              "    </tr>\n",
              "    <tr>\n",
              "      <th>7</th>\n",
              "      <td>2020-02-24T18:00:00</td>\n",
              "      <td>ITA</td>\n",
              "      <td>7</td>\n",
              "      <td>Liguria</td>\n",
              "      <td>44.411493</td>\n",
              "      <td>8.932699</td>\n",
              "      <td>0</td>\n",
              "      <td>0</td>\n",
              "      <td>0</td>\n",
              "      <td>0</td>\n",
              "      <td>0</td>\n",
              "      <td>0</td>\n",
              "      <td>0</td>\n",
              "      <td>0</td>\n",
              "      <td>0</td>\n",
              "      <td>0</td>\n",
              "      <td>1</td>\n",
              "    </tr>\n",
              "    <tr>\n",
              "      <th>8</th>\n",
              "      <td>2020-02-24T18:00:00</td>\n",
              "      <td>ITA</td>\n",
              "      <td>3</td>\n",
              "      <td>Lombardia</td>\n",
              "      <td>45.466794</td>\n",
              "      <td>9.190347</td>\n",
              "      <td>76</td>\n",
              "      <td>19</td>\n",
              "      <td>95</td>\n",
              "      <td>71</td>\n",
              "      <td>166</td>\n",
              "      <td>0</td>\n",
              "      <td>166</td>\n",
              "      <td>0</td>\n",
              "      <td>6</td>\n",
              "      <td>172</td>\n",
              "      <td>1463</td>\n",
              "    </tr>\n",
              "    <tr>\n",
              "      <th>9</th>\n",
              "      <td>2020-02-24T18:00:00</td>\n",
              "      <td>ITA</td>\n",
              "      <td>11</td>\n",
              "      <td>Marche</td>\n",
              "      <td>43.616760</td>\n",
              "      <td>13.518875</td>\n",
              "      <td>0</td>\n",
              "      <td>0</td>\n",
              "      <td>0</td>\n",
              "      <td>0</td>\n",
              "      <td>0</td>\n",
              "      <td>0</td>\n",
              "      <td>0</td>\n",
              "      <td>0</td>\n",
              "      <td>0</td>\n",
              "      <td>0</td>\n",
              "      <td>16</td>\n",
              "    </tr>\n",
              "  </tbody>\n",
              "</table>\n",
              "</div>"
            ],
            "text/plain": [
              "                  data stato  codice_regione  denominazione_regione  \\\n",
              "0  2020-02-24T18:00:00   ITA              13                Abruzzo   \n",
              "1  2020-02-24T18:00:00   ITA              17             Basilicata   \n",
              "2  2020-02-24T18:00:00   ITA              18               Calabria   \n",
              "3  2020-02-24T18:00:00   ITA              15               Campania   \n",
              "4  2020-02-24T18:00:00   ITA               8         Emilia-Romagna   \n",
              "5  2020-02-24T18:00:00   ITA               6  Friuli Venezia Giulia   \n",
              "6  2020-02-24T18:00:00   ITA              12                  Lazio   \n",
              "7  2020-02-24T18:00:00   ITA               7                Liguria   \n",
              "8  2020-02-24T18:00:00   ITA               3              Lombardia   \n",
              "9  2020-02-24T18:00:00   ITA              11                 Marche   \n",
              "\n",
              "         lat       long  ricoverati_con_sintomi  terapia_intensiva  \\\n",
              "0  42.351222  13.398438                       0                  0   \n",
              "1  40.639471  15.805148                       0                  0   \n",
              "2  38.905976  16.594402                       0                  0   \n",
              "3  40.839566  14.250850                       0                  0   \n",
              "4  44.494367  11.341721                      10                  2   \n",
              "5  45.649435  13.768136                       0                  0   \n",
              "6  41.892770  12.483667                       1                  1   \n",
              "7  44.411493   8.932699                       0                  0   \n",
              "8  45.466794   9.190347                      76                 19   \n",
              "9  43.616760  13.518875                       0                  0   \n",
              "\n",
              "   totale_ospedalizzati  isolamento_domiciliare  totale_positivi  \\\n",
              "0                     0                       0                0   \n",
              "1                     0                       0                0   \n",
              "2                     0                       0                0   \n",
              "3                     0                       0                0   \n",
              "4                    12                       6               18   \n",
              "5                     0                       0                0   \n",
              "6                     2                       0                2   \n",
              "7                     0                       0                0   \n",
              "8                    95                      71              166   \n",
              "9                     0                       0                0   \n",
              "\n",
              "   variazione_totale_positivi  nuovi_positivi  dimessi_guariti  deceduti  \\\n",
              "0                           0               0                0         0   \n",
              "1                           0               0                0         0   \n",
              "2                           0               0                0         0   \n",
              "3                           0               0                0         0   \n",
              "4                           0              18                0         0   \n",
              "5                           0               0                0         0   \n",
              "6                           0               2                1         0   \n",
              "7                           0               0                0         0   \n",
              "8                           0             166                0         6   \n",
              "9                           0               0                0         0   \n",
              "\n",
              "   totale_casi  tamponi  \n",
              "0            0        5  \n",
              "1            0        0  \n",
              "2            0        1  \n",
              "3            0       10  \n",
              "4           18      148  \n",
              "5            0       58  \n",
              "6            3      124  \n",
              "7            0        1  \n",
              "8          172     1463  \n",
              "9            0       16  "
            ]
          },
          "execution_count": 32,
          "metadata": {},
          "output_type": "execute_result"
        }
      ],
      "source": [
        "import pandas as pd\n",
        "df = pd.read_csv('https://raw.githubusercontent.com/pcm-dpc/COVID-19/master/dati-regioni/dpc-covid19-ita-regioni.csv')\n",
        "df.dropna(axis=1,inplace=True)\n",
        "df.head(10)"
      ]
    },
    {
      "cell_type": "code",
      "execution_count": null,
      "metadata": {
        "id": "cu5vgk_LJEWs"
      },
      "outputs": [],
      "source": [
        "df['lat']=df['lat']/df['lat'].max()"
      ]
    },
    {
      "cell_type": "code",
      "execution_count": null,
      "metadata": {
        "id": "ZQBf7FFTJEWs",
        "outputId": "63fda9ae-5948-4618-9c46-d0f2d67696a4"
      },
      "outputs": [
        {
          "data": {
            "text/html": [
              "<div>\n",
              "<style scoped>\n",
              "    .dataframe tbody tr th:only-of-type {\n",
              "        vertical-align: middle;\n",
              "    }\n",
              "\n",
              "    .dataframe tbody tr th {\n",
              "        vertical-align: top;\n",
              "    }\n",
              "\n",
              "    .dataframe thead th {\n",
              "        text-align: right;\n",
              "    }\n",
              "</style>\n",
              "<table border=\"1\" class=\"dataframe\">\n",
              "  <thead>\n",
              "    <tr style=\"text-align: right;\">\n",
              "      <th></th>\n",
              "      <th>data</th>\n",
              "      <th>stato</th>\n",
              "      <th>codice_regione</th>\n",
              "      <th>denominazione_regione</th>\n",
              "      <th>lat</th>\n",
              "      <th>long</th>\n",
              "      <th>ricoverati_con_sintomi</th>\n",
              "      <th>terapia_intensiva</th>\n",
              "      <th>totale_ospedalizzati</th>\n",
              "      <th>isolamento_domiciliare</th>\n",
              "      <th>totale_positivi</th>\n",
              "      <th>variazione_totale_positivi</th>\n",
              "      <th>nuovi_positivi</th>\n",
              "      <th>dimessi_guariti</th>\n",
              "      <th>deceduti</th>\n",
              "      <th>totale_casi</th>\n",
              "      <th>tamponi</th>\n",
              "    </tr>\n",
              "  </thead>\n",
              "  <tbody>\n",
              "    <tr>\n",
              "      <th>0</th>\n",
              "      <td>2020-02-24T18:00:00</td>\n",
              "      <td>ITA</td>\n",
              "      <td>13</td>\n",
              "      <td>Abruzzo</td>\n",
              "      <td>0.910792</td>\n",
              "      <td>13.398438</td>\n",
              "      <td>0</td>\n",
              "      <td>0</td>\n",
              "      <td>0</td>\n",
              "      <td>0</td>\n",
              "      <td>0</td>\n",
              "      <td>0</td>\n",
              "      <td>0</td>\n",
              "      <td>0</td>\n",
              "      <td>0</td>\n",
              "      <td>0</td>\n",
              "      <td>5</td>\n",
              "    </tr>\n",
              "    <tr>\n",
              "      <th>1</th>\n",
              "      <td>2020-02-24T18:00:00</td>\n",
              "      <td>ITA</td>\n",
              "      <td>17</td>\n",
              "      <td>Basilicata</td>\n",
              "      <td>0.873980</td>\n",
              "      <td>15.805148</td>\n",
              "      <td>0</td>\n",
              "      <td>0</td>\n",
              "      <td>0</td>\n",
              "      <td>0</td>\n",
              "      <td>0</td>\n",
              "      <td>0</td>\n",
              "      <td>0</td>\n",
              "      <td>0</td>\n",
              "      <td>0</td>\n",
              "      <td>0</td>\n",
              "      <td>0</td>\n",
              "    </tr>\n",
              "    <tr>\n",
              "      <th>2</th>\n",
              "      <td>2020-02-24T18:00:00</td>\n",
              "      <td>ITA</td>\n",
              "      <td>18</td>\n",
              "      <td>Calabria</td>\n",
              "      <td>0.836700</td>\n",
              "      <td>16.594402</td>\n",
              "      <td>0</td>\n",
              "      <td>0</td>\n",
              "      <td>0</td>\n",
              "      <td>0</td>\n",
              "      <td>0</td>\n",
              "      <td>0</td>\n",
              "      <td>0</td>\n",
              "      <td>0</td>\n",
              "      <td>0</td>\n",
              "      <td>0</td>\n",
              "      <td>1</td>\n",
              "    </tr>\n",
              "    <tr>\n",
              "      <th>3</th>\n",
              "      <td>2020-02-24T18:00:00</td>\n",
              "      <td>ITA</td>\n",
              "      <td>15</td>\n",
              "      <td>Campania</td>\n",
              "      <td>0.878283</td>\n",
              "      <td>14.250850</td>\n",
              "      <td>0</td>\n",
              "      <td>0</td>\n",
              "      <td>0</td>\n",
              "      <td>0</td>\n",
              "      <td>0</td>\n",
              "      <td>0</td>\n",
              "      <td>0</td>\n",
              "      <td>0</td>\n",
              "      <td>0</td>\n",
              "      <td>0</td>\n",
              "      <td>10</td>\n",
              "    </tr>\n",
              "    <tr>\n",
              "      <th>4</th>\n",
              "      <td>2020-02-24T18:00:00</td>\n",
              "      <td>ITA</td>\n",
              "      <td>8</td>\n",
              "      <td>Emilia-Romagna</td>\n",
              "      <td>0.956882</td>\n",
              "      <td>11.341721</td>\n",
              "      <td>10</td>\n",
              "      <td>2</td>\n",
              "      <td>12</td>\n",
              "      <td>6</td>\n",
              "      <td>18</td>\n",
              "      <td>0</td>\n",
              "      <td>18</td>\n",
              "      <td>0</td>\n",
              "      <td>0</td>\n",
              "      <td>18</td>\n",
              "      <td>148</td>\n",
              "    </tr>\n",
              "  </tbody>\n",
              "</table>\n",
              "</div>"
            ],
            "text/plain": [
              "                  data stato  codice_regione denominazione_regione       lat  \\\n",
              "0  2020-02-24T18:00:00   ITA              13               Abruzzo  0.910792   \n",
              "1  2020-02-24T18:00:00   ITA              17            Basilicata  0.873980   \n",
              "2  2020-02-24T18:00:00   ITA              18              Calabria  0.836700   \n",
              "3  2020-02-24T18:00:00   ITA              15              Campania  0.878283   \n",
              "4  2020-02-24T18:00:00   ITA               8        Emilia-Romagna  0.956882   \n",
              "\n",
              "        long  ricoverati_con_sintomi  terapia_intensiva  totale_ospedalizzati  \\\n",
              "0  13.398438                       0                  0                     0   \n",
              "1  15.805148                       0                  0                     0   \n",
              "2  16.594402                       0                  0                     0   \n",
              "3  14.250850                       0                  0                     0   \n",
              "4  11.341721                      10                  2                    12   \n",
              "\n",
              "   isolamento_domiciliare  totale_positivi  variazione_totale_positivi  \\\n",
              "0                       0                0                           0   \n",
              "1                       0                0                           0   \n",
              "2                       0                0                           0   \n",
              "3                       0                0                           0   \n",
              "4                       6               18                           0   \n",
              "\n",
              "   nuovi_positivi  dimessi_guariti  deceduti  totale_casi  tamponi  \n",
              "0               0                0         0            0        5  \n",
              "1               0                0         0            0        0  \n",
              "2               0                0         0            0        1  \n",
              "3               0                0         0            0       10  \n",
              "4              18                0         0           18      148  "
            ]
          },
          "execution_count": 35,
          "metadata": {},
          "output_type": "execute_result"
        }
      ],
      "source": [
        "df.head()"
      ]
    },
    {
      "cell_type": "code",
      "execution_count": null,
      "metadata": {
        "id": "lSZ3jnoWJEWt"
      },
      "outputs": [],
      "source": [
        "df['lat']=(df['lat']-df['lat'].min())/(df['lat'].max()-df['lat'].min())"
      ]
    },
    {
      "cell_type": "code",
      "execution_count": null,
      "metadata": {
        "id": "jg1q7lwDJEWu",
        "outputId": "6642f557-3146-4c9c-d2e2-7044250a3c38"
      },
      "outputs": [
        {
          "data": {
            "text/plain": [
              "0        0.505213\n",
              "1        0.301036\n",
              "2        0.094264\n",
              "3        0.324903\n",
              "4        0.760848\n",
              "           ...   \n",
              "16312    0.000000\n",
              "16313    0.674353\n",
              "16314    0.595334\n",
              "16315    0.909129\n",
              "16316    0.873035\n",
              "Name: lat, Length: 16317, dtype: float64"
            ]
          },
          "execution_count": 41,
          "metadata": {},
          "output_type": "execute_result"
        }
      ],
      "source": [
        "df['lat']"
      ]
    },
    {
      "cell_type": "code",
      "execution_count": null,
      "metadata": {
        "id": "l8Ex5agJJEWu",
        "outputId": "763137d6-c65f-41b6-f696-49def0e81a02"
      },
      "outputs": [
        {
          "data": {
            "text/html": [
              "<div>\n",
              "<style scoped>\n",
              "    .dataframe tbody tr th:only-of-type {\n",
              "        vertical-align: middle;\n",
              "    }\n",
              "\n",
              "    .dataframe tbody tr th {\n",
              "        vertical-align: top;\n",
              "    }\n",
              "\n",
              "    .dataframe thead th {\n",
              "        text-align: right;\n",
              "    }\n",
              "</style>\n",
              "<table border=\"1\" class=\"dataframe\">\n",
              "  <thead>\n",
              "    <tr style=\"text-align: right;\">\n",
              "      <th></th>\n",
              "      <th>age</th>\n",
              "      <th>sex</th>\n",
              "      <th>steroid</th>\n",
              "      <th>antivirals</th>\n",
              "      <th>fatigue</th>\n",
              "      <th>malaise</th>\n",
              "      <th>anorexia</th>\n",
              "      <th>liver_big</th>\n",
              "      <th>liver_firm</th>\n",
              "      <th>spleen_palpable</th>\n",
              "      <th>spiders</th>\n",
              "      <th>ascites</th>\n",
              "      <th>varices</th>\n",
              "      <th>bilirubin</th>\n",
              "      <th>alk_phosphate</th>\n",
              "      <th>sgot</th>\n",
              "      <th>albumin</th>\n",
              "      <th>protime</th>\n",
              "      <th>histology</th>\n",
              "      <th>class</th>\n",
              "    </tr>\n",
              "  </thead>\n",
              "  <tbody>\n",
              "    <tr>\n",
              "      <th>0</th>\n",
              "      <td>30</td>\n",
              "      <td>male</td>\n",
              "      <td>False</td>\n",
              "      <td>False</td>\n",
              "      <td>False</td>\n",
              "      <td>False</td>\n",
              "      <td>False</td>\n",
              "      <td>False</td>\n",
              "      <td>False</td>\n",
              "      <td>False</td>\n",
              "      <td>False</td>\n",
              "      <td>False</td>\n",
              "      <td>False</td>\n",
              "      <td>1.0</td>\n",
              "      <td>85.0</td>\n",
              "      <td>18.0</td>\n",
              "      <td>4.0</td>\n",
              "      <td>NaN</td>\n",
              "      <td>False</td>\n",
              "      <td>live</td>\n",
              "    </tr>\n",
              "    <tr>\n",
              "      <th>1</th>\n",
              "      <td>50</td>\n",
              "      <td>female</td>\n",
              "      <td>False</td>\n",
              "      <td>False</td>\n",
              "      <td>True</td>\n",
              "      <td>False</td>\n",
              "      <td>False</td>\n",
              "      <td>False</td>\n",
              "      <td>False</td>\n",
              "      <td>False</td>\n",
              "      <td>False</td>\n",
              "      <td>False</td>\n",
              "      <td>False</td>\n",
              "      <td>0.9</td>\n",
              "      <td>135.0</td>\n",
              "      <td>42.0</td>\n",
              "      <td>3.5</td>\n",
              "      <td>NaN</td>\n",
              "      <td>False</td>\n",
              "      <td>live</td>\n",
              "    </tr>\n",
              "    <tr>\n",
              "      <th>2</th>\n",
              "      <td>78</td>\n",
              "      <td>female</td>\n",
              "      <td>True</td>\n",
              "      <td>False</td>\n",
              "      <td>True</td>\n",
              "      <td>False</td>\n",
              "      <td>False</td>\n",
              "      <td>True</td>\n",
              "      <td>False</td>\n",
              "      <td>False</td>\n",
              "      <td>False</td>\n",
              "      <td>False</td>\n",
              "      <td>False</td>\n",
              "      <td>0.7</td>\n",
              "      <td>96.0</td>\n",
              "      <td>32.0</td>\n",
              "      <td>4.0</td>\n",
              "      <td>NaN</td>\n",
              "      <td>False</td>\n",
              "      <td>live</td>\n",
              "    </tr>\n",
              "    <tr>\n",
              "      <th>3</th>\n",
              "      <td>31</td>\n",
              "      <td>female</td>\n",
              "      <td>NaN</td>\n",
              "      <td>True</td>\n",
              "      <td>False</td>\n",
              "      <td>False</td>\n",
              "      <td>False</td>\n",
              "      <td>True</td>\n",
              "      <td>False</td>\n",
              "      <td>False</td>\n",
              "      <td>False</td>\n",
              "      <td>False</td>\n",
              "      <td>False</td>\n",
              "      <td>0.7</td>\n",
              "      <td>46.0</td>\n",
              "      <td>52.0</td>\n",
              "      <td>4.0</td>\n",
              "      <td>80.0</td>\n",
              "      <td>False</td>\n",
              "      <td>live</td>\n",
              "    </tr>\n",
              "    <tr>\n",
              "      <th>4</th>\n",
              "      <td>34</td>\n",
              "      <td>female</td>\n",
              "      <td>True</td>\n",
              "      <td>False</td>\n",
              "      <td>False</td>\n",
              "      <td>False</td>\n",
              "      <td>False</td>\n",
              "      <td>True</td>\n",
              "      <td>False</td>\n",
              "      <td>False</td>\n",
              "      <td>False</td>\n",
              "      <td>False</td>\n",
              "      <td>False</td>\n",
              "      <td>1.0</td>\n",
              "      <td>NaN</td>\n",
              "      <td>200.0</td>\n",
              "      <td>4.0</td>\n",
              "      <td>NaN</td>\n",
              "      <td>False</td>\n",
              "      <td>live</td>\n",
              "    </tr>\n",
              "    <tr>\n",
              "      <th>5</th>\n",
              "      <td>34</td>\n",
              "      <td>female</td>\n",
              "      <td>True</td>\n",
              "      <td>False</td>\n",
              "      <td>False</td>\n",
              "      <td>False</td>\n",
              "      <td>False</td>\n",
              "      <td>True</td>\n",
              "      <td>False</td>\n",
              "      <td>False</td>\n",
              "      <td>False</td>\n",
              "      <td>False</td>\n",
              "      <td>False</td>\n",
              "      <td>0.9</td>\n",
              "      <td>95.0</td>\n",
              "      <td>28.0</td>\n",
              "      <td>4.0</td>\n",
              "      <td>75.0</td>\n",
              "      <td>False</td>\n",
              "      <td>live</td>\n",
              "    </tr>\n",
              "    <tr>\n",
              "      <th>6</th>\n",
              "      <td>51</td>\n",
              "      <td>female</td>\n",
              "      <td>False</td>\n",
              "      <td>False</td>\n",
              "      <td>True</td>\n",
              "      <td>False</td>\n",
              "      <td>True</td>\n",
              "      <td>True</td>\n",
              "      <td>False</td>\n",
              "      <td>True</td>\n",
              "      <td>True</td>\n",
              "      <td>False</td>\n",
              "      <td>False</td>\n",
              "      <td>NaN</td>\n",
              "      <td>NaN</td>\n",
              "      <td>NaN</td>\n",
              "      <td>NaN</td>\n",
              "      <td>NaN</td>\n",
              "      <td>False</td>\n",
              "      <td>die</td>\n",
              "    </tr>\n",
              "    <tr>\n",
              "      <th>7</th>\n",
              "      <td>23</td>\n",
              "      <td>female</td>\n",
              "      <td>True</td>\n",
              "      <td>False</td>\n",
              "      <td>False</td>\n",
              "      <td>False</td>\n",
              "      <td>False</td>\n",
              "      <td>True</td>\n",
              "      <td>False</td>\n",
              "      <td>False</td>\n",
              "      <td>False</td>\n",
              "      <td>False</td>\n",
              "      <td>False</td>\n",
              "      <td>1.0</td>\n",
              "      <td>NaN</td>\n",
              "      <td>NaN</td>\n",
              "      <td>NaN</td>\n",
              "      <td>NaN</td>\n",
              "      <td>False</td>\n",
              "      <td>live</td>\n",
              "    </tr>\n",
              "    <tr>\n",
              "      <th>8</th>\n",
              "      <td>39</td>\n",
              "      <td>female</td>\n",
              "      <td>True</td>\n",
              "      <td>False</td>\n",
              "      <td>True</td>\n",
              "      <td>False</td>\n",
              "      <td>False</td>\n",
              "      <td>True</td>\n",
              "      <td>True</td>\n",
              "      <td>False</td>\n",
              "      <td>False</td>\n",
              "      <td>False</td>\n",
              "      <td>False</td>\n",
              "      <td>0.7</td>\n",
              "      <td>NaN</td>\n",
              "      <td>48.0</td>\n",
              "      <td>4.4</td>\n",
              "      <td>NaN</td>\n",
              "      <td>False</td>\n",
              "      <td>live</td>\n",
              "    </tr>\n",
              "    <tr>\n",
              "      <th>9</th>\n",
              "      <td>30</td>\n",
              "      <td>female</td>\n",
              "      <td>True</td>\n",
              "      <td>False</td>\n",
              "      <td>False</td>\n",
              "      <td>False</td>\n",
              "      <td>False</td>\n",
              "      <td>True</td>\n",
              "      <td>False</td>\n",
              "      <td>False</td>\n",
              "      <td>False</td>\n",
              "      <td>False</td>\n",
              "      <td>False</td>\n",
              "      <td>1.0</td>\n",
              "      <td>NaN</td>\n",
              "      <td>120.0</td>\n",
              "      <td>3.9</td>\n",
              "      <td>NaN</td>\n",
              "      <td>False</td>\n",
              "      <td>live</td>\n",
              "    </tr>\n",
              "  </tbody>\n",
              "</table>\n",
              "</div>"
            ],
            "text/plain": [
              "   age     sex steroid  antivirals fatigue malaise anorexia liver_big  \\\n",
              "0   30    male   False       False   False   False    False     False   \n",
              "1   50  female   False       False    True   False    False     False   \n",
              "2   78  female    True       False    True   False    False      True   \n",
              "3   31  female     NaN        True   False   False    False      True   \n",
              "4   34  female    True       False   False   False    False      True   \n",
              "5   34  female    True       False   False   False    False      True   \n",
              "6   51  female   False       False    True   False     True      True   \n",
              "7   23  female    True       False   False   False    False      True   \n",
              "8   39  female    True       False    True   False    False      True   \n",
              "9   30  female    True       False   False   False    False      True   \n",
              "\n",
              "  liver_firm spleen_palpable spiders ascites varices  bilirubin  \\\n",
              "0      False           False   False   False   False        1.0   \n",
              "1      False           False   False   False   False        0.9   \n",
              "2      False           False   False   False   False        0.7   \n",
              "3      False           False   False   False   False        0.7   \n",
              "4      False           False   False   False   False        1.0   \n",
              "5      False           False   False   False   False        0.9   \n",
              "6      False            True    True   False   False        NaN   \n",
              "7      False           False   False   False   False        1.0   \n",
              "8       True           False   False   False   False        0.7   \n",
              "9      False           False   False   False   False        1.0   \n",
              "\n",
              "   alk_phosphate   sgot  albumin  protime  histology class  \n",
              "0           85.0   18.0      4.0      NaN      False  live  \n",
              "1          135.0   42.0      3.5      NaN      False  live  \n",
              "2           96.0   32.0      4.0      NaN      False  live  \n",
              "3           46.0   52.0      4.0     80.0      False  live  \n",
              "4            NaN  200.0      4.0      NaN      False  live  \n",
              "5           95.0   28.0      4.0     75.0      False  live  \n",
              "6            NaN    NaN      NaN      NaN      False   die  \n",
              "7            NaN    NaN      NaN      NaN      False  live  \n",
              "8            NaN   48.0      4.4      NaN      False  live  \n",
              "9            NaN  120.0      3.9      NaN      False  live  "
            ]
          },
          "execution_count": 45,
          "metadata": {},
          "output_type": "execute_result"
        }
      ],
      "source": [
        "import pandas as pd\n",
        "df = pd.read_csv('hepatitis_csv.csv')\n",
        "df.head(10)"
      ]
    },
    {
      "cell_type": "code",
      "execution_count": null,
      "metadata": {
        "id": "kph7-4gVJEWv",
        "outputId": "5d471d84-3e7c-4c10-b78c-63060c099802"
      },
      "outputs": [
        {
          "data": {
            "text/plain": [
              "age                  int64\n",
              "sex                 object\n",
              "steroid             object\n",
              "antivirals            bool\n",
              "fatigue             object\n",
              "malaise             object\n",
              "anorexia            object\n",
              "liver_big           object\n",
              "liver_firm          object\n",
              "spleen_palpable     object\n",
              "spiders             object\n",
              "ascites             object\n",
              "varices             object\n",
              "bilirubin          float64\n",
              "alk_phosphate      float64\n",
              "sgot               float64\n",
              "albumin            float64\n",
              "protime            float64\n",
              "histology             bool\n",
              "class               object\n",
              "dtype: object"
            ]
          },
          "execution_count": 46,
          "metadata": {},
          "output_type": "execute_result"
        }
      ],
      "source": [
        "df.dtypes\n"
      ]
    },
    {
      "cell_type": "code",
      "execution_count": null,
      "metadata": {
        "id": "M9CqC1PKJEWw",
        "outputId": "f3b9280b-726e-4fb6-b70d-eb14c17a06d0"
      },
      "outputs": [
        {
          "data": {
            "text/html": [
              "<div>\n",
              "<style scoped>\n",
              "    .dataframe tbody tr th:only-of-type {\n",
              "        vertical-align: middle;\n",
              "    }\n",
              "\n",
              "    .dataframe tbody tr th {\n",
              "        vertical-align: top;\n",
              "    }\n",
              "\n",
              "    .dataframe thead th {\n",
              "        text-align: right;\n",
              "    }\n",
              "</style>\n",
              "<table border=\"1\" class=\"dataframe\">\n",
              "  <thead>\n",
              "    <tr style=\"text-align: right;\">\n",
              "      <th></th>\n",
              "      <th>age</th>\n",
              "      <th>sex</th>\n",
              "      <th>steroid</th>\n",
              "      <th>antivirals</th>\n",
              "      <th>fatigue</th>\n",
              "      <th>malaise</th>\n",
              "      <th>anorexia</th>\n",
              "      <th>liver_big</th>\n",
              "      <th>liver_firm</th>\n",
              "      <th>spleen_palpable</th>\n",
              "      <th>spiders</th>\n",
              "      <th>ascites</th>\n",
              "      <th>varices</th>\n",
              "      <th>bilirubin</th>\n",
              "      <th>alk_phosphate</th>\n",
              "      <th>sgot</th>\n",
              "      <th>albumin</th>\n",
              "      <th>protime</th>\n",
              "      <th>histology</th>\n",
              "      <th>class</th>\n",
              "    </tr>\n",
              "  </thead>\n",
              "  <tbody>\n",
              "    <tr>\n",
              "      <th>0</th>\n",
              "      <td>30</td>\n",
              "      <td>male</td>\n",
              "      <td>False</td>\n",
              "      <td>False</td>\n",
              "      <td>False</td>\n",
              "      <td>false</td>\n",
              "      <td>False</td>\n",
              "      <td>False</td>\n",
              "      <td>False</td>\n",
              "      <td>False</td>\n",
              "      <td>False</td>\n",
              "      <td>False</td>\n",
              "      <td>False</td>\n",
              "      <td>1.0</td>\n",
              "      <td>85.0</td>\n",
              "      <td>18.0</td>\n",
              "      <td>4.0</td>\n",
              "      <td>NaN</td>\n",
              "      <td>False</td>\n",
              "      <td>live</td>\n",
              "    </tr>\n",
              "    <tr>\n",
              "      <th>1</th>\n",
              "      <td>50</td>\n",
              "      <td>female</td>\n",
              "      <td>False</td>\n",
              "      <td>False</td>\n",
              "      <td>True</td>\n",
              "      <td>false</td>\n",
              "      <td>False</td>\n",
              "      <td>False</td>\n",
              "      <td>False</td>\n",
              "      <td>False</td>\n",
              "      <td>False</td>\n",
              "      <td>False</td>\n",
              "      <td>False</td>\n",
              "      <td>0.9</td>\n",
              "      <td>135.0</td>\n",
              "      <td>42.0</td>\n",
              "      <td>3.5</td>\n",
              "      <td>NaN</td>\n",
              "      <td>False</td>\n",
              "      <td>live</td>\n",
              "    </tr>\n",
              "    <tr>\n",
              "      <th>2</th>\n",
              "      <td>78</td>\n",
              "      <td>female</td>\n",
              "      <td>True</td>\n",
              "      <td>False</td>\n",
              "      <td>True</td>\n",
              "      <td>false</td>\n",
              "      <td>False</td>\n",
              "      <td>True</td>\n",
              "      <td>False</td>\n",
              "      <td>False</td>\n",
              "      <td>False</td>\n",
              "      <td>False</td>\n",
              "      <td>False</td>\n",
              "      <td>0.7</td>\n",
              "      <td>96.0</td>\n",
              "      <td>32.0</td>\n",
              "      <td>4.0</td>\n",
              "      <td>NaN</td>\n",
              "      <td>False</td>\n",
              "      <td>live</td>\n",
              "    </tr>\n",
              "    <tr>\n",
              "      <th>3</th>\n",
              "      <td>31</td>\n",
              "      <td>female</td>\n",
              "      <td>NaN</td>\n",
              "      <td>True</td>\n",
              "      <td>False</td>\n",
              "      <td>false</td>\n",
              "      <td>False</td>\n",
              "      <td>True</td>\n",
              "      <td>False</td>\n",
              "      <td>False</td>\n",
              "      <td>False</td>\n",
              "      <td>False</td>\n",
              "      <td>False</td>\n",
              "      <td>0.7</td>\n",
              "      <td>46.0</td>\n",
              "      <td>52.0</td>\n",
              "      <td>4.0</td>\n",
              "      <td>80.0</td>\n",
              "      <td>False</td>\n",
              "      <td>live</td>\n",
              "    </tr>\n",
              "    <tr>\n",
              "      <th>4</th>\n",
              "      <td>34</td>\n",
              "      <td>female</td>\n",
              "      <td>True</td>\n",
              "      <td>False</td>\n",
              "      <td>False</td>\n",
              "      <td>false</td>\n",
              "      <td>False</td>\n",
              "      <td>True</td>\n",
              "      <td>False</td>\n",
              "      <td>False</td>\n",
              "      <td>False</td>\n",
              "      <td>False</td>\n",
              "      <td>False</td>\n",
              "      <td>1.0</td>\n",
              "      <td>NaN</td>\n",
              "      <td>200.0</td>\n",
              "      <td>4.0</td>\n",
              "      <td>NaN</td>\n",
              "      <td>False</td>\n",
              "      <td>live</td>\n",
              "    </tr>\n",
              "  </tbody>\n",
              "</table>\n",
              "</div>"
            ],
            "text/plain": [
              "   age     sex steroid  antivirals fatigue malaise anorexia liver_big  \\\n",
              "0   30    male   False       False   False   false    False     False   \n",
              "1   50  female   False       False    True   false    False     False   \n",
              "2   78  female    True       False    True   false    False      True   \n",
              "3   31  female     NaN        True   False   false    False      True   \n",
              "4   34  female    True       False   False   false    False      True   \n",
              "\n",
              "  liver_firm spleen_palpable spiders ascites varices  bilirubin  \\\n",
              "0      False           False   False   False   False        1.0   \n",
              "1      False           False   False   False   False        0.9   \n",
              "2      False           False   False   False   False        0.7   \n",
              "3      False           False   False   False   False        0.7   \n",
              "4      False           False   False   False   False        1.0   \n",
              "\n",
              "   alk_phosphate   sgot  albumin  protime  histology class  \n",
              "0           85.0   18.0      4.0      NaN      False  live  \n",
              "1          135.0   42.0      3.5      NaN      False  live  \n",
              "2           96.0   32.0      4.0      NaN      False  live  \n",
              "3           46.0   52.0      4.0     80.0      False  live  \n",
              "4            NaN  200.0      4.0      NaN      False  live  "
            ]
          },
          "execution_count": 57,
          "metadata": {},
          "output_type": "execute_result"
        }
      ],
      "source": [
        "df['malaise']=df['malaise'].astype('string').str.lower()\n",
        "df.head()"
      ]
    },
    {
      "cell_type": "code",
      "execution_count": null,
      "metadata": {
        "id": "fw3gELc1JEWx",
        "outputId": "6ed08bc2-5619-4d8b-b5a5-a42689fca79d"
      },
      "outputs": [
        {
          "data": {
            "text/plain": [
              "StringDtype"
            ]
          },
          "execution_count": 56,
          "metadata": {},
          "output_type": "execute_result"
        }
      ],
      "source": [
        "df['malaise'].dtype"
      ]
    },
    {
      "cell_type": "code",
      "execution_count": null,
      "metadata": {
        "id": "8KbKEvKcJEWz",
        "outputId": "0d65ec3b-3a58-4170-eee7-a6999a3ee866"
      },
      "outputs": [
        {
          "data": {
            "text/html": [
              "<div>\n",
              "<style scoped>\n",
              "    .dataframe tbody tr th:only-of-type {\n",
              "        vertical-align: middle;\n",
              "    }\n",
              "\n",
              "    .dataframe tbody tr th {\n",
              "        vertical-align: top;\n",
              "    }\n",
              "\n",
              "    .dataframe thead th {\n",
              "        text-align: right;\n",
              "    }\n",
              "</style>\n",
              "<table border=\"1\" class=\"dataframe\">\n",
              "  <thead>\n",
              "    <tr style=\"text-align: right;\">\n",
              "      <th></th>\n",
              "      <th>age</th>\n",
              "      <th>sex</th>\n",
              "      <th>steroid</th>\n",
              "      <th>antivirals</th>\n",
              "      <th>fatigue</th>\n",
              "      <th>malaise</th>\n",
              "      <th>anorexia</th>\n",
              "      <th>liver_big</th>\n",
              "      <th>liver_firm</th>\n",
              "      <th>spleen_palpable</th>\n",
              "      <th>spiders</th>\n",
              "      <th>ascites</th>\n",
              "      <th>varices</th>\n",
              "      <th>bilirubin</th>\n",
              "      <th>alk_phosphate</th>\n",
              "      <th>sgot</th>\n",
              "      <th>albumin</th>\n",
              "      <th>protime</th>\n",
              "      <th>histology</th>\n",
              "      <th>class</th>\n",
              "    </tr>\n",
              "  </thead>\n",
              "  <tbody>\n",
              "    <tr>\n",
              "      <th>0</th>\n",
              "      <td>30</td>\n",
              "      <td>male</td>\n",
              "      <td>False</td>\n",
              "      <td>False</td>\n",
              "      <td>False</td>\n",
              "      <td>false</td>\n",
              "      <td>False</td>\n",
              "      <td>False</td>\n",
              "      <td>False</td>\n",
              "      <td>False</td>\n",
              "      <td>False</td>\n",
              "      <td>False</td>\n",
              "      <td>False</td>\n",
              "      <td>1.0</td>\n",
              "      <td>85.0</td>\n",
              "      <td>18.0</td>\n",
              "      <td>4.0</td>\n",
              "      <td>NaN</td>\n",
              "      <td>False</td>\n",
              "      <td>live</td>\n",
              "    </tr>\n",
              "    <tr>\n",
              "      <th>1</th>\n",
              "      <td>50</td>\n",
              "      <td>female</td>\n",
              "      <td>False</td>\n",
              "      <td>False</td>\n",
              "      <td>True</td>\n",
              "      <td>false</td>\n",
              "      <td>False</td>\n",
              "      <td>False</td>\n",
              "      <td>False</td>\n",
              "      <td>False</td>\n",
              "      <td>False</td>\n",
              "      <td>False</td>\n",
              "      <td>False</td>\n",
              "      <td>0.9</td>\n",
              "      <td>135.0</td>\n",
              "      <td>42.0</td>\n",
              "      <td>3.5</td>\n",
              "      <td>NaN</td>\n",
              "      <td>False</td>\n",
              "      <td>live</td>\n",
              "    </tr>\n",
              "    <tr>\n",
              "      <th>2</th>\n",
              "      <td>78</td>\n",
              "      <td>female</td>\n",
              "      <td>True</td>\n",
              "      <td>False</td>\n",
              "      <td>True</td>\n",
              "      <td>false</td>\n",
              "      <td>False</td>\n",
              "      <td>True</td>\n",
              "      <td>False</td>\n",
              "      <td>False</td>\n",
              "      <td>False</td>\n",
              "      <td>False</td>\n",
              "      <td>False</td>\n",
              "      <td>0.7</td>\n",
              "      <td>96.0</td>\n",
              "      <td>32.0</td>\n",
              "      <td>4.0</td>\n",
              "      <td>NaN</td>\n",
              "      <td>False</td>\n",
              "      <td>live</td>\n",
              "    </tr>\n",
              "    <tr>\n",
              "      <th>3</th>\n",
              "      <td>31</td>\n",
              "      <td>female</td>\n",
              "      <td>NaN</td>\n",
              "      <td>True</td>\n",
              "      <td>False</td>\n",
              "      <td>false</td>\n",
              "      <td>False</td>\n",
              "      <td>True</td>\n",
              "      <td>False</td>\n",
              "      <td>False</td>\n",
              "      <td>False</td>\n",
              "      <td>False</td>\n",
              "      <td>False</td>\n",
              "      <td>0.7</td>\n",
              "      <td>46.0</td>\n",
              "      <td>52.0</td>\n",
              "      <td>4.0</td>\n",
              "      <td>80.0</td>\n",
              "      <td>False</td>\n",
              "      <td>live</td>\n",
              "    </tr>\n",
              "    <tr>\n",
              "      <th>4</th>\n",
              "      <td>34</td>\n",
              "      <td>female</td>\n",
              "      <td>True</td>\n",
              "      <td>False</td>\n",
              "      <td>False</td>\n",
              "      <td>false</td>\n",
              "      <td>False</td>\n",
              "      <td>True</td>\n",
              "      <td>False</td>\n",
              "      <td>False</td>\n",
              "      <td>False</td>\n",
              "      <td>False</td>\n",
              "      <td>False</td>\n",
              "      <td>1.0</td>\n",
              "      <td>NaN</td>\n",
              "      <td>200.0</td>\n",
              "      <td>4.0</td>\n",
              "      <td>NaN</td>\n",
              "      <td>False</td>\n",
              "      <td>live</td>\n",
              "    </tr>\n",
              "  </tbody>\n",
              "</table>\n",
              "</div>"
            ],
            "text/plain": [
              "   age     sex steroid  antivirals fatigue malaise anorexia liver_big  \\\n",
              "0   30    male   False       False   False   false    False     False   \n",
              "1   50  female   False       False    True   false    False     False   \n",
              "2   78  female    True       False    True   false    False      True   \n",
              "3   31  female     NaN        True   False   false    False      True   \n",
              "4   34  female    True       False   False   false    False      True   \n",
              "\n",
              "  liver_firm spleen_palpable spiders ascites varices  bilirubin  \\\n",
              "0      False           False   False   False   False        1.0   \n",
              "1      False           False   False   False   False        0.9   \n",
              "2      False           False   False   False   False        0.7   \n",
              "3      False           False   False   False   False        0.7   \n",
              "4      False           False   False   False   False        1.0   \n",
              "\n",
              "   alk_phosphate   sgot  albumin  protime  histology class  \n",
              "0           85.0   18.0      4.0      NaN      False  live  \n",
              "1          135.0   42.0      3.5      NaN      False  live  \n",
              "2           96.0   32.0      4.0      NaN      False  live  \n",
              "3           46.0   52.0      4.0     80.0      False  live  \n",
              "4            NaN  200.0      4.0      NaN      False  live  "
            ]
          },
          "execution_count": 54,
          "metadata": {},
          "output_type": "execute_result"
        }
      ],
      "source": [
        "df['malaise']=df['malaise'].str.lower()\n",
        "df.head(5)"
      ]
    },
    {
      "cell_type": "code",
      "execution_count": null,
      "metadata": {
        "id": "i7viAaLGJEW0",
        "outputId": "33ae7e06-f34a-4be6-da23-8f1210da0ec9"
      },
      "outputs": [
        {
          "data": {
            "text/html": [
              "<div>\n",
              "<style scoped>\n",
              "    .dataframe tbody tr th:only-of-type {\n",
              "        vertical-align: middle;\n",
              "    }\n",
              "\n",
              "    .dataframe tbody tr th {\n",
              "        vertical-align: top;\n",
              "    }\n",
              "\n",
              "    .dataframe thead th {\n",
              "        text-align: right;\n",
              "    }\n",
              "</style>\n",
              "<table border=\"1\" class=\"dataframe\">\n",
              "  <thead>\n",
              "    <tr style=\"text-align: right;\">\n",
              "      <th></th>\n",
              "      <th>data</th>\n",
              "      <th>stato</th>\n",
              "      <th>codice_regione</th>\n",
              "      <th>denominazione_regione</th>\n",
              "      <th>lat</th>\n",
              "      <th>long</th>\n",
              "      <th>ricoverati_con_sintomi</th>\n",
              "      <th>terapia_intensiva</th>\n",
              "      <th>totale_ospedalizzati</th>\n",
              "      <th>isolamento_domiciliare</th>\n",
              "      <th>totale_positivi</th>\n",
              "      <th>variazione_totale_positivi</th>\n",
              "      <th>nuovi_positivi</th>\n",
              "      <th>dimessi_guariti</th>\n",
              "      <th>deceduti</th>\n",
              "      <th>totale_casi</th>\n",
              "      <th>tamponi</th>\n",
              "    </tr>\n",
              "  </thead>\n",
              "  <tbody>\n",
              "    <tr>\n",
              "      <th>0</th>\n",
              "      <td>2020-02-24T18:00:00</td>\n",
              "      <td>ITA</td>\n",
              "      <td>13</td>\n",
              "      <td>Abruzzo</td>\n",
              "      <td>42.351222</td>\n",
              "      <td>13.398438</td>\n",
              "      <td>0</td>\n",
              "      <td>0</td>\n",
              "      <td>0</td>\n",
              "      <td>0</td>\n",
              "      <td>0</td>\n",
              "      <td>0</td>\n",
              "      <td>0</td>\n",
              "      <td>0</td>\n",
              "      <td>0</td>\n",
              "      <td>0</td>\n",
              "      <td>5</td>\n",
              "    </tr>\n",
              "    <tr>\n",
              "      <th>1</th>\n",
              "      <td>2020-02-24T18:00:00</td>\n",
              "      <td>ITA</td>\n",
              "      <td>17</td>\n",
              "      <td>Basilicata</td>\n",
              "      <td>40.639471</td>\n",
              "      <td>15.805148</td>\n",
              "      <td>0</td>\n",
              "      <td>0</td>\n",
              "      <td>0</td>\n",
              "      <td>0</td>\n",
              "      <td>0</td>\n",
              "      <td>0</td>\n",
              "      <td>0</td>\n",
              "      <td>0</td>\n",
              "      <td>0</td>\n",
              "      <td>0</td>\n",
              "      <td>0</td>\n",
              "    </tr>\n",
              "    <tr>\n",
              "      <th>2</th>\n",
              "      <td>2020-02-24T18:00:00</td>\n",
              "      <td>ITA</td>\n",
              "      <td>18</td>\n",
              "      <td>Calabria</td>\n",
              "      <td>38.905976</td>\n",
              "      <td>16.594402</td>\n",
              "      <td>0</td>\n",
              "      <td>0</td>\n",
              "      <td>0</td>\n",
              "      <td>0</td>\n",
              "      <td>0</td>\n",
              "      <td>0</td>\n",
              "      <td>0</td>\n",
              "      <td>0</td>\n",
              "      <td>0</td>\n",
              "      <td>0</td>\n",
              "      <td>1</td>\n",
              "    </tr>\n",
              "    <tr>\n",
              "      <th>3</th>\n",
              "      <td>2020-02-24T18:00:00</td>\n",
              "      <td>ITA</td>\n",
              "      <td>15</td>\n",
              "      <td>Campania</td>\n",
              "      <td>40.839566</td>\n",
              "      <td>14.250850</td>\n",
              "      <td>0</td>\n",
              "      <td>0</td>\n",
              "      <td>0</td>\n",
              "      <td>0</td>\n",
              "      <td>0</td>\n",
              "      <td>0</td>\n",
              "      <td>0</td>\n",
              "      <td>0</td>\n",
              "      <td>0</td>\n",
              "      <td>0</td>\n",
              "      <td>10</td>\n",
              "    </tr>\n",
              "    <tr>\n",
              "      <th>4</th>\n",
              "      <td>2020-02-24T18:00:00</td>\n",
              "      <td>ITA</td>\n",
              "      <td>8</td>\n",
              "      <td>Emilia-Romagna</td>\n",
              "      <td>44.494367</td>\n",
              "      <td>11.341721</td>\n",
              "      <td>10</td>\n",
              "      <td>2</td>\n",
              "      <td>12</td>\n",
              "      <td>6</td>\n",
              "      <td>18</td>\n",
              "      <td>0</td>\n",
              "      <td>18</td>\n",
              "      <td>0</td>\n",
              "      <td>0</td>\n",
              "      <td>18</td>\n",
              "      <td>148</td>\n",
              "    </tr>\n",
              "    <tr>\n",
              "      <th>5</th>\n",
              "      <td>2020-02-24T18:00:00</td>\n",
              "      <td>ITA</td>\n",
              "      <td>6</td>\n",
              "      <td>Friuli Venezia Giulia</td>\n",
              "      <td>45.649435</td>\n",
              "      <td>13.768136</td>\n",
              "      <td>0</td>\n",
              "      <td>0</td>\n",
              "      <td>0</td>\n",
              "      <td>0</td>\n",
              "      <td>0</td>\n",
              "      <td>0</td>\n",
              "      <td>0</td>\n",
              "      <td>0</td>\n",
              "      <td>0</td>\n",
              "      <td>0</td>\n",
              "      <td>58</td>\n",
              "    </tr>\n",
              "    <tr>\n",
              "      <th>6</th>\n",
              "      <td>2020-02-24T18:00:00</td>\n",
              "      <td>ITA</td>\n",
              "      <td>12</td>\n",
              "      <td>Lazio</td>\n",
              "      <td>41.892770</td>\n",
              "      <td>12.483667</td>\n",
              "      <td>1</td>\n",
              "      <td>1</td>\n",
              "      <td>2</td>\n",
              "      <td>0</td>\n",
              "      <td>2</td>\n",
              "      <td>0</td>\n",
              "      <td>2</td>\n",
              "      <td>1</td>\n",
              "      <td>0</td>\n",
              "      <td>3</td>\n",
              "      <td>124</td>\n",
              "    </tr>\n",
              "    <tr>\n",
              "      <th>7</th>\n",
              "      <td>2020-02-24T18:00:00</td>\n",
              "      <td>ITA</td>\n",
              "      <td>7</td>\n",
              "      <td>Liguria</td>\n",
              "      <td>44.411493</td>\n",
              "      <td>8.932699</td>\n",
              "      <td>0</td>\n",
              "      <td>0</td>\n",
              "      <td>0</td>\n",
              "      <td>0</td>\n",
              "      <td>0</td>\n",
              "      <td>0</td>\n",
              "      <td>0</td>\n",
              "      <td>0</td>\n",
              "      <td>0</td>\n",
              "      <td>0</td>\n",
              "      <td>1</td>\n",
              "    </tr>\n",
              "    <tr>\n",
              "      <th>8</th>\n",
              "      <td>2020-02-24T18:00:00</td>\n",
              "      <td>ITA</td>\n",
              "      <td>3</td>\n",
              "      <td>Lombardia</td>\n",
              "      <td>45.466794</td>\n",
              "      <td>9.190347</td>\n",
              "      <td>76</td>\n",
              "      <td>19</td>\n",
              "      <td>95</td>\n",
              "      <td>71</td>\n",
              "      <td>166</td>\n",
              "      <td>0</td>\n",
              "      <td>166</td>\n",
              "      <td>0</td>\n",
              "      <td>6</td>\n",
              "      <td>172</td>\n",
              "      <td>1463</td>\n",
              "    </tr>\n",
              "    <tr>\n",
              "      <th>9</th>\n",
              "      <td>2020-02-24T18:00:00</td>\n",
              "      <td>ITA</td>\n",
              "      <td>11</td>\n",
              "      <td>Marche</td>\n",
              "      <td>43.616760</td>\n",
              "      <td>13.518875</td>\n",
              "      <td>0</td>\n",
              "      <td>0</td>\n",
              "      <td>0</td>\n",
              "      <td>0</td>\n",
              "      <td>0</td>\n",
              "      <td>0</td>\n",
              "      <td>0</td>\n",
              "      <td>0</td>\n",
              "      <td>0</td>\n",
              "      <td>0</td>\n",
              "      <td>16</td>\n",
              "    </tr>\n",
              "  </tbody>\n",
              "</table>\n",
              "</div>"
            ],
            "text/plain": [
              "                  data stato  codice_regione  denominazione_regione  \\\n",
              "0  2020-02-24T18:00:00   ITA              13                Abruzzo   \n",
              "1  2020-02-24T18:00:00   ITA              17             Basilicata   \n",
              "2  2020-02-24T18:00:00   ITA              18               Calabria   \n",
              "3  2020-02-24T18:00:00   ITA              15               Campania   \n",
              "4  2020-02-24T18:00:00   ITA               8         Emilia-Romagna   \n",
              "5  2020-02-24T18:00:00   ITA               6  Friuli Venezia Giulia   \n",
              "6  2020-02-24T18:00:00   ITA              12                  Lazio   \n",
              "7  2020-02-24T18:00:00   ITA               7                Liguria   \n",
              "8  2020-02-24T18:00:00   ITA               3              Lombardia   \n",
              "9  2020-02-24T18:00:00   ITA              11                 Marche   \n",
              "\n",
              "         lat       long  ricoverati_con_sintomi  terapia_intensiva  \\\n",
              "0  42.351222  13.398438                       0                  0   \n",
              "1  40.639471  15.805148                       0                  0   \n",
              "2  38.905976  16.594402                       0                  0   \n",
              "3  40.839566  14.250850                       0                  0   \n",
              "4  44.494367  11.341721                      10                  2   \n",
              "5  45.649435  13.768136                       0                  0   \n",
              "6  41.892770  12.483667                       1                  1   \n",
              "7  44.411493   8.932699                       0                  0   \n",
              "8  45.466794   9.190347                      76                 19   \n",
              "9  43.616760  13.518875                       0                  0   \n",
              "\n",
              "   totale_ospedalizzati  isolamento_domiciliare  totale_positivi  \\\n",
              "0                     0                       0                0   \n",
              "1                     0                       0                0   \n",
              "2                     0                       0                0   \n",
              "3                     0                       0                0   \n",
              "4                    12                       6               18   \n",
              "5                     0                       0                0   \n",
              "6                     2                       0                2   \n",
              "7                     0                       0                0   \n",
              "8                    95                      71              166   \n",
              "9                     0                       0                0   \n",
              "\n",
              "   variazione_totale_positivi  nuovi_positivi  dimessi_guariti  deceduti  \\\n",
              "0                           0               0                0         0   \n",
              "1                           0               0                0         0   \n",
              "2                           0               0                0         0   \n",
              "3                           0               0                0         0   \n",
              "4                           0              18                0         0   \n",
              "5                           0               0                0         0   \n",
              "6                           0               2                1         0   \n",
              "7                           0               0                0         0   \n",
              "8                           0             166                0         6   \n",
              "9                           0               0                0         0   \n",
              "\n",
              "   totale_casi  tamponi  \n",
              "0            0        5  \n",
              "1            0        0  \n",
              "2            0        1  \n",
              "3            0       10  \n",
              "4           18      148  \n",
              "5            0       58  \n",
              "6            3      124  \n",
              "7            0        1  \n",
              "8          172     1463  \n",
              "9            0       16  "
            ]
          },
          "execution_count": 58,
          "metadata": {},
          "output_type": "execute_result"
        }
      ],
      "source": [
        "import pandas as pd\n",
        "df = pd.read_csv('https://raw.githubusercontent.com/pcm-dpc/COVID-19/master/dati-regioni/dpc-covid19-ita-regioni.csv')\n",
        "df.dropna(axis=1,inplace=True)\n",
        "df.head(10)"
      ]
    },
    {
      "cell_type": "code",
      "execution_count": null,
      "metadata": {
        "id": "Im8djwNmJEW0",
        "outputId": "a2bd8ca4-0f53-4043-cda9-2ffd3e8cab83"
      },
      "outputs": [
        {
          "data": {
            "text/plain": [
              "0       -0.279273\n",
              "1       -0.967039\n",
              "2       -1.663541\n",
              "3       -0.886643\n",
              "4        0.581823\n",
              "           ...   \n",
              "16312   -1.981068\n",
              "16313    0.290470\n",
              "16314    0.024295\n",
              "16315    1.081304\n",
              "16316    0.959723\n",
              "Name: lat, Length: 16317, dtype: float64"
            ]
          },
          "execution_count": 59,
          "metadata": {},
          "output_type": "execute_result"
        }
      ],
      "source": [
        "df['lat']=(df['lat']-df['lat'].mean())/df['lat'].std()\n",
        "df['lat']"
      ]
    },
    {
      "cell_type": "code",
      "execution_count": null,
      "metadata": {
        "id": "gljaClh0JEW2"
      },
      "outputs": [],
      "source": [
        "df['denominazione_regione']=df['denominazione_regione'].astype('category')"
      ]
    },
    {
      "cell_type": "code",
      "execution_count": null,
      "metadata": {
        "id": "LF9Ec0qiJEW3"
      },
      "outputs": [],
      "source": [
        "df['denominazione_regione']=df['denominazione_regione'].cat.codes"
      ]
    },
    {
      "cell_type": "code",
      "execution_count": null,
      "metadata": {
        "id": "aVWgA7b-JEW4",
        "outputId": "546de828-41cf-4094-cf1a-b755b6dae2f8"
      },
      "outputs": [
        {
          "data": {
            "text/html": [
              "<div>\n",
              "<style scoped>\n",
              "    .dataframe tbody tr th:only-of-type {\n",
              "        vertical-align: middle;\n",
              "    }\n",
              "\n",
              "    .dataframe tbody tr th {\n",
              "        vertical-align: top;\n",
              "    }\n",
              "\n",
              "    .dataframe thead th {\n",
              "        text-align: right;\n",
              "    }\n",
              "</style>\n",
              "<table border=\"1\" class=\"dataframe\">\n",
              "  <thead>\n",
              "    <tr style=\"text-align: right;\">\n",
              "      <th></th>\n",
              "      <th>data</th>\n",
              "      <th>stato</th>\n",
              "      <th>codice_regione</th>\n",
              "      <th>denominazione_regione</th>\n",
              "      <th>lat</th>\n",
              "      <th>long</th>\n",
              "      <th>ricoverati_con_sintomi</th>\n",
              "      <th>terapia_intensiva</th>\n",
              "      <th>totale_ospedalizzati</th>\n",
              "      <th>isolamento_domiciliare</th>\n",
              "      <th>totale_positivi</th>\n",
              "      <th>variazione_totale_positivi</th>\n",
              "      <th>nuovi_positivi</th>\n",
              "      <th>dimessi_guariti</th>\n",
              "      <th>deceduti</th>\n",
              "      <th>totale_casi</th>\n",
              "      <th>tamponi</th>\n",
              "    </tr>\n",
              "  </thead>\n",
              "  <tbody>\n",
              "    <tr>\n",
              "      <th>0</th>\n",
              "      <td>2020-02-24T18:00:00</td>\n",
              "      <td>ITA</td>\n",
              "      <td>13</td>\n",
              "      <td>0</td>\n",
              "      <td>-0.279273</td>\n",
              "      <td>13.398438</td>\n",
              "      <td>0</td>\n",
              "      <td>0</td>\n",
              "      <td>0</td>\n",
              "      <td>0</td>\n",
              "      <td>0</td>\n",
              "      <td>0</td>\n",
              "      <td>0</td>\n",
              "      <td>0</td>\n",
              "      <td>0</td>\n",
              "      <td>0</td>\n",
              "      <td>5</td>\n",
              "    </tr>\n",
              "    <tr>\n",
              "      <th>1</th>\n",
              "      <td>2020-02-24T18:00:00</td>\n",
              "      <td>ITA</td>\n",
              "      <td>17</td>\n",
              "      <td>1</td>\n",
              "      <td>-0.967039</td>\n",
              "      <td>15.805148</td>\n",
              "      <td>0</td>\n",
              "      <td>0</td>\n",
              "      <td>0</td>\n",
              "      <td>0</td>\n",
              "      <td>0</td>\n",
              "      <td>0</td>\n",
              "      <td>0</td>\n",
              "      <td>0</td>\n",
              "      <td>0</td>\n",
              "      <td>0</td>\n",
              "      <td>0</td>\n",
              "    </tr>\n",
              "    <tr>\n",
              "      <th>2</th>\n",
              "      <td>2020-02-24T18:00:00</td>\n",
              "      <td>ITA</td>\n",
              "      <td>18</td>\n",
              "      <td>2</td>\n",
              "      <td>-1.663541</td>\n",
              "      <td>16.594402</td>\n",
              "      <td>0</td>\n",
              "      <td>0</td>\n",
              "      <td>0</td>\n",
              "      <td>0</td>\n",
              "      <td>0</td>\n",
              "      <td>0</td>\n",
              "      <td>0</td>\n",
              "      <td>0</td>\n",
              "      <td>0</td>\n",
              "      <td>0</td>\n",
              "      <td>1</td>\n",
              "    </tr>\n",
              "    <tr>\n",
              "      <th>3</th>\n",
              "      <td>2020-02-24T18:00:00</td>\n",
              "      <td>ITA</td>\n",
              "      <td>15</td>\n",
              "      <td>3</td>\n",
              "      <td>-0.886643</td>\n",
              "      <td>14.250850</td>\n",
              "      <td>0</td>\n",
              "      <td>0</td>\n",
              "      <td>0</td>\n",
              "      <td>0</td>\n",
              "      <td>0</td>\n",
              "      <td>0</td>\n",
              "      <td>0</td>\n",
              "      <td>0</td>\n",
              "      <td>0</td>\n",
              "      <td>0</td>\n",
              "      <td>10</td>\n",
              "    </tr>\n",
              "    <tr>\n",
              "      <th>4</th>\n",
              "      <td>2020-02-24T18:00:00</td>\n",
              "      <td>ITA</td>\n",
              "      <td>8</td>\n",
              "      <td>4</td>\n",
              "      <td>0.581823</td>\n",
              "      <td>11.341721</td>\n",
              "      <td>10</td>\n",
              "      <td>2</td>\n",
              "      <td>12</td>\n",
              "      <td>6</td>\n",
              "      <td>18</td>\n",
              "      <td>0</td>\n",
              "      <td>18</td>\n",
              "      <td>0</td>\n",
              "      <td>0</td>\n",
              "      <td>18</td>\n",
              "      <td>148</td>\n",
              "    </tr>\n",
              "    <tr>\n",
              "      <th>...</th>\n",
              "      <td>...</td>\n",
              "      <td>...</td>\n",
              "      <td>...</td>\n",
              "      <td>...</td>\n",
              "      <td>...</td>\n",
              "      <td>...</td>\n",
              "      <td>...</td>\n",
              "      <td>...</td>\n",
              "      <td>...</td>\n",
              "      <td>...</td>\n",
              "      <td>...</td>\n",
              "      <td>...</td>\n",
              "      <td>...</td>\n",
              "      <td>...</td>\n",
              "      <td>...</td>\n",
              "      <td>...</td>\n",
              "      <td>...</td>\n",
              "    </tr>\n",
              "    <tr>\n",
              "      <th>16312</th>\n",
              "      <td>2022-04-10T17:00:00</td>\n",
              "      <td>ITA</td>\n",
              "      <td>19</td>\n",
              "      <td>16</td>\n",
              "      <td>-1.981068</td>\n",
              "      <td>13.362357</td>\n",
              "      <td>987</td>\n",
              "      <td>62</td>\n",
              "      <td>1049</td>\n",
              "      <td>149317</td>\n",
              "      <td>150366</td>\n",
              "      <td>511</td>\n",
              "      <td>3548</td>\n",
              "      <td>863826</td>\n",
              "      <td>10258</td>\n",
              "      <td>1024450</td>\n",
              "      <td>12100436</td>\n",
              "    </tr>\n",
              "    <tr>\n",
              "      <th>16313</th>\n",
              "      <td>2022-04-10T17:00:00</td>\n",
              "      <td>ITA</td>\n",
              "      <td>9</td>\n",
              "      <td>17</td>\n",
              "      <td>0.290470</td>\n",
              "      <td>11.255889</td>\n",
              "      <td>785</td>\n",
              "      <td>41</td>\n",
              "      <td>826</td>\n",
              "      <td>50538</td>\n",
              "      <td>51364</td>\n",
              "      <td>1680</td>\n",
              "      <td>3653</td>\n",
              "      <td>965779</td>\n",
              "      <td>9619</td>\n",
              "      <td>1026762</td>\n",
              "      <td>13328963</td>\n",
              "    </tr>\n",
              "    <tr>\n",
              "      <th>16314</th>\n",
              "      <td>2022-04-10T17:00:00</td>\n",
              "      <td>ITA</td>\n",
              "      <td>10</td>\n",
              "      <td>18</td>\n",
              "      <td>0.024295</td>\n",
              "      <td>12.388247</td>\n",
              "      <td>278</td>\n",
              "      <td>6</td>\n",
              "      <td>284</td>\n",
              "      <td>14228</td>\n",
              "      <td>14512</td>\n",
              "      <td>-707</td>\n",
              "      <td>1130</td>\n",
              "      <td>230484</td>\n",
              "      <td>1825</td>\n",
              "      <td>246821</td>\n",
              "      <td>4080884</td>\n",
              "    </tr>\n",
              "    <tr>\n",
              "      <th>16315</th>\n",
              "      <td>2022-04-10T17:00:00</td>\n",
              "      <td>ITA</td>\n",
              "      <td>2</td>\n",
              "      <td>19</td>\n",
              "      <td>1.081304</td>\n",
              "      <td>7.320149</td>\n",
              "      <td>14</td>\n",
              "      <td>1</td>\n",
              "      <td>15</td>\n",
              "      <td>1231</td>\n",
              "      <td>1246</td>\n",
              "      <td>57</td>\n",
              "      <td>78</td>\n",
              "      <td>31552</td>\n",
              "      <td>527</td>\n",
              "      <td>33325</td>\n",
              "      <td>495835</td>\n",
              "    </tr>\n",
              "    <tr>\n",
              "      <th>16316</th>\n",
              "      <td>2022-04-10T17:00:00</td>\n",
              "      <td>ITA</td>\n",
              "      <td>5</td>\n",
              "      <td>20</td>\n",
              "      <td>0.959723</td>\n",
              "      <td>12.338452</td>\n",
              "      <td>614</td>\n",
              "      <td>28</td>\n",
              "      <td>642</td>\n",
              "      <td>78631</td>\n",
              "      <td>79273</td>\n",
              "      <td>-494</td>\n",
              "      <td>5341</td>\n",
              "      <td>1461011</td>\n",
              "      <td>14264</td>\n",
              "      <td>1554548</td>\n",
              "      <td>28062417</td>\n",
              "    </tr>\n",
              "  </tbody>\n",
              "</table>\n",
              "<p>16317 rows × 17 columns</p>\n",
              "</div>"
            ],
            "text/plain": [
              "                      data stato  codice_regione  denominazione_regione  \\\n",
              "0      2020-02-24T18:00:00   ITA              13                      0   \n",
              "1      2020-02-24T18:00:00   ITA              17                      1   \n",
              "2      2020-02-24T18:00:00   ITA              18                      2   \n",
              "3      2020-02-24T18:00:00   ITA              15                      3   \n",
              "4      2020-02-24T18:00:00   ITA               8                      4   \n",
              "...                    ...   ...             ...                    ...   \n",
              "16312  2022-04-10T17:00:00   ITA              19                     16   \n",
              "16313  2022-04-10T17:00:00   ITA               9                     17   \n",
              "16314  2022-04-10T17:00:00   ITA              10                     18   \n",
              "16315  2022-04-10T17:00:00   ITA               2                     19   \n",
              "16316  2022-04-10T17:00:00   ITA               5                     20   \n",
              "\n",
              "            lat       long  ricoverati_con_sintomi  terapia_intensiva  \\\n",
              "0     -0.279273  13.398438                       0                  0   \n",
              "1     -0.967039  15.805148                       0                  0   \n",
              "2     -1.663541  16.594402                       0                  0   \n",
              "3     -0.886643  14.250850                       0                  0   \n",
              "4      0.581823  11.341721                      10                  2   \n",
              "...         ...        ...                     ...                ...   \n",
              "16312 -1.981068  13.362357                     987                 62   \n",
              "16313  0.290470  11.255889                     785                 41   \n",
              "16314  0.024295  12.388247                     278                  6   \n",
              "16315  1.081304   7.320149                      14                  1   \n",
              "16316  0.959723  12.338452                     614                 28   \n",
              "\n",
              "       totale_ospedalizzati  isolamento_domiciliare  totale_positivi  \\\n",
              "0                         0                       0                0   \n",
              "1                         0                       0                0   \n",
              "2                         0                       0                0   \n",
              "3                         0                       0                0   \n",
              "4                        12                       6               18   \n",
              "...                     ...                     ...              ...   \n",
              "16312                  1049                  149317           150366   \n",
              "16313                   826                   50538            51364   \n",
              "16314                   284                   14228            14512   \n",
              "16315                    15                    1231             1246   \n",
              "16316                   642                   78631            79273   \n",
              "\n",
              "       variazione_totale_positivi  nuovi_positivi  dimessi_guariti  deceduti  \\\n",
              "0                               0               0                0         0   \n",
              "1                               0               0                0         0   \n",
              "2                               0               0                0         0   \n",
              "3                               0               0                0         0   \n",
              "4                               0              18                0         0   \n",
              "...                           ...             ...              ...       ...   \n",
              "16312                         511            3548           863826     10258   \n",
              "16313                        1680            3653           965779      9619   \n",
              "16314                        -707            1130           230484      1825   \n",
              "16315                          57              78            31552       527   \n",
              "16316                        -494            5341          1461011     14264   \n",
              "\n",
              "       totale_casi   tamponi  \n",
              "0                0         5  \n",
              "1                0         0  \n",
              "2                0         1  \n",
              "3                0        10  \n",
              "4               18       148  \n",
              "...            ...       ...  \n",
              "16312      1024450  12100436  \n",
              "16313      1026762  13328963  \n",
              "16314       246821   4080884  \n",
              "16315        33325    495835  \n",
              "16316      1554548  28062417  \n",
              "\n",
              "[16317 rows x 17 columns]"
            ]
          },
          "execution_count": 64,
          "metadata": {},
          "output_type": "execute_result"
        }
      ],
      "source": [
        "df"
      ]
    },
    {
      "cell_type": "markdown",
      "metadata": {
        "id": "BZ5_gFVLJEW4"
      },
      "source": [
        "# label encoding"
      ]
    },
    {
      "cell_type": "code",
      "execution_count": null,
      "metadata": {
        "id": "LG7RqC2DJEW5",
        "outputId": "cea979b3-ce63-46b3-c185-d02a37fb3b0d"
      },
      "outputs": [
        {
          "data": {
            "text/html": [
              "<div>\n",
              "<style scoped>\n",
              "    .dataframe tbody tr th:only-of-type {\n",
              "        vertical-align: middle;\n",
              "    }\n",
              "\n",
              "    .dataframe tbody tr th {\n",
              "        vertical-align: top;\n",
              "    }\n",
              "\n",
              "    .dataframe thead th {\n",
              "        text-align: right;\n",
              "    }\n",
              "</style>\n",
              "<table border=\"1\" class=\"dataframe\">\n",
              "  <thead>\n",
              "    <tr style=\"text-align: right;\">\n",
              "      <th></th>\n",
              "      <th>Country/Region</th>\n",
              "      <th>Confirmed</th>\n",
              "      <th>Deaths</th>\n",
              "      <th>Recovered</th>\n",
              "      <th>Active</th>\n",
              "      <th>New cases</th>\n",
              "      <th>New deaths</th>\n",
              "      <th>New recovered</th>\n",
              "      <th>Deaths / 100 Cases</th>\n",
              "      <th>Recovered / 100 Cases</th>\n",
              "      <th>Deaths / 100 Recovered</th>\n",
              "      <th>Confirmed last week</th>\n",
              "      <th>1 week change</th>\n",
              "      <th>1 week % increase</th>\n",
              "      <th>WHO Region</th>\n",
              "    </tr>\n",
              "  </thead>\n",
              "  <tbody>\n",
              "    <tr>\n",
              "      <th>0</th>\n",
              "      <td>Afghanistan</td>\n",
              "      <td>36263</td>\n",
              "      <td>1269</td>\n",
              "      <td>25198</td>\n",
              "      <td>9796</td>\n",
              "      <td>106</td>\n",
              "      <td>10</td>\n",
              "      <td>18</td>\n",
              "      <td>3.50</td>\n",
              "      <td>69.49</td>\n",
              "      <td>5.04</td>\n",
              "      <td>35526</td>\n",
              "      <td>737</td>\n",
              "      <td>2.07</td>\n",
              "      <td>Eastern Mediterranean</td>\n",
              "    </tr>\n",
              "    <tr>\n",
              "      <th>1</th>\n",
              "      <td>Albania</td>\n",
              "      <td>4880</td>\n",
              "      <td>144</td>\n",
              "      <td>2745</td>\n",
              "      <td>1991</td>\n",
              "      <td>117</td>\n",
              "      <td>6</td>\n",
              "      <td>63</td>\n",
              "      <td>2.95</td>\n",
              "      <td>56.25</td>\n",
              "      <td>5.25</td>\n",
              "      <td>4171</td>\n",
              "      <td>709</td>\n",
              "      <td>17.00</td>\n",
              "      <td>Europe</td>\n",
              "    </tr>\n",
              "    <tr>\n",
              "      <th>2</th>\n",
              "      <td>Algeria</td>\n",
              "      <td>27973</td>\n",
              "      <td>1163</td>\n",
              "      <td>18837</td>\n",
              "      <td>7973</td>\n",
              "      <td>616</td>\n",
              "      <td>8</td>\n",
              "      <td>749</td>\n",
              "      <td>4.16</td>\n",
              "      <td>67.34</td>\n",
              "      <td>6.17</td>\n",
              "      <td>23691</td>\n",
              "      <td>4282</td>\n",
              "      <td>18.07</td>\n",
              "      <td>Africa</td>\n",
              "    </tr>\n",
              "    <tr>\n",
              "      <th>3</th>\n",
              "      <td>Andorra</td>\n",
              "      <td>907</td>\n",
              "      <td>52</td>\n",
              "      <td>803</td>\n",
              "      <td>52</td>\n",
              "      <td>10</td>\n",
              "      <td>0</td>\n",
              "      <td>0</td>\n",
              "      <td>5.73</td>\n",
              "      <td>88.53</td>\n",
              "      <td>6.48</td>\n",
              "      <td>884</td>\n",
              "      <td>23</td>\n",
              "      <td>2.60</td>\n",
              "      <td>Europe</td>\n",
              "    </tr>\n",
              "    <tr>\n",
              "      <th>4</th>\n",
              "      <td>Angola</td>\n",
              "      <td>950</td>\n",
              "      <td>41</td>\n",
              "      <td>242</td>\n",
              "      <td>667</td>\n",
              "      <td>18</td>\n",
              "      <td>1</td>\n",
              "      <td>0</td>\n",
              "      <td>4.32</td>\n",
              "      <td>25.47</td>\n",
              "      <td>16.94</td>\n",
              "      <td>749</td>\n",
              "      <td>201</td>\n",
              "      <td>26.84</td>\n",
              "      <td>Africa</td>\n",
              "    </tr>\n",
              "    <tr>\n",
              "      <th>5</th>\n",
              "      <td>Antigua and Barbuda</td>\n",
              "      <td>86</td>\n",
              "      <td>3</td>\n",
              "      <td>65</td>\n",
              "      <td>18</td>\n",
              "      <td>4</td>\n",
              "      <td>0</td>\n",
              "      <td>5</td>\n",
              "      <td>3.49</td>\n",
              "      <td>75.58</td>\n",
              "      <td>4.62</td>\n",
              "      <td>76</td>\n",
              "      <td>10</td>\n",
              "      <td>13.16</td>\n",
              "      <td>Americas</td>\n",
              "    </tr>\n",
              "    <tr>\n",
              "      <th>6</th>\n",
              "      <td>Argentina</td>\n",
              "      <td>167416</td>\n",
              "      <td>3059</td>\n",
              "      <td>72575</td>\n",
              "      <td>91782</td>\n",
              "      <td>4890</td>\n",
              "      <td>120</td>\n",
              "      <td>2057</td>\n",
              "      <td>1.83</td>\n",
              "      <td>43.35</td>\n",
              "      <td>4.21</td>\n",
              "      <td>130774</td>\n",
              "      <td>36642</td>\n",
              "      <td>28.02</td>\n",
              "      <td>Americas</td>\n",
              "    </tr>\n",
              "    <tr>\n",
              "      <th>7</th>\n",
              "      <td>Armenia</td>\n",
              "      <td>37390</td>\n",
              "      <td>711</td>\n",
              "      <td>26665</td>\n",
              "      <td>10014</td>\n",
              "      <td>73</td>\n",
              "      <td>6</td>\n",
              "      <td>187</td>\n",
              "      <td>1.90</td>\n",
              "      <td>71.32</td>\n",
              "      <td>2.67</td>\n",
              "      <td>34981</td>\n",
              "      <td>2409</td>\n",
              "      <td>6.89</td>\n",
              "      <td>Europe</td>\n",
              "    </tr>\n",
              "    <tr>\n",
              "      <th>8</th>\n",
              "      <td>Australia</td>\n",
              "      <td>15303</td>\n",
              "      <td>167</td>\n",
              "      <td>9311</td>\n",
              "      <td>5825</td>\n",
              "      <td>368</td>\n",
              "      <td>6</td>\n",
              "      <td>137</td>\n",
              "      <td>1.09</td>\n",
              "      <td>60.84</td>\n",
              "      <td>1.79</td>\n",
              "      <td>12428</td>\n",
              "      <td>2875</td>\n",
              "      <td>23.13</td>\n",
              "      <td>Western Pacific</td>\n",
              "    </tr>\n",
              "    <tr>\n",
              "      <th>9</th>\n",
              "      <td>Austria</td>\n",
              "      <td>20558</td>\n",
              "      <td>713</td>\n",
              "      <td>18246</td>\n",
              "      <td>1599</td>\n",
              "      <td>86</td>\n",
              "      <td>1</td>\n",
              "      <td>37</td>\n",
              "      <td>3.47</td>\n",
              "      <td>88.75</td>\n",
              "      <td>3.91</td>\n",
              "      <td>19743</td>\n",
              "      <td>815</td>\n",
              "      <td>4.13</td>\n",
              "      <td>Europe</td>\n",
              "    </tr>\n",
              "  </tbody>\n",
              "</table>\n",
              "</div>"
            ],
            "text/plain": [
              "        Country/Region  Confirmed  Deaths  Recovered  Active  New cases  \\\n",
              "0          Afghanistan      36263    1269      25198    9796        106   \n",
              "1              Albania       4880     144       2745    1991        117   \n",
              "2              Algeria      27973    1163      18837    7973        616   \n",
              "3              Andorra        907      52        803      52         10   \n",
              "4               Angola        950      41        242     667         18   \n",
              "5  Antigua and Barbuda         86       3         65      18          4   \n",
              "6            Argentina     167416    3059      72575   91782       4890   \n",
              "7              Armenia      37390     711      26665   10014         73   \n",
              "8            Australia      15303     167       9311    5825        368   \n",
              "9              Austria      20558     713      18246    1599         86   \n",
              "\n",
              "   New deaths  New recovered  Deaths / 100 Cases  Recovered / 100 Cases  \\\n",
              "0          10             18                3.50                  69.49   \n",
              "1           6             63                2.95                  56.25   \n",
              "2           8            749                4.16                  67.34   \n",
              "3           0              0                5.73                  88.53   \n",
              "4           1              0                4.32                  25.47   \n",
              "5           0              5                3.49                  75.58   \n",
              "6         120           2057                1.83                  43.35   \n",
              "7           6            187                1.90                  71.32   \n",
              "8           6            137                1.09                  60.84   \n",
              "9           1             37                3.47                  88.75   \n",
              "\n",
              "   Deaths / 100 Recovered  Confirmed last week  1 week change  \\\n",
              "0                    5.04                35526            737   \n",
              "1                    5.25                 4171            709   \n",
              "2                    6.17                23691           4282   \n",
              "3                    6.48                  884             23   \n",
              "4                   16.94                  749            201   \n",
              "5                    4.62                   76             10   \n",
              "6                    4.21               130774          36642   \n",
              "7                    2.67                34981           2409   \n",
              "8                    1.79                12428           2875   \n",
              "9                    3.91                19743            815   \n",
              "\n",
              "   1 week % increase             WHO Region  \n",
              "0               2.07  Eastern Mediterranean  \n",
              "1              17.00                 Europe  \n",
              "2              18.07                 Africa  \n",
              "3               2.60                 Europe  \n",
              "4              26.84                 Africa  \n",
              "5              13.16               Americas  \n",
              "6              28.02               Americas  \n",
              "7               6.89                 Europe  \n",
              "8              23.13        Western Pacific  \n",
              "9               4.13                 Europe  "
            ]
          },
          "execution_count": 65,
          "metadata": {},
          "output_type": "execute_result"
        }
      ],
      "source": [
        "import pandas as pd\n",
        "df = pd.read_csv('country_wise_latest.csv')\n",
        "df.head(10)"
      ]
    },
    {
      "cell_type": "code",
      "execution_count": null,
      "metadata": {
        "id": "aaTY8qbVJEW6",
        "outputId": "dca0674b-a066-42c0-9db0-3510bd3d9147"
      },
      "outputs": [
        {
          "data": {
            "text/html": [
              "<div>\n",
              "<style scoped>\n",
              "    .dataframe tbody tr th:only-of-type {\n",
              "        vertical-align: middle;\n",
              "    }\n",
              "\n",
              "    .dataframe tbody tr th {\n",
              "        vertical-align: top;\n",
              "    }\n",
              "\n",
              "    .dataframe thead th {\n",
              "        text-align: right;\n",
              "    }\n",
              "</style>\n",
              "<table border=\"1\" class=\"dataframe\">\n",
              "  <thead>\n",
              "    <tr style=\"text-align: right;\">\n",
              "      <th></th>\n",
              "      <th>Country/Region</th>\n",
              "      <th>Confirmed</th>\n",
              "      <th>Deaths</th>\n",
              "      <th>Recovered</th>\n",
              "      <th>Active</th>\n",
              "      <th>New cases</th>\n",
              "      <th>New deaths</th>\n",
              "      <th>New recovered</th>\n",
              "      <th>Deaths / 100 Cases</th>\n",
              "      <th>Recovered / 100 Cases</th>\n",
              "      <th>Deaths / 100 Recovered</th>\n",
              "      <th>Confirmed last week</th>\n",
              "      <th>1 week change</th>\n",
              "      <th>1 week % increase</th>\n",
              "      <th>WHO Region</th>\n",
              "    </tr>\n",
              "  </thead>\n",
              "  <tbody>\n",
              "    <tr>\n",
              "      <th>0</th>\n",
              "      <td>0</td>\n",
              "      <td>36263</td>\n",
              "      <td>1269</td>\n",
              "      <td>25198</td>\n",
              "      <td>9796</td>\n",
              "      <td>106</td>\n",
              "      <td>10</td>\n",
              "      <td>18</td>\n",
              "      <td>3.50</td>\n",
              "      <td>69.49</td>\n",
              "      <td>5.04</td>\n",
              "      <td>35526</td>\n",
              "      <td>737</td>\n",
              "      <td>2.07</td>\n",
              "      <td>Eastern Mediterranean</td>\n",
              "    </tr>\n",
              "    <tr>\n",
              "      <th>1</th>\n",
              "      <td>1</td>\n",
              "      <td>4880</td>\n",
              "      <td>144</td>\n",
              "      <td>2745</td>\n",
              "      <td>1991</td>\n",
              "      <td>117</td>\n",
              "      <td>6</td>\n",
              "      <td>63</td>\n",
              "      <td>2.95</td>\n",
              "      <td>56.25</td>\n",
              "      <td>5.25</td>\n",
              "      <td>4171</td>\n",
              "      <td>709</td>\n",
              "      <td>17.00</td>\n",
              "      <td>Europe</td>\n",
              "    </tr>\n",
              "    <tr>\n",
              "      <th>2</th>\n",
              "      <td>2</td>\n",
              "      <td>27973</td>\n",
              "      <td>1163</td>\n",
              "      <td>18837</td>\n",
              "      <td>7973</td>\n",
              "      <td>616</td>\n",
              "      <td>8</td>\n",
              "      <td>749</td>\n",
              "      <td>4.16</td>\n",
              "      <td>67.34</td>\n",
              "      <td>6.17</td>\n",
              "      <td>23691</td>\n",
              "      <td>4282</td>\n",
              "      <td>18.07</td>\n",
              "      <td>Africa</td>\n",
              "    </tr>\n",
              "    <tr>\n",
              "      <th>3</th>\n",
              "      <td>3</td>\n",
              "      <td>907</td>\n",
              "      <td>52</td>\n",
              "      <td>803</td>\n",
              "      <td>52</td>\n",
              "      <td>10</td>\n",
              "      <td>0</td>\n",
              "      <td>0</td>\n",
              "      <td>5.73</td>\n",
              "      <td>88.53</td>\n",
              "      <td>6.48</td>\n",
              "      <td>884</td>\n",
              "      <td>23</td>\n",
              "      <td>2.60</td>\n",
              "      <td>Europe</td>\n",
              "    </tr>\n",
              "    <tr>\n",
              "      <th>4</th>\n",
              "      <td>4</td>\n",
              "      <td>950</td>\n",
              "      <td>41</td>\n",
              "      <td>242</td>\n",
              "      <td>667</td>\n",
              "      <td>18</td>\n",
              "      <td>1</td>\n",
              "      <td>0</td>\n",
              "      <td>4.32</td>\n",
              "      <td>25.47</td>\n",
              "      <td>16.94</td>\n",
              "      <td>749</td>\n",
              "      <td>201</td>\n",
              "      <td>26.84</td>\n",
              "      <td>Africa</td>\n",
              "    </tr>\n",
              "  </tbody>\n",
              "</table>\n",
              "</div>"
            ],
            "text/plain": [
              "   Country/Region  Confirmed  Deaths  Recovered  Active  New cases  \\\n",
              "0               0      36263    1269      25198    9796        106   \n",
              "1               1       4880     144       2745    1991        117   \n",
              "2               2      27973    1163      18837    7973        616   \n",
              "3               3        907      52        803      52         10   \n",
              "4               4        950      41        242     667         18   \n",
              "\n",
              "   New deaths  New recovered  Deaths / 100 Cases  Recovered / 100 Cases  \\\n",
              "0          10             18                3.50                  69.49   \n",
              "1           6             63                2.95                  56.25   \n",
              "2           8            749                4.16                  67.34   \n",
              "3           0              0                5.73                  88.53   \n",
              "4           1              0                4.32                  25.47   \n",
              "\n",
              "   Deaths / 100 Recovered  Confirmed last week  1 week change  \\\n",
              "0                    5.04                35526            737   \n",
              "1                    5.25                 4171            709   \n",
              "2                    6.17                23691           4282   \n",
              "3                    6.48                  884             23   \n",
              "4                   16.94                  749            201   \n",
              "\n",
              "   1 week % increase             WHO Region  \n",
              "0               2.07  Eastern Mediterranean  \n",
              "1              17.00                 Europe  \n",
              "2              18.07                 Africa  \n",
              "3               2.60                 Europe  \n",
              "4              26.84                 Africa  "
            ]
          },
          "execution_count": 69,
          "metadata": {},
          "output_type": "execute_result"
        }
      ],
      "source": [
        "df['Country/Region']=df['Country/Region'].astype('category')\n",
        "df['Country/Region']=df['Country/Region'].cat.codes\n",
        "df.head()"
      ]
    },
    {
      "cell_type": "code",
      "execution_count": null,
      "metadata": {
        "id": "Md10kL15JEW6",
        "outputId": "370fbc37-e4be-438a-d7e8-b770c40a489a"
      },
      "outputs": [
        {
          "data": {
            "text/plain": [
              "0    Afghanistan\n",
              "1        Albania\n",
              "2        Algeria\n",
              "3        Andorra\n",
              "4         Angola\n",
              "Name: Country/Region, dtype: object"
            ]
          },
          "execution_count": 72,
          "metadata": {},
          "output_type": "execute_result"
        }
      ],
      "source": [
        "import pandas as pd\n",
        "df = pd.read_csv('country_wise_latest.csv')\n",
        "states=df['Country/Region'][:5]\n",
        "states"
      ]
    },
    {
      "cell_type": "code",
      "execution_count": null,
      "metadata": {
        "id": "pPRw08ieJEW7",
        "outputId": "e359b6e3-d241-4112-bdbb-b5c731de492b"
      },
      "outputs": [
        {
          "data": {
            "text/html": [
              "<div>\n",
              "<style scoped>\n",
              "    .dataframe tbody tr th:only-of-type {\n",
              "        vertical-align: middle;\n",
              "    }\n",
              "\n",
              "    .dataframe tbody tr th {\n",
              "        vertical-align: top;\n",
              "    }\n",
              "\n",
              "    .dataframe thead th {\n",
              "        text-align: right;\n",
              "    }\n",
              "</style>\n",
              "<table border=\"1\" class=\"dataframe\">\n",
              "  <thead>\n",
              "    <tr style=\"text-align: right;\">\n",
              "      <th></th>\n",
              "      <th>state_Albania</th>\n",
              "      <th>state_Algeria</th>\n",
              "      <th>state_Andorra</th>\n",
              "      <th>state_Angola</th>\n",
              "    </tr>\n",
              "  </thead>\n",
              "  <tbody>\n",
              "    <tr>\n",
              "      <th>0</th>\n",
              "      <td>0</td>\n",
              "      <td>0</td>\n",
              "      <td>0</td>\n",
              "      <td>0</td>\n",
              "    </tr>\n",
              "    <tr>\n",
              "      <th>1</th>\n",
              "      <td>1</td>\n",
              "      <td>0</td>\n",
              "      <td>0</td>\n",
              "      <td>0</td>\n",
              "    </tr>\n",
              "    <tr>\n",
              "      <th>2</th>\n",
              "      <td>0</td>\n",
              "      <td>1</td>\n",
              "      <td>0</td>\n",
              "      <td>0</td>\n",
              "    </tr>\n",
              "    <tr>\n",
              "      <th>3</th>\n",
              "      <td>0</td>\n",
              "      <td>0</td>\n",
              "      <td>1</td>\n",
              "      <td>0</td>\n",
              "    </tr>\n",
              "    <tr>\n",
              "      <th>4</th>\n",
              "      <td>0</td>\n",
              "      <td>0</td>\n",
              "      <td>0</td>\n",
              "      <td>1</td>\n",
              "    </tr>\n",
              "  </tbody>\n",
              "</table>\n",
              "</div>"
            ],
            "text/plain": [
              "   state_Albania  state_Algeria  state_Andorra  state_Angola\n",
              "0              0              0              0             0\n",
              "1              1              0              0             0\n",
              "2              0              1              0             0\n",
              "3              0              0              1             0\n",
              "4              0              0              0             1"
            ]
          },
          "execution_count": 78,
          "metadata": {},
          "output_type": "execute_result"
        }
      ],
      "source": [
        "cd=pd.get_dummies(df['Country/Region'][:5],prefix='state',drop_first=True)\n",
        "cd"
      ]
    },
    {
      "cell_type": "markdown",
      "metadata": {
        "id": "ugcFXx1PJEW8"
      },
      "source": [
        "# performance measures"
      ]
    },
    {
      "cell_type": "code",
      "execution_count": null,
      "metadata": {
        "id": "QO15DsfOJEW9",
        "outputId": "05a3755d-b82c-4df2-bc12-08066d6a61b7"
      },
      "outputs": [
        {
          "name": "stdout",
          "output_type": "stream",
          "text": [
            "Confusion Matrix :\n",
            "[[3 3]\n",
            " [1 3]]\n",
            "Accuracy Score is 0.6\n",
            "Classification Report : \n",
            "              precision    recall  f1-score   support\n",
            "\n",
            "           0       0.75      0.50      0.60         6\n",
            "           1       0.50      0.75      0.60         4\n",
            "\n",
            "    accuracy                           0.60        10\n",
            "   macro avg       0.62      0.62      0.60        10\n",
            "weighted avg       0.65      0.60      0.60        10\n",
            "\n",
            "AUC-ROC: 0.625\n",
            "LOGLOSS Value is 13.815750437193334\n"
          ]
        }
      ],
      "source": [
        "from sklearn.metrics import confusion_matrix\n",
        "from sklearn.metrics import accuracy_score\n",
        "from sklearn.metrics import classification_report\n",
        "from sklearn.metrics import roc_auc_score\n",
        "from sklearn.metrics import log_loss\n",
        "X_actual = [1, 1, 0, 1, 0, 0, 1, 0, 0, 0]\n",
        "Y_predic = [1, 0, 1, 1, 1, 0, 1, 1, 0, 0]\n",
        "results = confusion_matrix(X_actual, Y_predic)\n",
        "print ('Confusion Matrix :')\n",
        "print(results)\n",
        "print ('Accuracy Score is',accuracy_score(X_actual, Y_predic))\n",
        "print ('Classification Report : ')\n",
        "print (classification_report(X_actual, Y_predic))\n",
        "print('AUC-ROC:',roc_auc_score(X_actual, Y_predic))\n",
        "print('LOGLOSS Value is',log_loss(X_actual, Y_predic))"
      ]
    },
    {
      "cell_type": "markdown",
      "metadata": {
        "id": "A4MNwr3cJEW9"
      },
      "source": [
        "# Decision tree"
      ]
    },
    {
      "cell_type": "code",
      "execution_count": null,
      "metadata": {
        "id": "hhBGJHTwJEW-"
      },
      "outputs": [],
      "source": [
        "import pandas as pd\n",
        "import numpy as np\n",
        "import matplotlib.pyplot as plt\n",
        "import seaborn as sns\n",
        "#%matplotlib inline#for encoding\n",
        "from sklearn.preprocessing import LabelEncoder#for train test splitting\n",
        "from sklearn.model_selection import train_test_split#for decision tree object\n",
        "from sklearn.tree import DecisionTreeClassifier#for checking testing results\n",
        "from sklearn.metrics import classification_report, confusion_matrix#for visualizing tree \n",
        "from sklearn.tree import plot_tree"
      ]
    },
    {
      "cell_type": "code",
      "execution_count": null,
      "metadata": {
        "id": "ikVbvwTcJEW_",
        "outputId": "9aa6e652-4afe-49ce-cb02-6cc4f38cf57c"
      },
      "outputs": [
        {
          "data": {
            "text/html": [
              "<div>\n",
              "<style scoped>\n",
              "    .dataframe tbody tr th:only-of-type {\n",
              "        vertical-align: middle;\n",
              "    }\n",
              "\n",
              "    .dataframe tbody tr th {\n",
              "        vertical-align: top;\n",
              "    }\n",
              "\n",
              "    .dataframe thead th {\n",
              "        text-align: right;\n",
              "    }\n",
              "</style>\n",
              "<table border=\"1\" class=\"dataframe\">\n",
              "  <thead>\n",
              "    <tr style=\"text-align: right;\">\n",
              "      <th></th>\n",
              "      <th>sepal_length</th>\n",
              "      <th>sepal_width</th>\n",
              "      <th>petal_length</th>\n",
              "      <th>petal_width</th>\n",
              "      <th>species</th>\n",
              "    </tr>\n",
              "  </thead>\n",
              "  <tbody>\n",
              "    <tr>\n",
              "      <th>0</th>\n",
              "      <td>5.1</td>\n",
              "      <td>3.5</td>\n",
              "      <td>1.4</td>\n",
              "      <td>0.2</td>\n",
              "      <td>setosa</td>\n",
              "    </tr>\n",
              "    <tr>\n",
              "      <th>1</th>\n",
              "      <td>4.9</td>\n",
              "      <td>3.0</td>\n",
              "      <td>1.4</td>\n",
              "      <td>0.2</td>\n",
              "      <td>setosa</td>\n",
              "    </tr>\n",
              "    <tr>\n",
              "      <th>2</th>\n",
              "      <td>4.7</td>\n",
              "      <td>3.2</td>\n",
              "      <td>1.3</td>\n",
              "      <td>0.2</td>\n",
              "      <td>setosa</td>\n",
              "    </tr>\n",
              "    <tr>\n",
              "      <th>3</th>\n",
              "      <td>4.6</td>\n",
              "      <td>3.1</td>\n",
              "      <td>1.5</td>\n",
              "      <td>0.2</td>\n",
              "      <td>setosa</td>\n",
              "    </tr>\n",
              "    <tr>\n",
              "      <th>4</th>\n",
              "      <td>5.0</td>\n",
              "      <td>3.6</td>\n",
              "      <td>1.4</td>\n",
              "      <td>0.2</td>\n",
              "      <td>setosa</td>\n",
              "    </tr>\n",
              "  </tbody>\n",
              "</table>\n",
              "</div>"
            ],
            "text/plain": [
              "   sepal_length  sepal_width  petal_length  petal_width species\n",
              "0           5.1          3.5           1.4          0.2  setosa\n",
              "1           4.9          3.0           1.4          0.2  setosa\n",
              "2           4.7          3.2           1.3          0.2  setosa\n",
              "3           4.6          3.1           1.5          0.2  setosa\n",
              "4           5.0          3.6           1.4          0.2  setosa"
            ]
          },
          "execution_count": 7,
          "metadata": {},
          "output_type": "execute_result"
        }
      ],
      "source": [
        "#reading the data\n",
        "df = sns.load_dataset('iris')\n",
        "df.head()"
      ]
    },
    {
      "cell_type": "code",
      "execution_count": null,
      "metadata": {
        "id": "WfysVLwdJEW_",
        "outputId": "516ef942-9785-43e3-8b18-38563cdf3df7"
      },
      "outputs": [
        {
          "name": "stdout",
          "output_type": "stream",
          "text": [
            "<class 'pandas.core.frame.DataFrame'>\n",
            "RangeIndex: 150 entries, 0 to 149\n",
            "Data columns (total 5 columns):\n",
            " #   Column        Non-Null Count  Dtype  \n",
            "---  ------        --------------  -----  \n",
            " 0   sepal_length  150 non-null    float64\n",
            " 1   sepal_width   150 non-null    float64\n",
            " 2   petal_length  150 non-null    float64\n",
            " 3   petal_width   150 non-null    float64\n",
            " 4   species       150 non-null    object \n",
            "dtypes: float64(4), object(1)\n",
            "memory usage: 6.0+ KB\n"
          ]
        }
      ],
      "source": [
        "#getting information of dataset\n",
        "df.info()"
      ]
    },
    {
      "cell_type": "code",
      "execution_count": null,
      "metadata": {
        "id": "k0Xewk5gJEXA",
        "outputId": "0e7fbf77-9472-45cc-d224-f83f2674b7ef"
      },
      "outputs": [
        {
          "data": {
            "text/plain": [
              "(150, 5)"
            ]
          },
          "execution_count": 9,
          "metadata": {},
          "output_type": "execute_result"
        }
      ],
      "source": [
        "df.shape"
      ]
    },
    {
      "cell_type": "code",
      "execution_count": null,
      "metadata": {
        "id": "mFPIXMqZJEXA",
        "outputId": "695e981a-9d23-4cb7-c171-202eeae42198"
      },
      "outputs": [
        {
          "data": {
            "text/plain": [
              "sepal_length    False\n",
              "sepal_width     False\n",
              "petal_length    False\n",
              "petal_width     False\n",
              "species         False\n",
              "dtype: bool"
            ]
          },
          "execution_count": 10,
          "metadata": {},
          "output_type": "execute_result"
        }
      ],
      "source": [
        "df.isnull().any()"
      ]
    },
    {
      "cell_type": "code",
      "execution_count": null,
      "metadata": {
        "id": "EF7ZnGbUJEXB",
        "outputId": "68955ec7-7816-4399-a7e9-b3727d7e6184"
      },
      "outputs": [
        {
          "data": {
            "text/plain": [
              "<seaborn.axisgrid.PairGrid at 0x21ef6a84970>"
            ]
          },
          "execution_count": 11,
          "metadata": {},
          "output_type": "execute_result"
        },
        {
          "data": {
            "image/png": "[encoded data removed]",
            "text/plain": [
              "<Figure size 804.75x720 with 20 Axes>"
            ]
          },
          "metadata": {
            "needs_background": "light"
          },
          "output_type": "display_data"
        }
      ],
      "source": [
        "# let's plot pair plot to visualise the attributes all at once\n",
        "sns.pairplot(data=df, hue = 'species')"
      ]
    },
    {
      "cell_type": "code",
      "execution_count": null,
      "metadata": {
        "id": "F_QkBF1HJEXC",
        "outputId": "25250279-d4e0-4a4d-c894-e2fa32afd6c0"
      },
      "outputs": [
        {
          "data": {
            "text/plain": [
              "<AxesSubplot:>"
            ]
          },
          "execution_count": 12,
          "metadata": {},
          "output_type": "execute_result"
        },
        {
          "data": {
            "image/png": "[encoded data removed]",
            "text/plain": [
              "<Figure size 432x288 with 2 Axes>"
            ]
          },
          "metadata": {
            "needs_background": "light"
          },
          "output_type": "display_data"
        }
      ],
      "source": [
        "# correlation matrix\n",
        "sns.heatmap(df.corr())\n"
      ]
    },
    {
      "cell_type": "code",
      "execution_count": null,
      "metadata": {
        "id": "zRiebUntJEXC"
      },
      "outputs": [],
      "source": [
        "target=df['species']\n",
        "df1=df.copy()\n",
        "df1=df1.drop('species',axis=1) #removing whole species column"
      ]
    },
    {
      "cell_type": "code",
      "execution_count": null,
      "metadata": {
        "id": "CDLQORYYJEXD"
      },
      "outputs": [],
      "source": [
        "# Defining the attributes\n",
        "X = df1"
      ]
    },
    {
      "cell_type": "code",
      "execution_count": null,
      "metadata": {
        "id": "yus9KBlVJEXE",
        "outputId": "62c0c32d-d2d8-4482-b23c-5c90409113fa"
      },
      "outputs": [
        {
          "data": {
            "text/plain": [
              "0         setosa\n",
              "1         setosa\n",
              "2         setosa\n",
              "3         setosa\n",
              "4         setosa\n",
              "         ...    \n",
              "145    virginica\n",
              "146    virginica\n",
              "147    virginica\n",
              "148    virginica\n",
              "149    virginica\n",
              "Name: species, Length: 150, dtype: object"
            ]
          },
          "execution_count": 36,
          "metadata": {},
          "output_type": "execute_result"
        }
      ],
      "source": [
        "target=df['species']\n",
        "target"
      ]
    },
    {
      "cell_type": "code",
      "execution_count": null,
      "metadata": {
        "id": "QjKFi0N6JEXE",
        "outputId": "58da7389-d2e4-4d8d-b22a-3ad1841e655e"
      },
      "outputs": [
        {
          "data": {
            "text/plain": [
              "array([0, 0, 0, 0, 0, 0, 0, 0, 0, 0, 0, 0, 0, 0, 0, 0, 0, 0, 0, 0, 0, 0,\n",
              "       0, 0, 0, 0, 0, 0, 0, 0, 0, 0, 0, 0, 0, 0, 0, 0, 0, 0, 0, 0, 0, 0,\n",
              "       0, 0, 0, 0, 0, 0, 1, 1, 1, 1, 1, 1, 1, 1, 1, 1, 1, 1, 1, 1, 1, 1,\n",
              "       1, 1, 1, 1, 1, 1, 1, 1, 1, 1, 1, 1, 1, 1, 1, 1, 1, 1, 1, 1, 1, 1,\n",
              "       1, 1, 1, 1, 1, 1, 1, 1, 1, 1, 1, 1, 2, 2, 2, 2, 2, 2, 2, 2, 2, 2,\n",
              "       2, 2, 2, 2, 2, 2, 2, 2, 2, 2, 2, 2, 2, 2, 2, 2, 2, 2, 2, 2, 2, 2,\n",
              "       2, 2, 2, 2, 2, 2, 2, 2, 2, 2, 2, 2, 2, 2, 2, 2, 2, 2])"
            ]
          },
          "execution_count": 37,
          "metadata": {},
          "output_type": "execute_result"
        }
      ],
      "source": [
        "#label encoding\n",
        "le = LabelEncoder()\n",
        "target = le.fit_transform(target)\n",
        "target"
      ]
    },
    {
      "cell_type": "code",
      "execution_count": null,
      "metadata": {
        "id": "22eNzjKyJEXF"
      },
      "outputs": [],
      "source": [
        "y=target"
      ]
    },
    {
      "cell_type": "code",
      "execution_count": null,
      "metadata": {
        "id": "DpqUCE7cJEXF",
        "outputId": "3cf63655-aa40-4442-c872-d7d8851a5624"
      },
      "outputs": [
        {
          "name": "stdout",
          "output_type": "stream",
          "text": [
            "Training split input-  (120, 4)\n",
            "Testing split input-  (30, 4)\n"
          ]
        }
      ],
      "source": [
        "# Splitting the data - 80:20 ratio\n",
        "X_train, X_test, y_train, y_test = train_test_split(X , y, test_size = 0.2, random_state = 42)\n",
        "print(\"Training split input- \", X_train.shape)\n",
        "print(\"Testing split input- \", X_test.shape)"
      ]
    },
    {
      "cell_type": "code",
      "execution_count": null,
      "metadata": {
        "id": "JEJrVOeqJEXG",
        "outputId": "8a23e425-0a6d-4a30-f180-ad523446cb49"
      },
      "outputs": [
        {
          "name": "stdout",
          "output_type": "stream",
          "text": [
            "Decision Tree Classifier Created\n"
          ]
        }
      ],
      "source": [
        "# Defining the decision tree algorithm\n",
        "dtree=DecisionTreeClassifier()\n",
        "dtree.fit(X_train,y_train)\n",
        "print('Decision Tree Classifier Created')"
      ]
    },
    {
      "cell_type": "code",
      "execution_count": null,
      "metadata": {
        "id": "qWPoQLMCJEXH",
        "outputId": "1bced3d9-a324-46b8-8418-bc3fadcb2651"
      },
      "outputs": [
        {
          "name": "stdout",
          "output_type": "stream",
          "text": [
            "Classification report - \n",
            "               precision    recall  f1-score   support\n",
            "\n",
            "           0       1.00      1.00      1.00        10\n",
            "           1       1.00      1.00      1.00         9\n",
            "           2       1.00      1.00      1.00        11\n",
            "\n",
            "    accuracy                           1.00        30\n",
            "   macro avg       1.00      1.00      1.00        30\n",
            "weighted avg       1.00      1.00      1.00        30\n",
            "\n"
          ]
        }
      ],
      "source": [
        "# Predicting the values of test data\n",
        "y_pred = dtree.predict(X_test)\n",
        "print(\"Classification report - \\n\", classification_report(y_test,y_pred))"
      ]
    },
    {
      "cell_type": "code",
      "execution_count": null,
      "metadata": {
        "id": "IXV7-L3xJEXH",
        "outputId": "4132aad2-d69b-4520-fec1-c0c908fe4454"
      },
      "outputs": [
        {
          "data": {
            "text/plain": [
              "Text(0.5, 1.0, 'Accuracy Score: 1.0')"
            ]
          },
          "execution_count": 45,
          "metadata": {},
          "output_type": "execute_result"
        },
        {
          "data": {
            "image/png": "[encoded data removed]",
            "text/plain": [
              "<Figure size 360x360 with 2 Axes>"
            ]
          },
          "metadata": {
            "needs_background": "light"
          },
          "output_type": "display_data"
        }
      ],
      "source": [
        "cm = confusion_matrix(y_test, y_pred)\n",
        "plt.figure(figsize=(5,5))\n",
        "sns.heatmap(data=cm,linewidths=.5, annot=True,square = True,  cmap = 'Blues')\n",
        "plt.ylabel('Actual label')\n",
        "plt.xlabel('Predicted label')\n",
        "all_sample_title = 'Accuracy Score: {0}'.format(dtree.score(X_test, y_test))\n",
        "plt.title(all_sample_title, size = 15)"
      ]
    },
    {
      "cell_type": "code",
      "execution_count": null,
      "metadata": {
        "id": "Mltly5c7JEXI",
        "outputId": "aa1cc101-fdb7-45bc-d719-5ee6d00bc6c6"
      },
      "outputs": [
        {
          "data": {
            "image/png": "[encoded data removed]",
            "text/plain": [
              "<Figure size 432x288 with 1 Axes>"
            ]
          },
          "metadata": {
            "needs_background": "light"
          },
          "output_type": "display_data"
        }
      ],
      "source": [
        "# Visualising the graph without the use of graphvizplt.figure(figsize = (20,20))\n",
        "dec_tree = plot_tree(decision_tree=dtree, feature_names = df1.columns, \n",
        "                     class_names =[\"setosa\", \"vercicolor\", \"verginica\"] , filled = True , precision = 4, rounded = True)"
      ]
    },
    {
      "cell_type": "markdown",
      "metadata": {
        "id": "2H1TbdbAJEXJ"
      },
      "source": [
        "# confusion matrix"
      ]
    },
    {
      "cell_type": "code",
      "execution_count": null,
      "metadata": {
        "id": "FqqBrnFUJEXJ"
      },
      "outputs": [],
      "source": []
    }
  ],
  "metadata": {
    "kernelspec": {
      "display_name": "Python 3",
      "language": "python",
      "name": "python3"
    },
    "language_info": {
      "codemirror_mode": {
        "name": "ipython",
        "version": 3
      },
      "file_extension": ".py",
      "mimetype": "text/x-python",
      "name": "python",
      "nbconvert_exporter": "python",
      "pygments_lexer": "ipython3",
      "version": "3.8.5"
    },
    "colab": {
      "provenance": []
    }
  },
  "nbformat": 4,
  "nbformat_minor": 0
}